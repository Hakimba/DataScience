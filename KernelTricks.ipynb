{
 "cells": [
  {
   "cell_type": "markdown",
   "metadata": {},
   "source": [
    "Baaloudj Hakim"
   ]
  },
  {
   "cell_type": "markdown",
   "metadata": {},
   "source": [
    "# 3I026 - Intelligence artificielle & Data science"
   ]
  },
  {
   "cell_type": "markdown",
   "metadata": {},
   "source": [
    "# TP 4 - Perceptron et Kernel tricks"
   ]
  },
  {
   "cell_type": "code",
   "execution_count": 420,
   "metadata": {
    "collapsed": true
   },
   "outputs": [],
   "source": [
    "import numpy as np\n",
    "import pandas as pd\n",
    "from math import sqrt\n",
    "import matplotlib.pyplot as plt\n",
    "import random"
   ]
  },
  {
   "cell_type": "markdown",
   "metadata": {},
   "source": [
    "# PROJET CONSEIL"
   ]
  },
  {
   "cell_type": "markdown",
   "metadata": {},
   "source": [
    "1ere partie \n",
    "    L'analytics :\n",
    "\n",
    "        1/ problématique\n",
    "        2/ méthodologie\n",
    "        3/ implémentation\n",
    "        4/ experimentation\n",
    "        5/ graphique/histo/google visualisation/plotlib nuage de mot etc (faire des choses marrante)\n",
    "        6/ je réflechis -> conclusion\n",
    "        \n",
    "2eme partie\n",
    "    Prediction : \n",
    "    \n",
    "    Problématique : qui va gagner ?\n",
    "    fonction(equipe1,equie2) -> y // +1 0 -1 (win,nul,loose)\n",
    "    \n",
    "    coder les equipes sous forme de vecteurs, par exemple le vecteur de l'equipe 1 est le set des caracteristique décrivant l'equipe 1 (mais décrivant de manière pertinente, pas d'infos inutile pour la prédiction qu'on veut faire)\n",
    "    \n",
    "    questions a se poser\n",
    "    \n",
    "    1/ quel représentation pour 1 equipe ?\n",
    "    2/ quel représentation pour 2 equipes ? = 1 match\n",
    "    3/ quels ensemble train/test ? (découpage temporelle) exemple : j'entraine mon modele sur 2008/2012, et je le test sur 2012/2013"
   ]
  },
  {
   "cell_type": "code",
   "execution_count": 421,
   "metadata": {
    "collapsed": true
   },
   "outputs": [],
   "source": [
    "class LabeledSet:  \n",
    "    \n",
    "    def __init__(self, input_dimension):\n",
    "        self.input_dimension = input_dimension\n",
    "        self.nb_examples = 0\n",
    "    \n",
    "    def addExample(self, vector, label):\n",
    "        if (self.nb_examples == 0):\n",
    "            self.x = np.array([vector])\n",
    "            self.y = np.array([label])\n",
    "        else:\n",
    "            self.x = np.vstack((self.x,vector))\n",
    "            self.y = np.vstack((self.y,label))\n",
    "        \n",
    "        self.nb_examples = self.nb_examples + 1\n",
    "    \n",
    "    #Renvoie la dimension de l'espace d'entrée\n",
    "    def getInputDimension(self):\n",
    "        return self.input_dimension\n",
    "        \n",
    "    #Renvoie le nombre d'exemples dans le set\n",
    "    def size(self):\n",
    "        return self.nb_examples\n",
    "    \n",
    "    #Renvoie la valeur de x_i\n",
    "    def getX(self, i):\n",
    "        return self.x[i]\n",
    "            \n",
    "    #Renvoie la valeur de y_i\n",
    "    def getY(self, i):\n",
    "        return self.y[i]"
   ]
  },
  {
   "cell_type": "code",
   "execution_count": 422,
   "metadata": {
    "collapsed": true
   },
   "outputs": [],
   "source": [
    "class Classifier:\n",
    "    def __init__(self, input_dimension):\n",
    "        self.input_dimension = input_dimension\n",
    "    \n",
    "    #Permet de calculer la prediction sur x => renvoie un score\n",
    "    def predict(self, x):\n",
    "        raise NotImplementedError(\"Please Implement this method\")\n",
    "    \n",
    "    #Permet d'entrainer le modele sur un ensemble de données\n",
    "    def train(self, labeledSet):\n",
    "        raise NotImplementedError(\"Please Implement this method\")\n",
    "    \n",
    "    #Permet de calculer la qualité du système \n",
    "    def accuracy(self, dataset):\n",
    "        nb_ok = 0\n",
    "        for i in range(dataset.size()):\n",
    "            output = self.predict(dataset.getX(i))\n",
    "            if (output * dataset.getY(i)[0] > 0):\n",
    "                nb_ok = nb_ok + 1\n",
    "        acc = nb_ok / (dataset.size() * 1.0)\n",
    "        return acc"
   ]
  },
  {
   "cell_type": "code",
   "execution_count": 423,
   "metadata": {
    "collapsed": true
   },
   "outputs": [],
   "source": [
    "def plot_frontiere(set, classifier, step=20):\n",
    "    mmax = set.x.max(0)\n",
    "    mmin = set.x.min(0)\n",
    "    x1grid, x2grid = np.meshgrid(np.linspace(mmin[0], mmax[0], step), np.linspace(mmin[1], mmax[1], step))\n",
    "    grid = np.hstack((x1grid.reshape(x1grid.size, 1), x2grid.reshape(x2grid.size, 1)))\n",
    "    \n",
    "    # calcul de la prediction pour chaque point de la grille\n",
    "    res = np.array([classifier.predict(grid[i,:]) for i in range(len(grid)) ])\n",
    "    res = res.reshape(x1grid.shape)\n",
    "    # tracé des frontieres\n",
    "    plt.contourf(x1grid, x2grid, res, colors=[\"red\", \"cyan\"], levels=[-1000,0,1000], linewidth=2)"
   ]
  },
  {
   "cell_type": "code",
   "execution_count": 424,
   "metadata": {
    "collapsed": true
   },
   "outputs": [],
   "source": [
    "import matplotlib.pyplot as plt\n",
    "# Permet d'afficher les figures directement dans le notebook:\n",
    "%matplotlib inline\n",
    "\n",
    "def plot2DSet(dataset):\n",
    "    plt.scatter(dataset.x[0:int(dataset.size()/2),0],dataset.x[0:int(dataset.size()/2),1],marker='o')\n",
    "    plt.scatter(dataset.x[int(dataset.size()/2):dataset.size(),0],dataset.x[int(dataset.size()/2):dataset.size(),1],marker='x')"
   ]
  },
  {
   "cell_type": "code",
   "execution_count": 269,
   "metadata": {
    "collapsed": true
   },
   "outputs": [],
   "source": [
    "\n",
    "    \n",
    "   "
   ]
  },
  {
   "cell_type": "code",
   "execution_count": 425,
   "metadata": {
    "collapsed": true
   },
   "outputs": [],
   "source": [
    "class KernelBiais():\n",
    "    \n",
    "    def __init__(self,dimension):\n",
    "        self.dim = dimension\n",
    "    \n",
    "    def __call__(self,x):\n",
    "        return np.append(x,1)\n",
    "    \n",
    "    def output_dim(self):\n",
    "        return self.dim + 1"
   ]
  },
  {
   "cell_type": "code",
   "execution_count": 426,
   "metadata": {
    "collapsed": true
   },
   "outputs": [],
   "source": [
    "class KernelId():\n",
    "    \n",
    "    def __init__(self,dimension):\n",
    "        self.dim = dimension\n",
    "    \n",
    "    def __call__(self,x):\n",
    "        return x\n",
    "    \n",
    "    def output_dim(self):\n",
    "        return self.dim"
   ]
  },
  {
   "cell_type": "code",
   "execution_count": 445,
   "metadata": {},
   "outputs": [],
   "source": [
    "class KernelPoly():\n",
    "    \n",
    "    def __init__(self,dimension):\n",
    "        self.dim = dimension\n",
    "        \n",
    "    def __call__(self,x):\n",
    "        tmp = x[:]\n",
    "        np.append(x,pow(x[0],2))\n",
    "        for i in range(1,len(tmp)):\n",
    "            if(i == len(tmp)-1):\n",
    "                np.append(x,np.dot(tmp[i],tmp[i]))\n",
    "            else:\n",
    "                np.append(x,np.dot(tmp[i],tmp[i+1]))\n",
    "        np.append(x,1)\n",
    "        return x\n",
    "    \n",
    "    def output_dim(self):\n",
    "        return self.dim + self.dim + 1"
   ]
  },
  {
   "cell_type": "code",
   "execution_count": 446,
   "metadata": {},
   "outputs": [
    {
     "name": "stdout",
     "output_type": "stream",
     "text": [
      "[2, 3, 3]\n",
      "[2, 3, 3]\n",
      "5\n"
     ]
    }
   ],
   "source": [
    "kp = KernelPoly(2)\n",
    "\n",
    "print(kp([2,3,3]))\n",
    "print(kp.output_dim())"
   ]
  },
  {
   "cell_type": "markdown",
   "metadata": {},
   "source": [
    "# Données XOR et test du kernel tricks"
   ]
  },
  {
   "cell_type": "code",
   "execution_count": 377,
   "metadata": {},
   "outputs": [
    {
     "data": {
      "image/png": "[encoded data removed]",
      "text/plain": [
       "<matplotlib.figure.Figure at 0x7f6c441bd978>"
      ]
     },
     "metadata": {},
     "output_type": "display_data"
    }
   ],
   "source": [
    "def split(mset,proportion): #fonction qui va me découper mon ensemble en 2 partie, suivant le % 'x'\n",
    "    train_set=LabeledSet(mset.getInputDimension())\n",
    "    test_set=LabeledSet(mset.getInputDimension())\n",
    "    for i in range(mset.size()):\n",
    "        if (random.random()<proportion):\n",
    "            train_set.addExample(mset.getX(i),mset.getY(i)[0])            \n",
    "        else:\n",
    "            test_set.addExample(mset.getX(i),mset.getY(i)[0])\n",
    "\n",
    "    return train_set,test_set\n",
    "\n",
    "#1: Generer le dataset\n",
    "\n",
    "#2: split train/text\n",
    "myset=LabeledSet(2)\n",
    "mean = [2,2]\n",
    "cov = [[0.01,0],[0,0.01]]\n",
    "d=np.random.multivariate_normal(mean,cov,70)\n",
    "for i in range(len(d)):\n",
    "    myset.addExample(d[i],+1)\n",
    "\n",
    "mean = [1,1]\n",
    "cov = [[0.01,0],[0,0.01]]\n",
    "d=np.random.multivariate_normal(mean,cov,70)\n",
    "for i in range(len(d)):\n",
    "    myset.addExample(d[i],+1)\n",
    "    \n",
    "mean = [2,1]\n",
    "cov = [[0.01,0],[0,0.01]]\n",
    "d=np.random.multivariate_normal(mean,cov,70)\n",
    "for i in range(len(d)):\n",
    "    myset.addExample(d[i],-1)\n",
    "\n",
    "mean = [1,2]\n",
    "cov = [[0.01,0],[0,0.01]]\n",
    "d=np.random.multivariate_normal(mean,cov,70)\n",
    "for i in range(len(d)):\n",
    "    myset.addExample(d[i],-1)\n",
    "\n",
    "\n",
    "# mean = [1, 0]    \n",
    "# cov = [[0.01,0],[0,0.01]]\n",
    "# n1_tr,n1_ts = split(np.random.multivariate_normal(mean,cov,70),70)\n",
    "\n",
    "# mean = [0, 1]   \n",
    "# cov = [[0.01,0],[0,0.01]]\n",
    "# n2_tr,n2_ts = split(np.random.multivariate_normal(mean,cov,70),70)\n",
    "train_set,test_set=split(myset,0.5)\n",
    "\n",
    "plot2DSet(train_set)\n",
    "\n",
    "\n",
    "\n"
   ]
  },
  {
   "cell_type": "code",
   "execution_count": 390,
   "metadata": {
    "collapsed": true
   },
   "outputs": [],
   "source": [
    "class Perceptron(Classifier):\n",
    "    \n",
    "    def __init__(self, learning_rate,kernel):\n",
    "        self.learning_rate = learning_rate\n",
    "        self.kernel = kernel\n",
    "        self.theta = np.random.randn(1,kernel.output_dim())\n",
    "        \n",
    "    def train(self,dataset):\n",
    "        for i in range(dataset.size()):\n",
    "            rand = random.uniform(0, dataset.size()) #la valeur random qui va servir a piocher dans le dataset un vecteur random\n",
    "            vec_random = (dataset.getX(int(rand)),dataset.getY(int(rand))) #je pioche un vecteur random et son label associé\n",
    "            \n",
    "            X = self.kernel(vec_random[0]) #je stock le vecteur modifié pour modifier theta après\n",
    "            prediction = self.predict(vec_random[0])\n",
    "            if((prediction * vec_random[1][0]) <= 0):     \n",
    "                self.theta = self.theta+self.learning_rate* X * vec_random[1][0]\n",
    "            \n",
    "            return self.accuracy(dataset)\n",
    "    \n",
    "    def predict(self,x):\n",
    "        return np.dot(self.theta,self.kernel(x))[0]"
   ]
  },
  {
   "cell_type": "code",
   "execution_count": 443,
   "metadata": {},
   "outputs": [
    {
     "ename": "ValueError",
     "evalue": "shapes (1,5) and (2,) not aligned: 5 (dim 1) != 2 (dim 0)",
     "output_type": "error",
     "traceback": [
      "\u001b[0;31m---------------------------------------------------------------------------\u001b[0m",
      "\u001b[0;31mValueError\u001b[0m                                Traceback (most recent call last)",
      "\u001b[0;32m<ipython-input-443-4ecf74dbc738>\u001b[0m in \u001b[0;36m<module>\u001b[0;34m()\u001b[0m\n\u001b[1;32m      4\u001b[0m \u001b[0macc\u001b[0m\u001b[0;34m=\u001b[0m\u001b[0;34m[\u001b[0m\u001b[0;34m]\u001b[0m\u001b[0;34m\u001b[0m\u001b[0m\n\u001b[1;32m      5\u001b[0m \u001b[0;32mfor\u001b[0m \u001b[0mi\u001b[0m \u001b[0;32min\u001b[0m \u001b[0mrange\u001b[0m\u001b[0;34m(\u001b[0m\u001b[0;36m1000\u001b[0m\u001b[0;34m)\u001b[0m\u001b[0;34m:\u001b[0m\u001b[0;34m\u001b[0m\u001b[0m\n\u001b[0;32m----> 6\u001b[0;31m     \u001b[0macc\u001b[0m\u001b[0;34m.\u001b[0m\u001b[0mappend\u001b[0m\u001b[0;34m(\u001b[0m\u001b[0mperc\u001b[0m\u001b[0;34m.\u001b[0m\u001b[0mtrain\u001b[0m\u001b[0;34m(\u001b[0m\u001b[0mtrain_set\u001b[0m\u001b[0;34m)\u001b[0m\u001b[0;34m)\u001b[0m\u001b[0;34m\u001b[0m\u001b[0m\n\u001b[0m\u001b[1;32m      7\u001b[0m \u001b[0mprint\u001b[0m\u001b[0;34m(\u001b[0m\u001b[0macc\u001b[0m\u001b[0;34m[\u001b[0m\u001b[0;34m-\u001b[0m\u001b[0;36m1\u001b[0m\u001b[0;34m]\u001b[0m\u001b[0;34m)\u001b[0m\u001b[0;34m\u001b[0m\u001b[0m\n\u001b[1;32m      8\u001b[0m \u001b[0mplt\u001b[0m\u001b[0;34m.\u001b[0m\u001b[0mplot\u001b[0m\u001b[0;34m(\u001b[0m\u001b[0macc\u001b[0m\u001b[0;34m)\u001b[0m\u001b[0;34m\u001b[0m\u001b[0m\n",
      "\u001b[0;32m<ipython-input-390-978c6034971a>\u001b[0m in \u001b[0;36mtrain\u001b[0;34m(self, dataset)\u001b[0m\n\u001b[1;32m     12\u001b[0m \u001b[0;34m\u001b[0m\u001b[0m\n\u001b[1;32m     13\u001b[0m             \u001b[0mX\u001b[0m \u001b[0;34m=\u001b[0m \u001b[0mself\u001b[0m\u001b[0;34m.\u001b[0m\u001b[0mkernel\u001b[0m\u001b[0;34m(\u001b[0m\u001b[0mvec_random\u001b[0m\u001b[0;34m[\u001b[0m\u001b[0;36m0\u001b[0m\u001b[0;34m]\u001b[0m\u001b[0;34m)\u001b[0m \u001b[0;31m#je stock le vecteur modifié pour modifier theta après\u001b[0m\u001b[0;34m\u001b[0m\u001b[0m\n\u001b[0;32m---> 14\u001b[0;31m             \u001b[0mprediction\u001b[0m \u001b[0;34m=\u001b[0m \u001b[0mself\u001b[0m\u001b[0;34m.\u001b[0m\u001b[0mpredict\u001b[0m\u001b[0;34m(\u001b[0m\u001b[0mvec_random\u001b[0m\u001b[0;34m[\u001b[0m\u001b[0;36m0\u001b[0m\u001b[0;34m]\u001b[0m\u001b[0;34m)\u001b[0m\u001b[0;34m\u001b[0m\u001b[0m\n\u001b[0m\u001b[1;32m     15\u001b[0m             \u001b[0;32mif\u001b[0m\u001b[0;34m(\u001b[0m\u001b[0;34m(\u001b[0m\u001b[0mprediction\u001b[0m \u001b[0;34m*\u001b[0m \u001b[0mvec_random\u001b[0m\u001b[0;34m[\u001b[0m\u001b[0;36m1\u001b[0m\u001b[0;34m]\u001b[0m\u001b[0;34m[\u001b[0m\u001b[0;36m0\u001b[0m\u001b[0;34m]\u001b[0m\u001b[0;34m)\u001b[0m \u001b[0;34m<=\u001b[0m \u001b[0;36m0\u001b[0m\u001b[0;34m)\u001b[0m\u001b[0;34m:\u001b[0m\u001b[0;34m\u001b[0m\u001b[0m\n\u001b[1;32m     16\u001b[0m                 \u001b[0mself\u001b[0m\u001b[0;34m.\u001b[0m\u001b[0mtheta\u001b[0m \u001b[0;34m=\u001b[0m \u001b[0mself\u001b[0m\u001b[0;34m.\u001b[0m\u001b[0mtheta\u001b[0m\u001b[0;34m+\u001b[0m\u001b[0mself\u001b[0m\u001b[0;34m.\u001b[0m\u001b[0mlearning_rate\u001b[0m\u001b[0;34m*\u001b[0m \u001b[0mX\u001b[0m \u001b[0;34m*\u001b[0m \u001b[0mvec_random\u001b[0m\u001b[0;34m[\u001b[0m\u001b[0;36m1\u001b[0m\u001b[0;34m]\u001b[0m\u001b[0;34m[\u001b[0m\u001b[0;36m0\u001b[0m\u001b[0;34m]\u001b[0m\u001b[0;34m\u001b[0m\u001b[0m\n",
      "\u001b[0;32m<ipython-input-390-978c6034971a>\u001b[0m in \u001b[0;36mpredict\u001b[0;34m(self, x)\u001b[0m\n\u001b[1;32m     19\u001b[0m \u001b[0;34m\u001b[0m\u001b[0m\n\u001b[1;32m     20\u001b[0m     \u001b[0;32mdef\u001b[0m \u001b[0mpredict\u001b[0m\u001b[0;34m(\u001b[0m\u001b[0mself\u001b[0m\u001b[0;34m,\u001b[0m\u001b[0mx\u001b[0m\u001b[0;34m)\u001b[0m\u001b[0;34m:\u001b[0m\u001b[0;34m\u001b[0m\u001b[0m\n\u001b[0;32m---> 21\u001b[0;31m         \u001b[0;32mreturn\u001b[0m \u001b[0mnp\u001b[0m\u001b[0;34m.\u001b[0m\u001b[0mdot\u001b[0m\u001b[0;34m(\u001b[0m\u001b[0mself\u001b[0m\u001b[0;34m.\u001b[0m\u001b[0mtheta\u001b[0m\u001b[0;34m,\u001b[0m\u001b[0mself\u001b[0m\u001b[0;34m.\u001b[0m\u001b[0mkernel\u001b[0m\u001b[0;34m(\u001b[0m\u001b[0mx\u001b[0m\u001b[0;34m)\u001b[0m\u001b[0;34m)\u001b[0m\u001b[0;34m[\u001b[0m\u001b[0;36m0\u001b[0m\u001b[0;34m]\u001b[0m\u001b[0;34m\u001b[0m\u001b[0m\n\u001b[0m",
      "\u001b[0;31mValueError\u001b[0m: shapes (1,5) and (2,) not aligned: 5 (dim 1) != 2 (dim 0)"
     ]
    }
   ],
   "source": [
    "kernelB = KernelPoly(2)\n",
    "perc = Perceptron(0.001,kernelB)\n",
    "\n",
    "acc=[]\n",
    "for i in range(1000):\n",
    "    acc.append(perc.train(train_set))\n",
    "print(acc[-1])\n",
    "plt.plot(acc)\n",
    "\n",
    "plt.show()\n",
    "plot_frontiere(train_set,perc,step=20)\n",
    "plot2DSet(train_set)\n",
    "\n"
   ]
  },
  {
   "cell_type": "code",
   "execution_count": 43,
   "metadata": {},
   "outputs": [
    {
     "name": "stdout",
     "output_type": "stream",
     "text": [
      "[1 2 1]\n"
     ]
    }
   ],
   "source": []
  }
 ],
 "metadata": {
  "kernelspec": {
   "display_name": "Python 3",
   "language": "python",
   "name": "python3"
  },
  "language_info": {
   "codemirror_mode": {
    "name": "ipython",
    "version": 3
   },
   "file_extension": ".py",
   "mimetype": "text/x-python",
   "name": "python",
   "nbconvert_exporter": "python",
   "pygments_lexer": "ipython3",
   "version": "3.6.3"
  }
 },
 "nbformat": 4,
 "nbformat_minor": 2
}
