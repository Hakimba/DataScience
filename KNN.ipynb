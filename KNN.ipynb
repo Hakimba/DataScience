{
 "cells": [
  {
   "cell_type": "markdown",
   "metadata": {},
   "source": [
    "**Indiquer dans la boîte ci-dessous vos noms et prénoms**"
   ]
  },
  {
   "cell_type": "markdown",
   "metadata": {},
   "source": [
    "Monome : Baaloudj Hakim"
   ]
  },
  {
   "cell_type": "markdown",
   "metadata": {},
   "source": [
    "# 3I026 - Intelligence artificielle & Data science\n",
    "\n",
    "## TP 2 - k-plus proches voisins (*k-NN*)"
   ]
  },
  {
   "cell_type": "markdown",
   "metadata": {},
   "source": [
    "Dans ce TP, nous allons principalement mettre en place une \"architecture\" de code nous permettant petit à petit de tester différents modèles d'apprentissage supervisé et programmer les k-NN. Nous allons nous restreindre au cas binaire où les données sont étiquetées $+1$ ou $-1$."
   ]
  },
  {
   "cell_type": "code",
   "execution_count": 85,
   "metadata": {},
   "outputs": [],
   "source": [
    "import numpy as np\n",
    "import pandas as pd\n",
    "from math import sqrt"
   ]
  },
  {
   "cell_type": "markdown",
   "metadata": {},
   "source": [
    "**Remarque** La concaténation de vecteurs s'obtient à l'aide de la fonction `vstack` de numpy."
   ]
  },
  {
   "cell_type": "markdown",
   "metadata": {},
   "source": [
    "### Étape 1: dataset\n",
    "\n",
    "La première étape consiste à définir une classe permettant de stocker les données d'apprentissage, de validation et de test. Nous considérerons que les données tiennent en mémoire. Nous allons définir une classe permettant de stocker des couples $\\{(x_1,y_1),...,(x_n,y_n)\\}$. Les $x_i$ et $y_i$ seront des tableaux numpy."
   ]
  },
  {
   "cell_type": "code",
   "execution_count": 3,
   "metadata": {},
   "outputs": [],
   "source": [
    "class LabeledSet:  \n",
    "    \n",
    "    def __init__(self, input_dimension):\n",
    "        self.input_dimension = input_dimension\n",
    "        self.nb_examples = 0\n",
    "    \n",
    "    def addExample(self,vector,label):\n",
    "        if (self.nb_examples == 0):\n",
    "            self.x = np.array([vector])\n",
    "            self.y = np.array([label])\n",
    "        else:\n",
    "            self.x = np.vstack((self.x, vector))\n",
    "            self.y = np.vstack((self.y, label))\n",
    "        \n",
    "        self.nb_examples = self.nb_examples + 1\n",
    "    \n",
    "    #Renvoie la dimension de l'espace d'entrée\n",
    "    def getInputDimension(self):\n",
    "        return self.input_dimension\n",
    "    \n",
    "    #Renvoie le nombre d'exemples dans le set\n",
    "    def size(self):\n",
    "        return self.nb_examples\n",
    "    \n",
    "    #Renvoie la valeur de x_i\n",
    "    def getX(self, i):\n",
    "        return self.x[i]\n",
    "    \n",
    "    def getSizeX(self):\n",
    "        return len(self.x)\n",
    "    \n",
    "    #Renvoie la valeur de y_i\n",
    "    def getY(self, i):\n",
    "        return(self.y[i])\n",
    "    \n",
    "    #renvoie les indices des points d'une classe donnée\n",
    "    def get_by_label(self, label):\n",
    "        return np.where(self.y == label)[0]"
   ]
  },
  {
   "cell_type": "markdown",
   "metadata": {},
   "source": [
    "#### Génération de données ''Jouet''\n",
    "\n",
    "Nous allons pour l'instant nous intéresser à des datasets \"jouet\" générés selon des distributions choisies à la main. Commençons par un dataset en 2 dimensions (entrée) et 1 dimension (sortie): $x_i \\in \\mathbb{R}^2$, $y_i \\in \\{-1;+1\\}$ tel que les données sont générées selon deux gaussiennes. Pour cela, nous utiliserons la fonction `numpy.random.multivariate_normal` - http://docs.scipy.org/doc/numpy/reference/generated/numpy.random.multivariate_normal.html\n",
    "\n",
    "- `positive_center` est le centre de la gaussienne des points positifs (vecteur de taille 2)\n",
    "- `positive_sigma` est la variance de la gaussienne (sous forme de matrice 2*2)\n",
    "- Idem pour `negative`\n",
    "\n",
    "Générer une premiere gaussienne associée au label $+1$.\n",
    "\n",
    "Y ajouter une seconde gaussienne associée au label $-1$."
   ]
  },
  {
   "cell_type": "code",
   "execution_count": 184,
   "metadata": {
    "scrolled": true
   },
   "outputs": [
    {
     "name": "stdout",
     "output_type": "stream",
     "text": [
      "+1 : blue circle\n",
      "-1 : red cross\n"
     ]
    }
   ],
   "source": [
    "import matplotlib.pyplot as plt\n",
    "\n",
    "print(\"+1 : blue circle\\n-1 : red cross\")\n",
    "\n",
    "mean = [3, 7]      \n",
    "cov = [[1,0],[0,5]] \n",
    "Posit = np.random.multivariate_normal(mean,cov,100)\n",
    "\n",
    "mean = [-2, 5]    \n",
    "cov = [[3,0],[0,5]] \n",
    "Negat = np.random.multivariate_normal(mean,cov,100)\n",
    "\n"
   ]
  },
  {
   "cell_type": "markdown",
   "metadata": {},
   "source": [
    "Le data set peut être affiché en utilisant matplotlib (pour vérifier) et plus précisément la fonction `matplotlib.pyplot.scatter` permettant de dessiner un nuage de points - http://matplotlib.org/api/pyplot_api.html#matplotlib.pyplot.scatter -"
   ]
  },
  {
   "cell_type": "code",
   "execution_count": 13,
   "metadata": {},
   "outputs": [],
   "source": [
    "import matplotlib.pyplot as plt\n",
    "# Permet d'afficher les figures directement dans le notebook:\n",
    "%matplotlib inline\n",
    "\n",
    "def plot2DSet(dataset):\n",
    "    plt.scatter(dataset.x[0:int(dataset.size()/2),0],dataset.x[0:int(dataset.size()/2),1],marker='o')\n",
    "    plt.scatter(dataset.x[int(dataset.size()/2):dataset.size(),0],dataset.x[int(dataset.size()/2):dataset.size(),1],marker='x')"
   ]
  },
  {
   "cell_type": "code",
   "execution_count": 5,
   "metadata": {},
   "outputs": [],
   "source": [
    "import matplotlib.pyplot as plt\n",
    "# Permet d'afficher les figures directement dans le notebook:\n",
    "%matplotlib inline\n",
    "\n",
    "def plot2DSet(dataset):\n",
    "    def plot(xy, marker):\n",
    "        plt.scatter(xy[:,0], xy[:,1], marker = marker)\n",
    "    assert dataset.getInputDimension() == 2\n",
    "    plot(dataset.x[dataset.get_by_label(1)], 'o')\n",
    "    plot(dataset.x[dataset.get_by_label(-1)], 'x')"
   ]
  },
  {
   "cell_type": "code",
   "execution_count": 185,
   "metadata": {},
   "outputs": [
    {
     "data": {
      "image/png": "[encoded data removed]",
      "text/plain": [
       "<matplotlib.figure.Figure at 0x7f76199989e8>"
      ]
     },
     "metadata": {},
     "output_type": "display_data"
    }
   ],
   "source": [
    "my_set = LabeledSet(2)\n",
    "for p in Posit:\n",
    "    my_set.addExample(p,+1)\n",
    "for n in Negat:\n",
    "    my_set.addExample(n,-1)\n",
    "\n",
    "\n",
    "plot2DSet(my_set)"
   ]
  },
  {
   "cell_type": "markdown",
   "metadata": {},
   "source": [
    "### Étape 2: les classifieurs\n",
    "\n",
    "Un classifieur (binaire) permet, pour chaque point d'entrée, de calculer un score. Si le score est négatif, la donnée est associée à la classe $-1$, sinon à la classe $+1$. Commençons par définir une classe permettant par la suite de définir plusieurs classifieurs.\n",
    "\n",
    "Pour l'instant les méthodes `train` et `predict` ne seront pas définies car elles dépendent du modèle.\n",
    "\n",
    "La fonction `computeAccuracy` renvoie le pourcentage de points bien classés. Elle peut être définie dès maintenant.\n",
    "\n"
   ]
  },
  {
   "cell_type": "code",
   "execution_count": 7,
   "metadata": {},
   "outputs": [],
   "source": [
    "class Classifier:\n",
    "    def __init__(self, input_dimension):\n",
    "        #raise NotImplementedError(\"Please Implement this method\")\n",
    "        self.input_dimension = input_dimension\n",
    "    #Permet de calculer la prediction sur x => renvoie un score\n",
    "    def predict(self, x):\n",
    "        raise NotImplementedError(\"Please Implement this method\")\n",
    "\n",
    "\n",
    "    #Permet d'entrainer le modele sur un ensemble de données\n",
    "    def train(self, labeledSet):\n",
    "        raise NotImplementedError(\"Please Implement this method\")\n",
    "    \n",
    "    #Permet de calculer la qualité du système \n",
    "    def accuracy(self, dataset):\n",
    "        accu = 0\n",
    "        for i in range(dataset.getSizeX()):\n",
    "            if(self.predict(dataset.getX(i)) == dataset.getY(i)):\n",
    "                accu+=1\n",
    "        return (accu/dataset.getSizeX())"
   ]
  },
  {
   "cell_type": "markdown",
   "metadata": {},
   "source": [
    "Nous allons maintenant définir un classifieur linéaire aléatoire :\n",
    "- la fonction `predict` renvoie la valeur de $\\langle x | w\\rangle$ où $w$ est un vecteur (de taille `input_dimension`) tiré aléatoirement à la construction du classifieur.\n"
   ]
  },
  {
   "cell_type": "code",
   "execution_count": 42,
   "metadata": {
    "scrolled": true
   },
   "outputs": [
    {
     "data": {
      "text/plain": [
       "1"
      ]
     },
     "execution_count": 42,
     "metadata": {},
     "output_type": "execute_result"
    }
   ],
   "source": [
    "class ClassifierRandom(Classifier):\n",
    "    def __init__(self,input_dimension):\n",
    "        super(ClassifierRandom,self).__init__(input_dimension)\n",
    "        self.w = np.random.uniform(-5, 5, (1,input_dimension))[0]\n",
    "    def predict(self,x):\n",
    "        return np.random.choice([-1, 1])\n",
    "\n",
    "l = ClassifierRandom(2)\n",
    "l.predict(my_set.getX(150))"
   ]
  },
  {
   "cell_type": "markdown",
   "metadata": {},
   "source": [
    "Nous allons calculer la performance (*accuracy*) du classifieur random sur un ensemble de 100 points"
   ]
  },
  {
   "cell_type": "code",
   "execution_count": 56,
   "metadata": {},
   "outputs": [
    {
     "name": "stdout",
     "output_type": "stream",
     "text": [
      "0.56\n"
     ]
    }
   ],
   "source": [
    "set_test_accuracy = LabeledSet(2)\n",
    "classif_rand = ClassifierRandom(2)\n",
    "\n",
    "mean = [5, 6]      \n",
    "cov = [[1,0],[0,5]] \n",
    "Posit = np.random.multivariate_normal(mean,cov,50)\n",
    "    \n",
    "mean = [-1, -10]\n",
    "cov = [[1,0],[0,5]] \n",
    "Negat = np.random.multivariate_normal(mean,cov,50)\n",
    "\n",
    "for p in Posit:\n",
    "    set_test_accuracy.addExample(p,+1)\n",
    "for n in Negat:\n",
    "    set_test_accuracy.addExample(n,-1)\n",
    "    \n",
    "print(classif_rand.accuracy(set_test_accuracy))"
   ]
  },
  {
   "cell_type": "markdown",
   "metadata": {},
   "source": [
    "Voici une fonction qui permet de dessiner la frontière de decision d'un classifieur. La valeur `step` permet de choisir la précision du dessin."
   ]
  },
  {
   "cell_type": "code",
   "execution_count": 57,
   "metadata": {},
   "outputs": [],
   "source": [
    "def plot_frontiere(set, classifier, step=20):\n",
    "    mmax = set.x.max(0)\n",
    "    mmin = set.x.min(0)\n",
    "    x1grid, x2grid = np.meshgrid(np.linspace(mmin[0], mmax[0], step), np.linspace(mmin[1], mmax[1], step))\n",
    "    grid = np.hstack((x1grid.reshape(x1grid.size, 1), x2grid.reshape(x2grid.size, 1)))\n",
    "    \n",
    "    # calcul de la prediction pour chaque point de la grille\n",
    "    res = np.array([classifier.predict(grid[i,:]) for i in range(len(grid)) ])\n",
    "    res = res.reshape(x1grid.shape)\n",
    "    # tracé des frontieres\n",
    "    plt.contourf(x1grid, x2grid, res, colors=[\"red\", \"cyan\"], levels=[-1000,0,1000], linewidth=2)"
   ]
  },
  {
   "cell_type": "code",
   "execution_count": 126,
   "metadata": {},
   "outputs": [
    {
     "data": {
      "image/png": "[encoded data removed]",
      "text/plain": [
       "<matplotlib.figure.Figure at 0x7f7619d5ee10>"
      ]
     },
     "metadata": {},
     "output_type": "display_data"
    }
   ],
   "source": [
    "classifieur_random=ClassifierRandom(2)\n",
    "\n",
    "\n",
    "\n",
    "the_set = my_set\n",
    "plot_frontiere(the_set,classifieur_random, step=30)\n",
    "plot2DSet(the_set)"
   ]
  },
  {
   "cell_type": "markdown",
   "metadata": {},
   "source": [
    "### Étape 3 : k-NN\n",
    "\n",
    "L'objectif est de définir le classifieur k-NN. Pour cela nous allons construire un tableau de distances que nous trierons grâce à la méthode `numpy.argsort`."
   ]
  },
  {
   "cell_type": "code",
   "execution_count": 92,
   "metadata": {},
   "outputs": [],
   "source": [
    "class KNN(Classifier):\n",
    "    def __init__(self,input_dimension,k):\n",
    "        super(KNN,self).__init__(input_dimension)\n",
    "        self.k = k\n",
    "        self.dataset = LabeledSet(input_dimension)\n",
    "    def train(self,LabeledSet):\n",
    "        self.dataset = LabeledSet\n",
    "    \n",
    "    def distanceEucli(self,vec1,vec2):\n",
    "        dist = 0\n",
    "        for i in range(self.input_dimension):\n",
    "            dist += pow((vec2[i]-vec1[i]),2)\n",
    "        return sqrt(dist)\n",
    "    \n",
    "    def predict(self,x):\n",
    "        all_dist = [0]*self.dataset.getSizeX()\n",
    "        for i in range(self.dataset.getSizeX()):\n",
    "            all_dist[i] = self.distanceEucli(x,self.dataset.getX(i))\n",
    "        index_sorted = np.argsort(all_dist)\n",
    "        score = 0\n",
    "        for i in range(self.k):\n",
    "            score += self.dataset.getY(index_sorted[i])\n",
    "        if(score < 0):\n",
    "            return -1\n",
    "        return 1\n",
    "        \n",
    "       \n",
    "        "
   ]
  },
  {
   "cell_type": "code",
   "execution_count": 186,
   "metadata": {},
   "outputs": [
    {
     "name": "stdout",
     "output_type": "stream",
     "text": [
      "0.975\n"
     ]
    },
    {
     "data": {
      "image/png": "[encoded data removed]",
      "text/plain": [
       "<matplotlib.figure.Figure at 0x7f76450d8fd0>"
      ]
     },
     "metadata": {},
     "output_type": "display_data"
    }
   ],
   "source": [
    "knn = KNN(2,7) #(dimension,k)\n",
    "knn.train(my_set)\n",
    "plot_frontiere(the_set,knn,30)\n",
    "plot2DSet(the_set)\n",
    "\n",
    "print(knn.accuracy(my_set))"
   ]
  },
  {
   "cell_type": "markdown",
   "metadata": {},
   "source": [
    "### Étape 4: protocole expérimental\n",
    "\n",
    "Attention, lorsque vous testez un classifieur, il est nécessaire de considérer à la fois un ensemble d'apprentissage et un ensemble de test. La performance doit être évaluée sur l'ensemble de test (et non pas sur l'ensemble d'apprentissage)."
   ]
  },
  {
   "cell_type": "code",
   "execution_count": 187,
   "metadata": {},
   "outputs": [],
   "source": [
    "def sample(liste,x): #fonction qui va me découper mon ensemble en 2 partie, suivant le % 'x'\n",
    "    listA = []\n",
    "    listB = []\n",
    "    firstHalf = int(len(liste)*(x/100))\n",
    "    secondHalf = len(liste) - firstHalf\n",
    "    for i in range(firstHalf):\n",
    "        listA.append(liste[i])\n",
    "    for j in range(secondHalf):\n",
    "        listB.append(liste[j])\n",
    "    return listA,listB\n",
    "\n",
    "posit_train, posit_test = sample(Posit,70) #l'ensemble de data train contient 70% du set de base, celui de test contient donc 30%\n",
    "negat_train, negat_test = sample(Negat,70)\n",
    "\n",
    "datatrain = LabeledSet(2)\n",
    "for i in posit_train:\n",
    "    datatrain.addExample(i,+1)\n",
    "for i in negat_train:\n",
    "    datatrain.addExample(i,-1)\n",
    "    \n",
    "datatest = LabeledSet(2)\n",
    "for i in posit_test:\n",
    "    datatest.addExample(i,+1)\n",
    "for i in negat_test:\n",
    "    datatest.addExample(i,-1)\n",
    "\n",
    "    \n",
    "\n"
   ]
  },
  {
   "cell_type": "markdown",
   "metadata": {},
   "source": [
    "#### Travail libre\n",
    "\n",
    "Comparer la performance (en train et test) de plusieurs classifieurs KNN avec différentes valeurs de k. Que pouvez vous constater ?\n",
    "Idéalement, vous tracerez la performance (accuracy) en fonction de la valeur de k.\n",
    "Essayez avec différentes configurations de gaussiennes."
   ]
  },
  {
   "cell_type": "code",
   "execution_count": 196,
   "metadata": {},
   "outputs": [
    {
     "name": "stdout",
     "output_type": "stream",
     "text": [
      "0.95\n",
      "-1\n"
     ]
    },
    {
     "data": {
      "image/png": "[encoded data removed]",
      "text/plain": [
       "<matplotlib.figure.Figure at 0x7f7619ce1ef0>"
      ]
     },
     "metadata": {},
     "output_type": "display_data"
    }
   ],
   "source": [
    "knn2 = KNN(2,7)\n",
    "knn2.train(datatrain)\n",
    "plot_frontiere(datatest,knn2,30)\n",
    "plot2DSet(datatest)\n",
    "print(knn2.accuracy(datatest))\n",
    "\n",
    "print(knn2.predict([0.2,4.0]))\n",
    "\n",
    "#On peut voir sur plus k est petit, plus la performance est elevé car on est dans un cas de sur apprentissage (apprentissage par coeur)\n",
    "#il est donc très performant sur un ensemble de donnée qu'il connait très bien\n",
    "#quand k est trop grand, on est dans un cas de sous apprentissage"
   ]
  },
  {
   "cell_type": "markdown",
   "metadata": {},
   "source": [
    "### Étape 5 : données réelles UCI\n",
    "\n",
    "Plusieurs datasets sont téléchargeables depuis: http://mldata.org\n",
    "\n",
    "Voici la fonction permettant de les charger (en spécifiant leur nom). La fonction se charge de charger les données depuis le web."
   ]
  },
  {
   "cell_type": "code",
   "execution_count": 13,
   "metadata": {},
   "outputs": [
    {
     "name": "stdout",
     "output_type": "stream",
     "text": [
      "(683, 10)\n"
     ]
    }
   ],
   "source": [
    "from sklearn.datasets import fetch_mldata\n",
    "\n",
    "def loadFile(name):\n",
    "    data = fetch_mldata(name, data_home='.')\n",
    "    print(data.data.shape)\n",
    "    unique=np.unique(data.target)\n",
    "    for i in range(len(data.target)):\n",
    "        if (data.target[i]==unique[0]):\n",
    "            data.target[i]=1\n",
    "        else:\n",
    "            data.target[i]=-1\n",
    "            \n",
    "loadFile('breast-cancer_scale')\n",
    "#Les donnees sont dans data.data et data.target"
   ]
  },
  {
   "cell_type": "markdown",
   "metadata": {},
   "source": [
    "Écrire la fonction de split permettant de découper les données en un ensemble d'apprentissage et un ensemble de test."
   ]
  },
  {
   "cell_type": "code",
   "execution_count": null,
   "metadata": {
    "collapsed": true
   },
   "outputs": [],
   "source": []
  },
  {
   "cell_type": "markdown",
   "metadata": {},
   "source": [
    "Tester différents k-NN , pour différents k, et tracer la courbe de performance (accuracy) pour les données d'apprentissage et les données de test."
   ]
  },
  {
   "cell_type": "code",
   "execution_count": null,
   "metadata": {
    "collapsed": true
   },
   "outputs": [],
   "source": []
  }
 ],
 "metadata": {
  "kernelspec": {
   "display_name": "Python 3",
   "language": "python",
   "name": "python3"
  },
  "language_info": {
   "codemirror_mode": {
    "name": "ipython",
    "version": 3
   },
   "file_extension": ".py",
   "mimetype": "text/x-python",
   "name": "python",
   "nbconvert_exporter": "python",
   "pygments_lexer": "ipython3",
   "version": "3.6.3"
  }
 },
 "nbformat": 4,
 "nbformat_minor": 1
}
