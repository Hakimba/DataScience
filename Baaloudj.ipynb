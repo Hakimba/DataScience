{
 "cells": [
  {
   "cell_type": "markdown",
   "metadata": {},
   "source": [
    "IA & Data science -- 2017-2018\n",
    "--------\n",
    "*&copy; Equipe pédagogique: Ludovic Denoyer, Thibault Laugel, Marie-Jeanne Lesot, Christophe Marsala, Olivier Schwander*"
   ]
  },
  {
   "cell_type": "markdown",
   "metadata": {},
   "source": [
    "# TD-TME05: les arbres de décision\n",
    "\n",
    "L'objectif de ce TP est d'implémenter un algorithme d'apprentissage supervisé, l'algorithme de construction d'arbres de décision (cours 6).\n",
    "\n",
    "Comme pour les k-nn, nous allons nous restreindre à un cas binaire où les données sont étiquetées $+1$ ou $-1$. De plus, nous allons ne considérer que le cas où les attributs sont tous numériques."
   ]
  },
  {
   "cell_type": "markdown",
   "metadata": {},
   "source": [
    "<font size=\"+1\">**[Q]**</font> **Indiquer dans la boîte ci-dessous vos noms et prénoms :**"
   ]
  },
  {
   "cell_type": "markdown",
   "metadata": {},
   "source": [
    "Baaloudj hakim"
   ]
  },
  {
   "cell_type": "markdown",
   "metadata": {},
   "source": [
    "<font color=\"RED\" size=\"+1\">IMPORTANT: soumission de votre fichier final</font>\n",
    "\n",
    "**Nom à donner au fichier à poster** : *Nom1_Nom2.ipynb* \n",
    "- *Nom1* et *Nom2* : noms des membres du binôme\n",
    "- ne pas compresser ou faire une archive: envoyer le fichier ipython tel quel, éventuellement, si vous avez d'autres fichiers à envoyer, vous les joignez au message."
   ]
  },
  {
   "cell_type": "markdown",
   "metadata": {},
   "source": [
    "## Préparation\n",
    "\n",
    "Copier l'archive dans votre répertoire de travail: <code>/users/Enseignants/marsala/iads/tp5.tgz</code>\n",
    "\n",
    "Décompresser l'archive, elle crée le répertoire \"tp5\" qui contient un fichier ipython à ouvrir (ce fichier-ci) et un sous-répertoire \"data\" contenant les bases d'apprentissage utilisées dans ce TP.\n",
    "\n",
    "Le but de ce TP est de compléter ce document ipython en ajoutant les fonctions demandées. Avant de commencer, exécuter le bloc suivant afin de pouvoir initialiser des variables utiles \n"
   ]
  },
  {
   "cell_type": "code",
   "execution_count": 2,
   "metadata": {
    "collapsed": true
   },
   "outputs": [],
   "source": [
    "# imports utiles\n",
    "import numpy as np\n",
    "import pandas as pd\n",
    "import math"
   ]
  },
  {
   "cell_type": "markdown",
   "metadata": {
    "collapsed": true
   },
   "source": [
    "## Etape 1: Retour sur les TD-TME précédents\n",
    "\n",
    "Cette partie a été réalisée lors du TD-TME précédent, reprenez ce que vous avez fait en copier-collant votre travail de la semaine dernière.\n",
    "\n",
    "Reprendre la classe <code>LabeledSet</code> du TD_TME précédent pour stocker les données d'apprentissage, de validation et de test. Cette classe permet de stocker des couples $\\{(x_1,y_1),...,(x_n,y_n)\\}$. Les $x_i$ et $y_i$ seront des tableaux numpy. "
   ]
  },
  {
   "cell_type": "code",
   "execution_count": 3,
   "metadata": {
    "collapsed": true
   },
   "outputs": [],
   "source": [
    "class LabeledSet:  \n",
    "    \n",
    "    def __init__(self, input_dimension):\n",
    "        self.input_dimension = input_dimension\n",
    "        self.nb_examples = 0\n",
    "    \n",
    "    def addExample(self,vector,label):\n",
    "        if (self.nb_examples == 0):\n",
    "            self.x = np.array([vector])\n",
    "            self.y = np.array([label])\n",
    "        else:\n",
    "            self.x = np.vstack((self.x, vector))\n",
    "            self.y = np.vstack((self.y, label))\n",
    "        \n",
    "        self.nb_examples = self.nb_examples + 1\n",
    "    \n",
    "    #Renvoie la dimension de l'espace d'entrée\n",
    "    def getInputDimension(self):\n",
    "        return self.input_dimension\n",
    "    \n",
    "    #Renvoie le nombre d'exemples dans le set\n",
    "    def size(self):\n",
    "        return self.nb_examples\n",
    "    \n",
    "    #Renvoie la valeur de x_i\n",
    "    def getX(self, i):\n",
    "        return self.x[i]\n",
    "        \n",
    "    \n",
    "    #Renvouie la valeur de y_i\n",
    "    def getY(self, i):\n",
    "        return(self.y[i])"
   ]
  },
  {
   "cell_type": "markdown",
   "metadata": {},
   "source": [
    "### Génération de données ''Jouet''\n",
    "\n",
    "Comme lors des TD_TME précédents, les fonctions seront testées sur des données \"jouet\" générées selon des distributions choisies à la main. Commençons par un dataset en 2 dimensions (entrée) et 1 dimension (sortie): $x_i \\in \\mathbb{R}^2$, $y_i \\in [-1;+1]$ telles que les données sont généres selon deux Gaussiennes. Pour cela, nous utiliserons la fonction numpy.random.multivariate_normal  - http://docs.scipy.org/doc/numpy/reference/generated/numpy.random.multivariate_normal.html \n",
    "\n",
    "* ''positive_center'' est le centre de la gaussienne des points positifs (vecteur de taille 2)\n",
    "* ''positive_sigma'' est la variance de la gaussienne (sous forme de matrice 2*2)\n",
    "* Idem pour ''negative''\n",
    "\n",
    "* Générer une premiere gaussienne associée au label $+1$\n",
    "* Y rajouter une seconde gaussienne associée au label $-1$\n",
    "\n",
    "<font size=\"+1\">**[Q]**</font>  Dans un premier temps, pour mettre au point les fonctions, génerer une base jouet assez petite (par exemple, 10 exemples de chaque classe)."
   ]
  },
  {
   "cell_type": "code",
   "execution_count": 4,
   "metadata": {
    "collapsed": true
   },
   "outputs": [],
   "source": [
    "mean = [3, 7]\n",
    "cov = [[1,0],[0,5]] \n",
    "Posit = np.random.multivariate_normal(mean,cov,10)\n",
    "\n",
    "mean = [2, 5]    \n",
    "cov = [[3,0],[0,5]] \n",
    "Negat = np.random.multivariate_normal(mean,cov,11)\n",
    "\n",
    "the_set = LabeledSet(2)\n",
    "\n",
    "for i in Negat:\n",
    "    the_set.addExample(i,-1)\n",
    "for i in Posit:\n",
    "    the_set.addExample(i,+1)"
   ]
  },
  {
   "cell_type": "code",
   "execution_count": 5,
   "metadata": {},
   "outputs": [
    {
     "data": {
      "text/plain": [
       "array([[  4.51562618,  10.01791659],\n",
       "       [  1.80867094,   7.49251364],\n",
       "       [  4.71474627,   5.43317505],\n",
       "       [  2.54147943,   5.03781414],\n",
       "       [  3.01871754,   5.04688751],\n",
       "       [  1.6157468 ,   6.2284594 ],\n",
       "       [  4.33028873,  10.99290469],\n",
       "       [  3.75876147,   7.73089749],\n",
       "       [  2.14127517,  12.29945435],\n",
       "       [  4.05757098,   6.83353695]])"
      ]
     },
     "execution_count": 5,
     "metadata": {},
     "output_type": "execute_result"
    }
   ],
   "source": [
    "# the_set = ... # définition d'un LabeledSet avec la fonction précédente\n",
    "\n",
    "S= the_set.x[np.where(the_set.y == 1),:]\n",
    "S[0]"
   ]
  },
  {
   "cell_type": "markdown",
   "metadata": {},
   "source": [
    "Le dataset peut être affiché en utilisant matplotlib (pour vérifier). Nous utiliserons la commande matplotlib.pyplot.scatter permettant de dessiner un nuage de points - http://matplotlib.org/api/pyplot_api.html#matplotlib.pyplot.scatter -"
   ]
  },
  {
   "cell_type": "code",
   "execution_count": 6,
   "metadata": {
    "collapsed": true
   },
   "outputs": [],
   "source": [
    "import matplotlib.pyplot as plt\n",
    "%matplotlib inline \n",
    "\n",
    "def plot2DSet(set):\n",
    "    \"\"\" LabeledSet -> NoneType\n",
    "        Hypothèse: set est de dimension 2\n",
    "        affiche une représentation graphique du LabeledSet\n",
    "        remarque: l'ordre des labels dans set peut être quelconque\n",
    "    \"\"\"\n",
    "    S_pos = set.x[np.where(set.y == 1),:][0]      # tous les exemples de label +1\n",
    "    S_neg = set.x[np.where(set.y == -1),:][0]     # tous les exemples de label -1\n",
    "    plt.scatter(S_pos[:,0],S_pos[:,1],marker='o')\n",
    "    plt.scatter(S_neg[:,0],S_neg[:,1],marker='x')"
   ]
  },
  {
   "cell_type": "code",
   "execution_count": 7,
   "metadata": {},
   "outputs": [
    {
     "data": {
      "image/png": "[encoded data removed]",
      "text/plain": [
       "<matplotlib.figure.Figure at 0x7f4c6eced588>"
      ]
     },
     "metadata": {},
     "output_type": "display_data"
    }
   ],
   "source": [
    "# Essai de la fonction : (the_set : variable du dataset généré précédemment)\n",
    "plot2DSet(the_set)"
   ]
  },
  {
   "cell_type": "markdown",
   "metadata": {},
   "source": [
    "### Les classifieurs\n",
    "\n",
    "La classe <code>Classifier</code> sert toujours de classe de base: l'algorithme d'apprentissage par arbres de décision est un nouveau type de Classifier que l'on va créer.\n"
   ]
  },
  {
   "cell_type": "code",
   "execution_count": 8,
   "metadata": {
    "collapsed": true
   },
   "outputs": [],
   "source": [
    "class Classifier:\n",
    "    def __init__(self,input_dimension):\n",
    "        \"\"\" Constructeur \"\"\"\n",
    "        self.input_dimension = input_dimension\n",
    "    \n",
    "    \n",
    "    # Permet de calculer la prediction sur x => renvoie un score\n",
    "    def predict(self,x):\n",
    "        raise NotImplementedError(\"Please Implement this method\")\n",
    "\n",
    "    \n",
    "    # Permet d'entrainer le modele sur un ensemble de données\n",
    "    def train(self,labeledSet):\n",
    "        raise NotImplementedError(\"Please Implement this method\")\n",
    "    \n",
    "    #Permet de calculer la qualité du système \n",
    "    def accuracy(self, dataset):\n",
    "        nb_ok = 0\n",
    "        for i in range(dataset.size()):\n",
    "            output = self.predict(dataset.getX(i))\n",
    "            if (output * dataset.getY(i) > 0):\n",
    "                nb_ok = nb_ok + 1\n",
    "        acc = nb_ok / (dataset.size() * 1.0)\n",
    "        return acc    "
   ]
  },
  {
   "cell_type": "code",
   "execution_count": 27,
   "metadata": {
    "collapsed": true
   },
   "outputs": [],
   "source": [
    "class ClassifierRandom(Classifier):\n",
    "    def __init__(self,input_dimension):\n",
    "        super(ClassifierRandom,self).__init__(input_dimension)\n",
    "        self.set = LabeledSet(self.input_dimension)\n",
    "        \n",
    "    def train(self,set):\n",
    "        self.set = set\n",
    "    def predict(self,x):\n",
    "        return np.random.choice([-1, 1])\n"
   ]
  },
  {
   "cell_type": "markdown",
   "metadata": {},
   "source": [
    "On reprend la fonction suivante, utilisée lors des TD-TME précédent, pour dessiner la frontière de décision d'un classifieur."
   ]
  },
  {
   "cell_type": "code",
   "execution_count": 9,
   "metadata": {
    "collapsed": true,
    "scrolled": true
   },
   "outputs": [],
   "source": [
    "def plot_frontiere(set,classifier,step=20):\n",
    "    \"\"\" LabeledSet * Classifier * int -> NoneType\n",
    "        Remarque: le 3e argument est optionnel et donne la \"résolution\" du tracé\n",
    "        affiche la frontière de décision associée au classifieur\n",
    "    \"\"\"\n",
    "    mmax = set.x.max(0)\n",
    "    mmin = set.x.min(0)\n",
    "    x1grid, x2grid = np.meshgrid(np.linspace(mmin[0], mmax[0], step), np.linspace(mmin[1], mmax[1], step))\n",
    "    grid = np.hstack((x1grid.reshape(x1grid.size, 1), x2grid.reshape(x2grid.size, 1)))\n",
    "    \n",
    "    # calcul de la prediction pour chaque point de la grille\n",
    "    res = np.array([classifier.predict(grid[i,:]) for i in range(len(grid)) ])\n",
    "    res = res.reshape(x1grid.shape)\n",
    "    # tracé des frontieres\n",
    "    plt.contourf(x1grid, x2grid, res, colors=[\"red\", \"cyan\"], levels=[-1000,0,1000], linewidth=2)    "
   ]
  },
  {
   "cell_type": "code",
   "execution_count": 31,
   "metadata": {},
   "outputs": [
    {
     "name": "stderr",
     "output_type": "stream",
     "text": [
      "/usr/local/lib/python3.6/site-packages/matplotlib/contour.py:967: UserWarning: The following kwargs were not used by contour: 'linewidth'\n",
      "  s)\n"
     ]
    },
    {
     "data": {
      "image/png": "[encoded data removed]",
      "text/plain": [
       "<matplotlib.figure.Figure at 0x10aca2710>"
      ]
     },
     "metadata": {},
     "output_type": "display_data"
    }
   ],
   "source": [
    "# Exemple d'utilisation:\n",
    "classifieur_random=ClassifierRandom(2)   # test avec la classe écrite dans les séances précédentes\n",
    "\n",
    "classifieur_random.train(the_set)        # the_set a été initialisé précédemment\n",
    "\n",
    "plot_frontiere(the_set,classifieur_random)   # on trace la frontière\n",
    "plot2DSet(the_set)                           # on affiche le LabeledSet dessus\n"
   ]
  },
  {
   "cell_type": "markdown",
   "metadata": {},
   "source": [
    "<font size=\"+1\">**[Q]**</font> Ecrire la fonction <code>classe_majoritaire()</code> qui, étant donné un LabeledSet rend la classe majoritaire dans l'ensemble (celle qui est possédée par le plus grand nombre d'exemples donc...). En cas d'égalité, cette fonction rend la classe +1."
   ]
  },
  {
   "cell_type": "code",
   "execution_count": 10,
   "metadata": {
    "collapsed": true
   },
   "outputs": [],
   "source": [
    "def classe_majoritaire(set):\n",
    "    x = 0\n",
    "    y = 0\n",
    "    for i in range(set.size()):\n",
    "        if(set.getY(i) == -1):\n",
    "            y+=1\n",
    "        else:\n",
    "            x+=1\n",
    "    if(x >= y):\n",
    "        return 1\n",
    "    else:\n",
    "        return -1"
   ]
  },
  {
   "cell_type": "code",
   "execution_count": 46,
   "metadata": {},
   "outputs": [
    {
     "data": {
      "text/plain": [
       "-1"
      ]
     },
     "execution_count": 46,
     "metadata": {},
     "output_type": "execute_result"
    }
   ],
   "source": [
    "classe_majoritaire(the_set)"
   ]
  },
  {
   "cell_type": "code",
   "execution_count": 11,
   "metadata": {
    "collapsed": true
   },
   "outputs": [],
   "source": [
    "def proportion(set):\n",
    "    x = 0\n",
    "    y = 0\n",
    "    for i in range(set.size()):\n",
    "        if(set.getY(i) == -1):\n",
    "            y+=1\n",
    "        else:\n",
    "            x+=1\n",
    "    return [(x/set.size()),(y/set.size())]"
   ]
  },
  {
   "cell_type": "code",
   "execution_count": 78,
   "metadata": {},
   "outputs": [
    {
     "data": {
      "text/plain": [
       "1.0"
      ]
     },
     "execution_count": 78,
     "metadata": {},
     "output_type": "execute_result"
    }
   ],
   "source": [
    "sum(proportion(the_set))"
   ]
  },
  {
   "cell_type": "markdown",
   "metadata": {},
   "source": [
    "## Etape 2: Arbres de décision\n",
    "\n",
    "Dans cet étape, on réalise l'implémentation de l'algorithme de construction d'un arbre de décision."
   ]
  },
  {
   "cell_type": "markdown",
   "metadata": {},
   "source": [
    "### Entropie et gain d'information\n",
    "\n",
    "Dans un premier temps, il est nécessaire écrire des fonctions pour calculer l'entropie et le gain d'information vus dans le cours 6.\n",
    "\n",
    "Etant donné une distribution de probabilités $P=(p_1, p_2,..., p_k)$, l'entropie de Shannon de cette distribution est donnée par:\n",
    "\n",
    "$ H_S(P) = -\\sum_{i=1}^{k} p_i \\log_k(p_i)$\n",
    "\n",
    "Par convention, on considère que $0\\log_k(0) = 0$. \n",
    "\n",
    "Le logarithme utilisé est le logarithme en base $k$ afin d'obtenir une valeur normalisée de l'entropie. La base du logarithme est donc $k$, le nombre de classes présentes dans la base au maximum.\n",
    "\n",
    "Dans ce qui suit, en Python, une *distribution de probabilités* est représentée par une liste $P=[p_1,...,p_k]$ de valeurs réelles telle que\n",
    "* pour tout $i=1,..., k$ : $0 \\leq p_i \\leq 1$\n",
    "* $\\sum_{i=1}^{k}p_i = 1$\n"
   ]
  },
  {
   "cell_type": "markdown",
   "metadata": {},
   "source": [
    "<font size=\"+1\">**[Q]**</font> Ecrire la fonction <code>shannon()</code> qui, étant donné une distribution de probabilités $P$, rend la valeur de l'entropie de Shannon correspondante.\n",
    "\n",
    "Remarque: pour nous, en Python, $P$ est représentée par une liste de $k$ valeurs de $[0, 1]$ telle que la somme de toutes les valeurs vaut $1$."
   ]
  },
  {
   "cell_type": "code",
   "execution_count": 12,
   "metadata": {
    "collapsed": true
   },
   "outputs": [],
   "source": [
    "def shannon(distrib):\n",
    "    entropie = 0\n",
    "    for i in range(len(distrib)):\n",
    "        if(distrib[i] == 0):\n",
    "            entropie+=0\n",
    "        else:\n",
    "            entropie += distrib[i] * math.log(distrib[i],len(distrib))\n",
    "    return -entropie"
   ]
  },
  {
   "cell_type": "code",
   "execution_count": 69,
   "metadata": {},
   "outputs": [
    {
     "data": {
      "text/plain": [
       "-0.0"
      ]
     },
     "execution_count": 69,
     "metadata": {},
     "output_type": "execute_result"
    }
   ],
   "source": [
    "shannon([1, 0])"
   ]
  },
  {
   "cell_type": "code",
   "execution_count": 70,
   "metadata": {},
   "outputs": [
    {
     "data": {
      "text/plain": [
       "1.0"
      ]
     },
     "execution_count": 70,
     "metadata": {},
     "output_type": "execute_result"
    }
   ],
   "source": [
    "shannon([0.5, 0.5])"
   ]
  },
  {
   "cell_type": "code",
   "execution_count": 71,
   "metadata": {},
   "outputs": [
    {
     "data": {
      "text/plain": [
       "1.0"
      ]
     },
     "execution_count": 71,
     "metadata": {},
     "output_type": "execute_result"
    }
   ],
   "source": [
    "shannon([0.25, 0.25, 0.25, 0.25])"
   ]
  },
  {
   "cell_type": "code",
   "execution_count": 72,
   "metadata": {},
   "outputs": [
    {
     "data": {
      "text/plain": [
       "0.5783898247235197"
      ]
     },
     "execution_count": 72,
     "metadata": {},
     "output_type": "execute_result"
    }
   ],
   "source": [
    "shannon([0.7, 0.1, 0.2, 0.0])"
   ]
  },
  {
   "cell_type": "code",
   "execution_count": 73,
   "metadata": {},
   "outputs": [
    {
     "data": {
      "text/plain": [
       "0.9182958340544896"
      ]
     },
     "execution_count": 73,
     "metadata": {},
     "output_type": "execute_result"
    }
   ],
   "source": [
    "shannon([1.0/3, 2.0/3])"
   ]
  },
  {
   "cell_type": "markdown",
   "metadata": {},
   "source": [
    "<font size=\"+1\">**[Q]**</font> A l'aide de la fonction <code>shannon()</code>, écrire la fonction <code>entropie()</code> qui prend un LabeledSet en argument et renvoie l'entropie de sa distribution des classes dans cet ensemble."
   ]
  },
  {
   "cell_type": "code",
   "execution_count": 34,
   "metadata": {
    "collapsed": true
   },
   "outputs": [],
   "source": [
    "def entropie(set):\n",
    "    return shannon(proportion(set))"
   ]
  },
  {
   "cell_type": "code",
   "execution_count": 14,
   "metadata": {},
   "outputs": [
    {
     "data": {
      "text/plain": [
       "0.9983636725938131"
      ]
     },
     "execution_count": 14,
     "metadata": {},
     "output_type": "execute_result"
    }
   ],
   "source": [
    "entropie(the_set)"
   ]
  },
  {
   "cell_type": "markdown",
   "metadata": {},
   "source": [
    "### Discrétisation des attributs numériques"
   ]
  },
  {
   "cell_type": "markdown",
   "metadata": {
    "collapsed": true
   },
   "source": [
    "Discrétiser un attribut numérique consiste en trouver un seuil de coupure dans son ensemble de valeurs. Pour trouver ce seuil, on sélectionne le point de coupure qui optimise la distribution des classes des exemples de chaque côté du seuil.\n",
    "\n",
    "Par exemple, soit l'attribut Age contenant les valeurs 17, 18, 20, 27, 35, 37, 40. On discrétise cet attribut en 2 valeurs en déterminant un seuil de coupure comme, par exemple, le seuil 30: cela permet de séparer d'un côté les valeurs inférieures ou égales à 30, et de l'autre les valeurs strictement supérieures à 30.\n",
    "\n",
    "Soit $E$ un ensemble d'exemples, et soit $X$ un attribut que l'on veut discrétiser. Pour cela, on constitue l'ensemble des valeurs prises par les exemples de $E$ pour l'attribut $X$. Soit $X_E$ cet ensemble de valeurs.\n",
    "La discrétisation de $X_E$ s'effectue par les étapes suivantes:\n",
    "- Etape 1: ordonner de façon croissante les valeurs de $X_E$;\n",
    "- Etape 2: regarder tous les seuils possibles de coupure entre 2 valeurs consécutives de $X_E$ (on prend comme seuil de coupure la valeur entre ces 2 valeurs). Chaque seuil trouvé créé 2 intervalles qui générent 2 sous-ensembles de $E$: \n",
    "    1) l'ensemble $E_1$ des exemples dont la valeur pour l'attribut considéré et inférieure ou égale au seuil, et 2) l'ensemble $E_2$ des exemples dont la valeur pour l'attribut considéré et supérieure au seuil;\n",
    "    - pour chacun des seuils trouvés: \n",
    "        - calculer l'entropie de la distribution des classes pour les exemples de l'ensemble $E_1$, et l'entropie de la distribution des classes  pour les exemples de $E_2$;\n",
    "        - calculer l'entropie moyenne de la coupure engendrée par le seuil considéré:\n",
    "$$H_{moy}(coupure) = \\frac{|E_1|}{|E|} H_S(E_1) + \\frac{|E_2|}{|E|} H_S(E_2);$$\n",
    "\n",
    "\n",
    "La meilleure coupure pour discrétiser $X_E$ est celle qui minimise la valeur $H_{moy}(coupure)$.\n",
    "\n",
    "\n",
    "Par exemple, soit $E=\\{17, 18, 20, 27, 35, 37, 40\\}$, chaque valeur étant associées aux classes +1, +1, -1, -1, +1, +1, -1 respectivement. Un seuil de coupure possible est $31$ ($31 = \\frac{27+35}{2}$). Ce seuil coupe $E$ en $E_1=\\{17, 18, 20, 27\\}$ et $E_2=\\{35, 37, 40\\}$.\n",
    "\n",
    "- pour $E_1$, la probabilité de chaque classe est: $p(+1)= 0.5$ et $p(-1)=0.5$ donc, $H_S(E_1)=1$;\n",
    "- pour $E_2$, la probabilité de chaque classe est: $p(+1)= \\frac{1}{3}$ et $p(-1)=\\frac{2}{3}$ donc, $H_S(E_2)=0.9182958340544896$;\n",
    "- on a donc: $$H_{moy}(coupure par 31) = \\frac{4}{7} H_S(E_1) + \\frac{3}{7} H_S(E_2);$$\n",
    "soit $H_{moy}(coupure par 31) = 0.9182958340544896$"
   ]
  },
  {
   "cell_type": "markdown",
   "metadata": {},
   "source": [
    "On considère que the_set est un LabeledSet construit précédement. Il contient deux variables de type array: x et y.\n",
    "\n",
    "Regarder et tester les instructions suivantes, il faut bien comprendre comment elles fonctionnent car on va utiliser les mêmes principes dans les fonctions à écrire."
   ]
  },
  {
   "cell_type": "code",
   "execution_count": 85,
   "metadata": {},
   "outputs": [
    {
     "data": {
      "text/plain": [
       "array([[ 2,  1],\n",
       "       [ 0, 10],\n",
       "       [ 1,  8],\n",
       "       [ 7,  6],\n",
       "       [ 5,  5],\n",
       "       [19,  7],\n",
       "       [ 9,  4],\n",
       "       [10,  0],\n",
       "       [ 4, 15],\n",
       "       [14, 11],\n",
       "       [13,  3],\n",
       "       [17, 16],\n",
       "       [18,  9],\n",
       "       [ 3, 17],\n",
       "       [ 8,  2],\n",
       "       [11, 19],\n",
       "       [15, 18],\n",
       "       [ 6, 14],\n",
       "       [16, 13],\n",
       "       [20, 20],\n",
       "       [12, 12]])"
      ]
     },
     "execution_count": 85,
     "metadata": {},
     "output_type": "execute_result"
    }
   ],
   "source": [
    "ind= np.argsort(the_set.x,axis=0)   # Tri des valeurs de the_set.x selon les colonnes. \n",
    "                                    # La fonction rend un numpy.ndarray contenant autant de \n",
    "                                    # colonnes que the_set.x et dans chaque colonne, on a \n",
    "                                    # la position de l'exemple dans l'ordonnancement croissant.\n",
    "ind # pour afficher\n",
    "#l'indice afficher correspond a l'indice du set.x de base par rapport a son ordre (croissant)\n",
    "#exemple, si l'indice 12 est dans la derniere case du tableau généré\n",
    "#ça veut dire que le 12eme element de set.x est le plus grand"
   ]
  },
  {
   "cell_type": "code",
   "execution_count": 107,
   "metadata": {},
   "outputs": [
    {
     "name": "stdout",
     "output_type": "stream",
     "text": [
      "[-0.29151116  5.27312638]\n",
      "[0.4023676  2.81126905]\n",
      "[-0.42799978  7.03363375]\n",
      "[2.70653627 6.08834109]\n",
      "[2.25705753 5.01764291]\n",
      "[1.38717833 4.43690634]\n",
      "[3.38312206 3.75175029]\n",
      "[0.88891924 4.81279051]\n",
      "[2.91520946 3.25167919]\n",
      "[1.8757405  6.39248948]\n",
      "[2.17271665 3.17929392]\n",
      "[3.15517076 5.88538274]\n",
      "[ 4.87118092 10.62571111]\n",
      "[2.64003526 8.69687172]\n",
      "[2.41553276 7.86527399]\n",
      "[3.31937196 5.73307356]\n",
      "[3.79520009 6.34574964]\n",
      "[2.65861221 6.74877646]\n",
      "[2.68062463 7.32759889]\n",
      "[1.78917968 7.28169657]\n",
      "[4.17071094 9.26974414]\n"
     ]
    }
   ],
   "source": [
    "for i in range(the_set.size()):\n",
    "    print(the_set.getX(i))"
   ]
  },
  {
   "cell_type": "code",
   "execution_count": 108,
   "metadata": {},
   "outputs": [
    {
     "data": {
      "text/plain": [
       "array([[ 0.4023676 ,  2.81126905],\n",
       "       [ 2.17271665,  3.17929392],\n",
       "       [ 2.91520946,  3.25167919],\n",
       "       [ 3.38312206,  3.75175029],\n",
       "       [ 1.38717833,  4.43690634],\n",
       "       [ 0.88891924,  4.81279051],\n",
       "       [ 2.25705753,  5.01764291],\n",
       "       [-0.29151116,  5.27312638],\n",
       "       [ 3.31937196,  5.73307356],\n",
       "       [ 3.15517076,  5.88538274],\n",
       "       [ 2.70653627,  6.08834109],\n",
       "       [ 3.79520009,  6.34574964],\n",
       "       [ 1.8757405 ,  6.39248948],\n",
       "       [ 2.65861221,  6.74877646],\n",
       "       [-0.42799978,  7.03363375],\n",
       "       [ 1.78917968,  7.28169657],\n",
       "       [ 2.68062463,  7.32759889],\n",
       "       [ 2.41553276,  7.86527399],\n",
       "       [ 2.64003526,  8.69687172],\n",
       "       [ 4.17071094,  9.26974414],\n",
       "       [ 4.87118092, 10.62571111]])"
      ]
     },
     "execution_count": 108,
     "metadata": {},
     "output_type": "execute_result"
    }
   ],
   "source": [
    "the_set.x[ind[0:len(the_set.x),1]]  # Rend le numpy.array des exemples de the_set.x ordonnés\n",
    "                                    # selon les indices donnés dans ind (colonne 0)\n"
   ]
  },
  {
   "cell_type": "code",
   "execution_count": 110,
   "metadata": {},
   "outputs": [
    {
     "data": {
      "text/plain": [
       "array([[-1],\n",
       "       [-1],\n",
       "       [-1],\n",
       "       [-1],\n",
       "       [-1],\n",
       "       [ 1],\n",
       "       [-1],\n",
       "       [-1],\n",
       "       [-1],\n",
       "       [ 1],\n",
       "       [ 1],\n",
       "       [ 1],\n",
       "       [ 1],\n",
       "       [-1],\n",
       "       [-1],\n",
       "       [ 1],\n",
       "       [ 1],\n",
       "       [-1],\n",
       "       [ 1],\n",
       "       [ 1],\n",
       "       [ 1]])"
      ]
     },
     "execution_count": 110,
     "metadata": {},
     "output_type": "execute_result"
    }
   ],
   "source": [
    "the_set.y[ind[0:len(the_set.y),0]]  # Rend le numpy.array des exemples de the_set.y ordonnés\n",
    "                                    # selon les indices donnés dans ind (colonne 0)"
   ]
  },
  {
   "cell_type": "code",
   "execution_count": 15,
   "metadata": {},
   "outputs": [
    {
     "ename": "NameError",
     "evalue": "name 'ind' is not defined",
     "output_type": "error",
     "traceback": [
      "\u001b[0;31m---------------------------------------------------------------------------\u001b[0m",
      "\u001b[0;31mNameError\u001b[0m                                 Traceback (most recent call last)",
      "\u001b[0;32m<ipython-input-15-5dd405952011>\u001b[0m in \u001b[0;36m<module>\u001b[0;34m()\u001b[0m\n\u001b[1;32m      1\u001b[0m \u001b[0mcolonne\u001b[0m \u001b[0;34m=\u001b[0m \u001b[0;36m1\u001b[0m    \u001b[0;31m# numéro de la colonne de the_set.x à considérer\u001b[0m\u001b[0;34m\u001b[0m\u001b[0m\n\u001b[0;32m----> 2\u001b[0;31m \u001b[0;32mfor\u001b[0m \u001b[0mv_i\u001b[0m \u001b[0;32min\u001b[0m \u001b[0mind\u001b[0m\u001b[0;34m[\u001b[0m\u001b[0;36m0\u001b[0m\u001b[0;34m:\u001b[0m\u001b[0mlen\u001b[0m\u001b[0;34m(\u001b[0m\u001b[0mthe_set\u001b[0m\u001b[0;34m.\u001b[0m\u001b[0mx\u001b[0m\u001b[0;34m)\u001b[0m\u001b[0;34m]\u001b[0m\u001b[0;34m:\u001b[0m\u001b[0;34m\u001b[0m\u001b[0m\n\u001b[0m\u001b[1;32m      3\u001b[0m     \u001b[0mi\u001b[0m \u001b[0;34m=\u001b[0m \u001b[0mv_i\u001b[0m\u001b[0;34m[\u001b[0m\u001b[0mcolonne\u001b[0m\u001b[0;34m]\u001b[0m\u001b[0;34m\u001b[0m\u001b[0m\n\u001b[1;32m      4\u001b[0m     \u001b[0mexem\u001b[0m \u001b[0;34m=\u001b[0m \u001b[0mthe_set\u001b[0m\u001b[0;34m.\u001b[0m\u001b[0mgetX\u001b[0m\u001b[0;34m(\u001b[0m\u001b[0mi\u001b[0m\u001b[0;34m)\u001b[0m\u001b[0;34m\u001b[0m\u001b[0m\n\u001b[1;32m      5\u001b[0m     \u001b[0mclas\u001b[0m \u001b[0;34m=\u001b[0m \u001b[0mthe_set\u001b[0m\u001b[0;34m.\u001b[0m\u001b[0mgetY\u001b[0m\u001b[0;34m(\u001b[0m\u001b[0mi\u001b[0m\u001b[0;34m)\u001b[0m\u001b[0;34m\u001b[0m\u001b[0m\n",
      "\u001b[0;31mNameError\u001b[0m: name 'ind' is not defined"
     ]
    }
   ],
   "source": [
    "colonne = 1    # numéro de la colonne de the_set.x à considérer\n",
    "for v_i in ind[0:len(the_set.x)]:\n",
    "    i = v_i[colonne]\n",
    "    exem = the_set.getX(i)\n",
    "    clas = the_set.getY(i)\n",
    "    print(\"valeur=\",exem[colonne], \"classe= \", clas[0])"
   ]
  },
  {
   "cell_type": "markdown",
   "metadata": {},
   "source": [
    "Etant donné un LabeledSet, ainsi qu'un numéro de colonne à considérer (qui correspond à un des attributs de description), la fonction <code>discrétise()</code> rend un tuple constitué de la valeur de coupure qui minimise l'entropie de Shannon moyenne, et de la valeur de l'entropie trouvée."
   ]
  },
  {
   "cell_type": "code",
   "execution_count": 16,
   "metadata": {
    "collapsed": true
   },
   "outputs": [],
   "source": [
    "def discretise(LSet, col):\n",
    "    \"\"\" LabelledSet * int -> tuple[float, float]\n",
    "        col est le numéro de colonne sur X à discrétiser\n",
    "        rend la valeur de coupure qui minimise l'entropie ainsi que son entropie.\n",
    "    \"\"\"\n",
    "    # initialisation:\n",
    "    min_entropie = 1.1  # on met à une valeur max car on veut minimiser\n",
    "    min_seuil = 0.0     \n",
    "    # trie des valeurs:\n",
    "    ind= np.argsort(LSet.x,axis=0)\n",
    "    \n",
    "    # calcul des distributions des classes pour E1 et E2:\n",
    "    inf_plus  = 0               # nombre de +1 dans E1\n",
    "    inf_moins = 0               # nombre de -1 dans E1\n",
    "    sup_plus  = 0               # nombre de +1 dans E2\n",
    "    sup_moins = 0               # nombre de -1 dans E2       \n",
    "    # remarque: au départ on considère que E1 est vide et donc E2 correspond à E. \n",
    "    # Ainsi inf_plus et inf_moins valent 0. Il reste à calculer sup_plus et sup_moins \n",
    "    # dans E.\n",
    "    for j in range(0,LSet.size()):\n",
    "        if (LSet.getY(j) == -1):\n",
    "            sup_moins += 1\n",
    "        else:\n",
    "            sup_plus += 1\n",
    "    nb_total = (sup_plus + sup_moins) # nombre d'exemples total dans E\n",
    "    \n",
    "    # parcours pour trouver le meilleur seuil:\n",
    "    for i in range(len(LSet.x)-1):\n",
    "        v_ind_i = ind[i]   # vecteur d'indices\n",
    "        courant = LSet.getX(v_ind_i[col])[col]\n",
    "        lookahead = LSet.getX(ind[i+1][col])[col]\n",
    "        val_seuil = (courant + lookahead) / 2.0;\n",
    "        # M-A-J de la distrib. des classes:\n",
    "        # pour réduire les traitements: on retire un exemple de E2 et on le place\n",
    "        # dans E1, c'est ainsi que l'on déplace donc le seuil de coupure.\n",
    "        if LSet.getY(ind[i][col])[0] == -1:\n",
    "            inf_moins += 1\n",
    "            sup_moins -= 1\n",
    "        else:\n",
    "            inf_plus += 1\n",
    "            sup_plus -= 1\n",
    "        # calcul de la distribution des classes de chaque côté du seuil:\n",
    "        nb_inf = (inf_moins + inf_plus)*1.0     # rem: on en fait un float pour éviter\n",
    "        nb_sup = (sup_moins + sup_plus)*1.0     # que ce soit une division entière.\n",
    "        # calcul de l'entropie de la coupure\n",
    "        val_entropie_inf = shannon([inf_moins / nb_inf, inf_plus  / nb_inf])\n",
    "        val_entropie_sup = shannon([sup_moins / nb_sup, sup_plus  / nb_sup])\n",
    "        val_entropie = (nb_inf / nb_total) * val_entropie_inf + (nb_sup / nb_total) * val_entropie_sup\n",
    "        # si cette coupure minimise l'entropie, on mémorise ce seuil et son entropie:\n",
    "        if (min_entropie > val_entropie):\n",
    "            min_entropie = val_entropie\n",
    "            min_seuil = val_seuil\n",
    "    return (min_seuil, min_entropie)"
   ]
  },
  {
   "cell_type": "code",
   "execution_count": 17,
   "metadata": {},
   "outputs": [
    {
     "data": {
      "text/plain": [
       "(3.7138406573559992, 0.6826957962168057)"
      ]
     },
     "execution_count": 17,
     "metadata": {},
     "output_type": "execute_result"
    }
   ],
   "source": [
    "discretise(the_set,0) # le résultat dépend, bien sûr, de la base jouet"
   ]
  },
  {
   "cell_type": "code",
   "execution_count": 19,
   "metadata": {},
   "outputs": [
    {
     "data": {
      "text/plain": [
       "(4.3155266480768297, 0.7271878117523543)"
      ]
     },
     "execution_count": 19,
     "metadata": {},
     "output_type": "execute_result"
    }
   ],
   "source": [
    "discretise(the_set,1) # le résultat dépend, bien sûr, de la base jouet"
   ]
  },
  {
   "cell_type": "markdown",
   "metadata": {},
   "source": [
    "Une dernière fonction utile permet de diviser une base d'exemples en 2 sous-bases en utilisant un seuil sur la valeur d'un attribut donné.\n",
    "\n",
    "<font size=\"+1\">**[Q]**</font> Ecrire la fonction divise() dont la spécification est:\n",
    "\n",
    "    def divise(LSet,att,seuil):\n",
    "        \"\"\" LSet: LabeledSet\n",
    "            att : numéro d'attribut\n",
    "            seuil : valeur de seuil\n",
    "            rend le tuple contenant les 2 sous-LabeledSet obtenus par la\n",
    "            division de LSet selon le seuil sur l'attribut att\n",
    "        \"\"\"\n",
    "\n"
   ]
  },
  {
   "cell_type": "code",
   "execution_count": 20,
   "metadata": {
    "collapsed": true
   },
   "outputs": [],
   "source": [
    "def divise(LSet,att,seuil):\n",
    "    L1 = LabeledSet(1)\n",
    "    L2 = LabeledSet(1)\n",
    "    \n",
    "    for i in range(LSet.size()):\n",
    "        if(LSet.getX(i)[att] <= seuil):\n",
    "            L1.addExample(LSet.getX(i)[att],LSet.getY(i))\n",
    "        else:\n",
    "            L2.addExample(LSet.getX(i)[att],LSet.getY(i))\n",
    "    return L1,L2\n",
    "    "
   ]
  },
  {
   "cell_type": "code",
   "execution_count": 21,
   "metadata": {},
   "outputs": [
    {
     "name": "stdout",
     "output_type": "stream",
     "text": [
      "entropie inférieur: -0.0  / entropie supérieur: 0.9544340029249649\n"
     ]
    }
   ],
   "source": [
    "Linf, Lsup = divise(the_set,1,5)\n",
    "print(\"entropie inférieur:\",entropie(Linf),\" / entropie supérieur:\", entropie(Lsup))\n",
    "# remarque: les résultats dépendent de votre base jouet..."
   ]
  },
  {
   "cell_type": "markdown",
   "metadata": {},
   "source": [
    "### Représentation d'un arbre en Python"
   ]
  },
  {
   "cell_type": "markdown",
   "metadata": {},
   "source": [
    "Un arbre de décision est doit être représenté en Python, pour cela, on utilise la classe <code>ArbreBinaire</code> suivante:"
   ]
  },
  {
   "cell_type": "code",
   "execution_count": 43,
   "metadata": {},
   "outputs": [],
   "source": [
    "import graphviz as gv\n",
    "\n",
    "class ArbreBinaire:\n",
    "    def __init__(self):\n",
    "        self.attribut = None   # numéro de l'attribut\n",
    "        self.seuil = None\n",
    "        self.inferieur = None # ArbreBinaire Gauche (valeurs <= au seuil)\n",
    "        self.superieur = None # ArbreBinaire Gauche (valeurs > au seuil)\n",
    "        self.classe = None # Classe si c'est une feuille: -1 ou +1\n",
    "        \n",
    "    def est_feuille(self):\n",
    "        \"\"\" rend True si l'arbre est une feuille \"\"\"\n",
    "        return self.seuil == None\n",
    "    \n",
    "    def ajoute_fils(self,ABinf,ABsup,att,seuil):\n",
    "        \"\"\" ABinf, ABsup: 2 arbres binaires\n",
    "            att: numéro d'attribut\n",
    "            seuil: valeur de seuil\n",
    "        \"\"\"\n",
    "        self.attribut = att\n",
    "        self.seuil = seuil\n",
    "        self.inferieur = ABinf\n",
    "        self.superieur = ABsup\n",
    "    \n",
    "    def ajoute_feuille(self,classe):\n",
    "        \"\"\" classe: -1 ou + 1\n",
    "        \"\"\"\n",
    "        self.classe = classe\n",
    "        \n",
    "    def classifie(self,exemple):\n",
    "        \"\"\" exemple : numpy.array\n",
    "            rend la classe de l'exemple: +1 ou -1\n",
    "        \"\"\"\n",
    "        if self.est_feuille():\n",
    "            return self.classe\n",
    "        if exemple[self.attribut] <= self.seuil:\n",
    "            return self.inferieur.classifie(exemple)\n",
    "        return self.superieur.classifie(exemple)    \n",
    "    def to_graph(self, g, prefixe='A'):\n",
    "        \"\"\" construit une représentation de l'arbre pour pouvoir\n",
    "            l'afficher\n",
    "        \"\"\"\n",
    "        if self.est_feuille():\n",
    "            g.node(prefixe,str(self.classe),shape='box')\n",
    "        else:\n",
    "            g.node(prefixe, str(self.attribut))\n",
    "            self.inferieur.to_graph(g,prefixe+\"g\")\n",
    "            self.superieur.to_graph(g,prefixe+\"d\")\n",
    "            g.edge(prefixe,prefixe+\"g\", '<='+ str(self.seuil))\n",
    "            g.edge(prefixe,prefixe+\"d\", '>'+ str(self.seuil))\n",
    "        \n",
    "        return g"
   ]
  },
  {
   "cell_type": "code",
   "execution_count": 44,
   "metadata": {},
   "outputs": [
    {
     "data": {
      "image/svg+xml": [
       "<?xml version=\"1.0\" encoding=\"UTF-8\" standalone=\"no\"?>\n",
       "<!DOCTYPE svg PUBLIC \"-//W3C//DTD SVG 1.1//EN\"\n",
       " \"http://www.w3.org/Graphics/SVG/1.1/DTD/svg11.dtd\">\n",
       "<!-- Generated by graphviz version 2.38.0 (20140413.2041)\n",
       " -->\n",
       "<!-- Title: %3 Pages: 1 -->\n",
       "<svg width=\"170pt\" height=\"218pt\"\n",
       " viewBox=\"0.00 0.00 170.00 218.00\" xmlns=\"http://www.w3.org/2000/svg\" xmlns:xlink=\"http://www.w3.org/1999/xlink\">\n",
       "<g id=\"graph0\" class=\"graph\" transform=\"scale(1 1) rotate(0) translate(4 214)\">\n",
       "<title>%3</title>\n",
       "<polygon fill=\"white\" stroke=\"none\" points=\"-4,4 -4,-214 166,-214 166,4 -4,4\"/>\n",
       "<!-- A -->\n",
       "<g id=\"node1\" class=\"node\"><title>A</title>\n",
       "<ellipse fill=\"none\" stroke=\"black\" cx=\"61\" cy=\"-192\" rx=\"27\" ry=\"18\"/>\n",
       "<text text-anchor=\"middle\" x=\"61\" y=\"-188.3\" font-family=\"Times,serif\" font-size=\"14.00\">nom</text>\n",
       "</g>\n",
       "<!-- Ag -->\n",
       "<g id=\"node2\" class=\"node\"><title>Ag</title>\n",
       "<polygon fill=\"none\" stroke=\"black\" points=\"54,-123 0,-123 0,-87 54,-87 54,-123\"/>\n",
       "<text text-anchor=\"middle\" x=\"27\" y=\"-101.3\" font-family=\"Times,serif\" font-size=\"14.00\">1</text>\n",
       "</g>\n",
       "<!-- A&#45;&gt;Ag -->\n",
       "<g id=\"edge3\" class=\"edge\"><title>A&#45;&gt;Ag</title>\n",
       "<path fill=\"none\" stroke=\"black\" d=\"M45.8161,-176.644C40.5435,-170.769 35.1641,-163.572 32,-156 29.0738,-148.997 27.5591,-140.979 26.8344,-133.445\"/>\n",
       "<polygon fill=\"black\" stroke=\"black\" points=\"30.3187,-133.064 26.2711,-123.273 23.3294,-133.451 30.3187,-133.064\"/>\n",
       "<text text-anchor=\"middle\" x=\"52.5\" y=\"-144.8\" font-family=\"Times,serif\" font-size=\"14.00\">&lt;=42.0</text>\n",
       "</g>\n",
       "<!-- Ad -->\n",
       "<g id=\"node3\" class=\"node\"><title>Ad</title>\n",
       "<ellipse fill=\"none\" stroke=\"black\" cx=\"99\" cy=\"-105\" rx=\"27\" ry=\"18\"/>\n",
       "<text text-anchor=\"middle\" x=\"99\" y=\"-101.3\" font-family=\"Times,serif\" font-size=\"14.00\">age</text>\n",
       "</g>\n",
       "<!-- A&#45;&gt;Ad -->\n",
       "<g id=\"edge4\" class=\"edge\"><title>A&#45;&gt;Ad</title>\n",
       "<path fill=\"none\" stroke=\"black\" d=\"M68.3268,-174.611C73.7415,-162.499 81.2213,-145.768 87.4389,-131.86\"/>\n",
       "<polygon fill=\"black\" stroke=\"black\" points=\"90.8096,-132.896 91.6957,-122.339 84.4191,-130.039 90.8096,-132.896\"/>\n",
       "<text text-anchor=\"middle\" x=\"98.5\" y=\"-144.8\" font-family=\"Times,serif\" font-size=\"14.00\">&gt;42.0</text>\n",
       "</g>\n",
       "<!-- Adg -->\n",
       "<g id=\"node4\" class=\"node\"><title>Adg</title>\n",
       "<polygon fill=\"none\" stroke=\"black\" points=\"90,-36 36,-36 36,-0 90,-0 90,-36\"/>\n",
       "<text text-anchor=\"middle\" x=\"63\" y=\"-14.3\" font-family=\"Times,serif\" font-size=\"14.00\">1</text>\n",
       "</g>\n",
       "<!-- Ad&#45;&gt;Adg -->\n",
       "<g id=\"edge1\" class=\"edge\"><title>Ad&#45;&gt;Adg</title>\n",
       "<path fill=\"none\" stroke=\"black\" d=\"M85.171,-89.3516C80.2998,-83.4397 75.2368,-76.2955 72,-69 68.8522,-61.9053 66.8051,-53.78 65.4738,-46.171\"/>\n",
       "<polygon fill=\"black\" stroke=\"black\" points=\"68.9377,-45.6687 64.0661,-36.2603 62.0073,-46.6532 68.9377,-45.6687\"/>\n",
       "<text text-anchor=\"middle\" x=\"92.5\" y=\"-57.8\" font-family=\"Times,serif\" font-size=\"14.00\">&lt;=30.0</text>\n",
       "</g>\n",
       "<!-- Add -->\n",
       "<g id=\"node5\" class=\"node\"><title>Add</title>\n",
       "<polygon fill=\"none\" stroke=\"black\" points=\"162,-36 108,-36 108,-0 162,-0 162,-36\"/>\n",
       "<text text-anchor=\"middle\" x=\"135\" y=\"-14.3\" font-family=\"Times,serif\" font-size=\"14.00\">None</text>\n",
       "</g>\n",
       "<!-- Ad&#45;&gt;Add -->\n",
       "<g id=\"edge2\" class=\"edge\"><title>Ad&#45;&gt;Add</title>\n",
       "<path fill=\"none\" stroke=\"black\" d=\"M106.112,-87.2067C111.158,-75.2934 118.032,-59.0634 123.809,-45.4242\"/>\n",
       "<polygon fill=\"black\" stroke=\"black\" points=\"127.102,-46.6225 127.779,-36.0493 120.656,-43.8925 127.102,-46.6225\"/>\n",
       "<text text-anchor=\"middle\" x=\"135.5\" y=\"-57.8\" font-family=\"Times,serif\" font-size=\"14.00\">&gt;30.0</text>\n",
       "</g>\n",
       "</g>\n",
       "</svg>\n"
      ],
      "text/plain": [
       "<graphviz.dot.Digraph at 0x7f4c64d32080>"
      ]
     },
     "execution_count": 44,
     "metadata": {},
     "output_type": "execute_result"
    }
   ],
   "source": [
    "# Exemple d'utilisation: \n",
    "un_arbre= ArbreBinaire()\n",
    "un_arbre.ajoute_feuille(1)\n",
    "un_arbre.est_feuille()\n",
    "\n",
    "un_arbre1 = ArbreBinaire()\n",
    "un_arbre1.ajoute_fils(un_arbre,ArbreBinaire(),\"age\",30.0)\n",
    "\n",
    "un_arbre2 = ArbreBinaire()\n",
    "un_arbre2.ajoute_fils(un_arbre,un_arbre1,\"nom\",42.0)\n",
    "\n",
    "\n",
    "gtree = gv.Digraph(format='png')\n",
    "un_arbre2.to_graph(gtree)"
   ]
  },
  {
   "cell_type": "markdown",
   "metadata": {},
   "source": [
    "### Construction de l'arbre de décision"
   ]
  },
  {
   "cell_type": "markdown",
   "metadata": {},
   "source": [
    "Pour construire un arbre de décision, il faut réaliser les étapes suivantes:\n",
    "- si l'entropie de Shannon de la distribution des classes de l'ensemble courant est inférieure à epsilon (réel positif fixé et qui est un paramètre de l'algorithme), alors construire une feuille avec cet ensemble, la classe associée à cette feuille est la classe majoritaire;\n",
    "- sinon, pour chaque attribut, calculer le seuil de discrétisation et l'entropie de Shannon correspondante\n",
    "    - choisir l'attribut qui donne une valeur d'entropie minimale\n",
    "    - l'attribut choisi sert à constituer un noeud de l'arbre de décision, les arcs issus de ce noeud sont labeller par un test (inférieur ou égal ou supérieur) par rapport au seuil trouvé\n",
    "    \n",
    "    \n",
    "<font size=\"+1\">**[Q]**</font> Ecrire la fonction qui construit un arbre de décision (binaire) à partir d'une base d'exemples. En plus de la base d'exemples, on utilise un argument \"epsilon\" qui est un réel >0 et qui sert pour le critère d'arrêt.\n",
    "Cette fonction a la spécification suivante:\n",
    "\n",
    "    def construit_AD(LSet,epsilon):\n",
    "        \"\"\" LSet : LabeledSet\n",
    "            epsilon : seuil d'entropie pour le critère d'arrêt \n",
    "        \"\"\"\n"
   ]
  },
  {
   "cell_type": "code",
   "execution_count": 69,
   "metadata": {
    "collapsed": true
   },
   "outputs": [],
   "source": [
    "def construit_AD(LSet, epsilon):\n",
    "    seuils = []\n",
    "    entropies = []\n",
    "    decision_tree = ArbreBinaire()\n",
    "    if(entropie(LSet) <= epsilon):\n",
    "        leaf = ArbreBinaire()\n",
    "        print(classe_majoritaire(LSet))\n",
    "        leaf.ajoute_feuille(classe_majoritaire(LSet))\n",
    "        leaf.est_feuille()\n",
    "        return leaf\n",
    "    else:\n",
    "        for i in range(LSet.getInputDimension()):\n",
    "            seuil,entrop = discretise(LSet,i)\n",
    "            seuils.append(seuil)\n",
    "            entropies.append(entrop)\n",
    "            ind = entropies.index(min(entropies))\n",
    "            \n",
    "        ds1,ds2 = divise(LSet,ind,seuils[ind])\n",
    "        decision_tree.ajoute_fils(construit_AD(ds1,epsilon),construit_AD(ds2,epsilon),ind,seuils[ind])\n",
    "    return decision_tree"
   ]
  },
  {
   "cell_type": "code",
   "execution_count": 70,
   "metadata": {},
   "outputs": [
    {
     "name": "stdout",
     "output_type": "stream",
     "text": [
      "-1\n",
      "1\n",
      "-1\n",
      "1\n",
      "-1\n",
      "1\n",
      "-1\n",
      "1\n"
     ]
    },
    {
     "data": {
      "image/svg+xml": [
       "<?xml version=\"1.0\" encoding=\"UTF-8\" standalone=\"no\"?>\n",
       "<!DOCTYPE svg PUBLIC \"-//W3C//DTD SVG 1.1//EN\"\n",
       " \"http://www.w3.org/Graphics/SVG/1.1/DTD/svg11.dtd\">\n",
       "<!-- Generated by graphviz version 2.38.0 (20140413.2041)\n",
       " -->\n",
       "<!-- Title: %3 Pages: 1 -->\n",
       "<svg width=\"545pt\" height=\"479pt\"\n",
       " viewBox=\"0.00 0.00 545.00 479.00\" xmlns=\"http://www.w3.org/2000/svg\" xmlns:xlink=\"http://www.w3.org/1999/xlink\">\n",
       "<g id=\"graph0\" class=\"graph\" transform=\"scale(1 1) rotate(0) translate(4 475)\">\n",
       "<title>%3</title>\n",
       "<polygon fill=\"white\" stroke=\"none\" points=\"-4,4 -4,-475 541,-475 541,4 -4,4\"/>\n",
       "<!-- A -->\n",
       "<g id=\"node1\" class=\"node\"><title>A</title>\n",
       "<ellipse fill=\"none\" stroke=\"black\" cx=\"334\" cy=\"-453\" rx=\"27\" ry=\"18\"/>\n",
       "<text text-anchor=\"middle\" x=\"334\" y=\"-449.3\" font-family=\"Times,serif\" font-size=\"14.00\">0</text>\n",
       "</g>\n",
       "<!-- Ag -->\n",
       "<g id=\"node2\" class=\"node\"><title>Ag</title>\n",
       "<ellipse fill=\"none\" stroke=\"black\" cx=\"272\" cy=\"-366\" rx=\"27\" ry=\"18\"/>\n",
       "<text text-anchor=\"middle\" x=\"272\" y=\"-362.3\" font-family=\"Times,serif\" font-size=\"14.00\">0</text>\n",
       "</g>\n",
       "<!-- A&#45;&gt;Ag -->\n",
       "<g id=\"edge13\" class=\"edge\"><title>A&#45;&gt;Ag</title>\n",
       "<path fill=\"none\" stroke=\"black\" d=\"M309.786,-444.709C296.456,-439.332 281.029,-430.55 273,-417 268.983,-410.222 267.689,-401.966 267.691,-394.132\"/>\n",
       "<polygon fill=\"black\" stroke=\"black\" points=\"271.201,-394.097 268.364,-383.889 264.216,-393.638 271.201,-394.097\"/>\n",
       "<text text-anchor=\"middle\" x=\"324\" y=\"-405.8\" font-family=\"Times,serif\" font-size=\"14.00\">&lt;=3.71384065736</text>\n",
       "</g>\n",
       "<!-- Ad -->\n",
       "<g id=\"node15\" class=\"node\"><title>Ad</title>\n",
       "<polygon fill=\"none\" stroke=\"black\" points=\"424,-384 370,-384 370,-348 424,-348 424,-384\"/>\n",
       "<text text-anchor=\"middle\" x=\"397\" y=\"-362.3\" font-family=\"Times,serif\" font-size=\"14.00\">1</text>\n",
       "</g>\n",
       "<!-- A&#45;&gt;Ad -->\n",
       "<g id=\"edge14\" class=\"edge\"><title>A&#45;&gt;Ad</title>\n",
       "<path fill=\"none\" stroke=\"black\" d=\"M351.974,-439.543C359.807,-433.439 368.634,-425.562 375,-417 380.23,-409.966 384.551,-401.494 387.938,-393.539\"/>\n",
       "<polygon fill=\"black\" stroke=\"black\" points=\"391.199,-394.811 391.604,-384.224 384.685,-392.247 391.199,-394.811\"/>\n",
       "<text text-anchor=\"middle\" x=\"430\" y=\"-405.8\" font-family=\"Times,serif\" font-size=\"14.00\">&gt;3.71384065736</text>\n",
       "</g>\n",
       "<!-- Agg -->\n",
       "<g id=\"node3\" class=\"node\"><title>Agg</title>\n",
       "<ellipse fill=\"none\" stroke=\"black\" cx=\"210\" cy=\"-279\" rx=\"27\" ry=\"18\"/>\n",
       "<text text-anchor=\"middle\" x=\"210\" y=\"-275.3\" font-family=\"Times,serif\" font-size=\"14.00\">0</text>\n",
       "</g>\n",
       "<!-- Ag&#45;&gt;Agg -->\n",
       "<g id=\"edge11\" class=\"edge\"><title>Ag&#45;&gt;Agg</title>\n",
       "<path fill=\"none\" stroke=\"black\" d=\"M247.786,-357.709C234.456,-352.332 219.029,-343.55 211,-330 206.983,-323.222 205.689,-314.966 205.691,-307.132\"/>\n",
       "<polygon fill=\"black\" stroke=\"black\" points=\"209.201,-307.097 206.364,-296.889 202.216,-306.638 209.201,-307.097\"/>\n",
       "<text text-anchor=\"middle\" x=\"262\" y=\"-318.8\" font-family=\"Times,serif\" font-size=\"14.00\">&lt;=3.17614337131</text>\n",
       "</g>\n",
       "<!-- Agd -->\n",
       "<g id=\"node14\" class=\"node\"><title>Agd</title>\n",
       "<polygon fill=\"none\" stroke=\"black\" points=\"362,-297 308,-297 308,-261 362,-261 362,-297\"/>\n",
       "<text text-anchor=\"middle\" x=\"335\" y=\"-275.3\" font-family=\"Times,serif\" font-size=\"14.00\">&#45;1</text>\n",
       "</g>\n",
       "<!-- Ag&#45;&gt;Agd -->\n",
       "<g id=\"edge12\" class=\"edge\"><title>Ag&#45;&gt;Agd</title>\n",
       "<path fill=\"none\" stroke=\"black\" d=\"M289.974,-352.543C297.807,-346.439 306.634,-338.562 313,-330 318.23,-322.966 322.551,-314.494 325.938,-306.539\"/>\n",
       "<polygon fill=\"black\" stroke=\"black\" points=\"329.199,-307.811 329.604,-297.224 322.685,-305.247 329.199,-307.811\"/>\n",
       "<text text-anchor=\"middle\" x=\"368\" y=\"-318.8\" font-family=\"Times,serif\" font-size=\"14.00\">&gt;3.17614337131</text>\n",
       "</g>\n",
       "<!-- Aggg -->\n",
       "<g id=\"node4\" class=\"node\"><title>Aggg</title>\n",
       "<ellipse fill=\"none\" stroke=\"black\" cx=\"148\" cy=\"-192\" rx=\"27\" ry=\"18\"/>\n",
       "<text text-anchor=\"middle\" x=\"148\" y=\"-188.3\" font-family=\"Times,serif\" font-size=\"14.00\">0</text>\n",
       "</g>\n",
       "<!-- Agg&#45;&gt;Aggg -->\n",
       "<g id=\"edge9\" class=\"edge\"><title>Agg&#45;&gt;Aggg</title>\n",
       "<path fill=\"none\" stroke=\"black\" d=\"M185.786,-270.709C172.456,-265.332 157.029,-256.55 149,-243 144.983,-236.222 143.689,-227.966 143.691,-220.132\"/>\n",
       "<polygon fill=\"black\" stroke=\"black\" points=\"147.201,-220.097 144.364,-209.889 140.216,-219.638 147.201,-220.097\"/>\n",
       "<text text-anchor=\"middle\" x=\"200\" y=\"-231.8\" font-family=\"Times,serif\" font-size=\"14.00\">&lt;=1.76064025924</text>\n",
       "</g>\n",
       "<!-- Aggd -->\n",
       "<g id=\"node9\" class=\"node\"><title>Aggd</title>\n",
       "<ellipse fill=\"none\" stroke=\"black\" cx=\"273\" cy=\"-192\" rx=\"27\" ry=\"18\"/>\n",
       "<text text-anchor=\"middle\" x=\"273\" y=\"-188.3\" font-family=\"Times,serif\" font-size=\"14.00\">0</text>\n",
       "</g>\n",
       "<!-- Agg&#45;&gt;Aggd -->\n",
       "<g id=\"edge10\" class=\"edge\"><title>Agg&#45;&gt;Aggd</title>\n",
       "<path fill=\"none\" stroke=\"black\" d=\"M227.974,-265.543C235.807,-259.439 244.634,-251.562 251,-243 256.31,-235.858 260.684,-227.233 264.093,-219.173\"/>\n",
       "<polygon fill=\"black\" stroke=\"black\" points=\"267.393,-220.346 267.773,-209.758 260.873,-217.798 267.393,-220.346\"/>\n",
       "<text text-anchor=\"middle\" x=\"307\" y=\"-231.8\" font-family=\"Times,serif\" font-size=\"14.00\">&gt;1.76064025924</text>\n",
       "</g>\n",
       "<!-- Agggg -->\n",
       "<g id=\"node5\" class=\"node\"><title>Agggg</title>\n",
       "<polygon fill=\"none\" stroke=\"black\" points=\"54,-123 0,-123 0,-87 54,-87 54,-123\"/>\n",
       "<text text-anchor=\"middle\" x=\"27\" y=\"-101.3\" font-family=\"Times,serif\" font-size=\"14.00\">&#45;1</text>\n",
       "</g>\n",
       "<!-- Aggg&#45;&gt;Agggg -->\n",
       "<g id=\"edge3\" class=\"edge\"><title>Aggg&#45;&gt;Agggg</title>\n",
       "<path fill=\"none\" stroke=\"black\" d=\"M121.065,-188.555C97.7587,-185.061 64.6423,-176.578 44,-156 37.8142,-149.833 33.8781,-141.332 31.3739,-133.088\"/>\n",
       "<polygon fill=\"black\" stroke=\"black\" points=\"34.7618,-132.208 28.9745,-123.334 27.9645,-133.88 34.7618,-132.208\"/>\n",
       "<text text-anchor=\"middle\" x=\"95\" y=\"-144.8\" font-family=\"Times,serif\" font-size=\"14.00\">&lt;=1.36930953634</text>\n",
       "</g>\n",
       "<!-- Agggd -->\n",
       "<g id=\"node6\" class=\"node\"><title>Agggd</title>\n",
       "<ellipse fill=\"none\" stroke=\"black\" cx=\"152\" cy=\"-105\" rx=\"27\" ry=\"18\"/>\n",
       "<text text-anchor=\"middle\" x=\"152\" y=\"-101.3\" font-family=\"Times,serif\" font-size=\"14.00\">0</text>\n",
       "</g>\n",
       "<!-- Aggg&#45;&gt;Agggd -->\n",
       "<g id=\"edge4\" class=\"edge\"><title>Aggg&#45;&gt;Agggd</title>\n",
       "<path fill=\"none\" stroke=\"black\" d=\"M148.809,-173.799C149.357,-162.163 150.092,-146.548 150.718,-133.237\"/>\n",
       "<polygon fill=\"black\" stroke=\"black\" points=\"154.218,-133.329 151.192,-123.175 147.225,-133 154.218,-133.329\"/>\n",
       "<text text-anchor=\"middle\" x=\"198\" y=\"-144.8\" font-family=\"Times,serif\" font-size=\"14.00\">&gt;1.36930953634</text>\n",
       "</g>\n",
       "<!-- Agggdg -->\n",
       "<g id=\"node7\" class=\"node\"><title>Agggdg</title>\n",
       "<polygon fill=\"none\" stroke=\"black\" points=\"86,-36 32,-36 32,-0 86,-0 86,-36\"/>\n",
       "<text text-anchor=\"middle\" x=\"59\" y=\"-14.3\" font-family=\"Times,serif\" font-size=\"14.00\">1</text>\n",
       "</g>\n",
       "<!-- Agggd&#45;&gt;Agggdg -->\n",
       "<g id=\"edge1\" class=\"edge\"><title>Agggd&#45;&gt;Agggdg</title>\n",
       "<path fill=\"none\" stroke=\"black\" d=\"M125.296,-101.512C104.108,-97.9937 75.6912,-89.5004 61,-69 56.3554,-62.5189 54.7841,-54.2582 54.6795,-46.3269\"/>\n",
       "<polygon fill=\"black\" stroke=\"black\" points=\"58.178,-46.4504 55.2515,-36.2678 51.1893,-46.0529 58.178,-46.4504\"/>\n",
       "<text text-anchor=\"middle\" x=\"112\" y=\"-57.8\" font-family=\"Times,serif\" font-size=\"14.00\">&lt;=1.62219371001</text>\n",
       "</g>\n",
       "<!-- Agggdd -->\n",
       "<g id=\"node8\" class=\"node\"><title>Agggdd</title>\n",
       "<polygon fill=\"none\" stroke=\"black\" points=\"211,-36 157,-36 157,-0 211,-0 211,-36\"/>\n",
       "<text text-anchor=\"middle\" x=\"184\" y=\"-14.3\" font-family=\"Times,serif\" font-size=\"14.00\">&#45;1</text>\n",
       "</g>\n",
       "<!-- Agggd&#45;&gt;Agggdd -->\n",
       "<g id=\"edge2\" class=\"edge\"><title>Agggd&#45;&gt;Agggdd</title>\n",
       "<path fill=\"none\" stroke=\"black\" d=\"M158.322,-87.2067C162.807,-75.2934 168.917,-59.0634 174.052,-45.4242\"/>\n",
       "<polygon fill=\"black\" stroke=\"black\" points=\"177.334,-46.6413 177.581,-36.0493 170.783,-44.1749 177.334,-46.6413\"/>\n",
       "<text text-anchor=\"middle\" x=\"217\" y=\"-57.8\" font-family=\"Times,serif\" font-size=\"14.00\">&gt;1.62219371001</text>\n",
       "</g>\n",
       "<!-- Aggdg -->\n",
       "<g id=\"node10\" class=\"node\"><title>Aggdg</title>\n",
       "<polygon fill=\"none\" stroke=\"black\" points=\"296,-123 242,-123 242,-87 296,-87 296,-123\"/>\n",
       "<text text-anchor=\"middle\" x=\"269\" y=\"-101.3\" font-family=\"Times,serif\" font-size=\"14.00\">1</text>\n",
       "</g>\n",
       "<!-- Aggd&#45;&gt;Aggdg -->\n",
       "<g id=\"edge7\" class=\"edge\"><title>Aggd&#45;&gt;Aggdg</title>\n",
       "<path fill=\"none\" stroke=\"black\" d=\"M271.311,-173.926C270.808,-168.23 270.309,-161.847 270,-156 269.612,-148.66 269.372,-140.707 269.223,-133.349\"/>\n",
       "<polygon fill=\"black\" stroke=\"black\" points=\"272.72,-133.079 269.065,-123.134 265.721,-133.187 272.72,-133.079\"/>\n",
       "<text text-anchor=\"middle\" x=\"321\" y=\"-144.8\" font-family=\"Times,serif\" font-size=\"14.00\">&lt;=2.72837735717</text>\n",
       "</g>\n",
       "<!-- Aggdd -->\n",
       "<g id=\"node11\" class=\"node\"><title>Aggdd</title>\n",
       "<ellipse fill=\"none\" stroke=\"black\" cx=\"394\" cy=\"-105\" rx=\"27\" ry=\"18\"/>\n",
       "<text text-anchor=\"middle\" x=\"394\" y=\"-101.3\" font-family=\"Times,serif\" font-size=\"14.00\">0</text>\n",
       "</g>\n",
       "<!-- Aggd&#45;&gt;Aggdd -->\n",
       "<g id=\"edge8\" class=\"edge\"><title>Aggd&#45;&gt;Aggdd</title>\n",
       "<path fill=\"none\" stroke=\"black\" d=\"M299.554,-187.534C321.412,-183.42 351.956,-174.6 372,-156 378.795,-149.694 383.609,-140.914 386.963,-132.468\"/>\n",
       "<polygon fill=\"black\" stroke=\"black\" points=\"390.32,-133.471 390.262,-122.876 383.7,-131.194 390.32,-133.471\"/>\n",
       "<text text-anchor=\"middle\" x=\"429\" y=\"-144.8\" font-family=\"Times,serif\" font-size=\"14.00\">&gt;2.72837735717</text>\n",
       "</g>\n",
       "<!-- Aggddg -->\n",
       "<g id=\"node12\" class=\"node\"><title>Aggddg</title>\n",
       "<polygon fill=\"none\" stroke=\"black\" points=\"359,-36 305,-36 305,-0 359,-0 359,-36\"/>\n",
       "<text text-anchor=\"middle\" x=\"332\" y=\"-14.3\" font-family=\"Times,serif\" font-size=\"14.00\">&#45;1</text>\n",
       "</g>\n",
       "<!-- Aggdd&#45;&gt;Aggddg -->\n",
       "<g id=\"edge5\" class=\"edge\"><title>Aggdd&#45;&gt;Aggddg</title>\n",
       "<path fill=\"none\" stroke=\"black\" d=\"M369.786,-96.7095C356.456,-91.3315 341.029,-82.5501 333,-69 329.044,-62.3243 327.729,-54.2155 327.692,-46.4881\"/>\n",
       "<polygon fill=\"black\" stroke=\"black\" points=\"331.194,-46.551 328.307,-36.3573 324.207,-46.1269 331.194,-46.551\"/>\n",
       "<text text-anchor=\"middle\" x=\"384\" y=\"-57.8\" font-family=\"Times,serif\" font-size=\"14.00\">&lt;=2.96699641479</text>\n",
       "</g>\n",
       "<!-- Aggddd -->\n",
       "<g id=\"node13\" class=\"node\"><title>Aggddd</title>\n",
       "<polygon fill=\"none\" stroke=\"black\" points=\"484,-36 430,-36 430,-0 484,-0 484,-36\"/>\n",
       "<text text-anchor=\"middle\" x=\"457\" y=\"-14.3\" font-family=\"Times,serif\" font-size=\"14.00\">1</text>\n",
       "</g>\n",
       "<!-- Aggdd&#45;&gt;Aggddd -->\n",
       "<g id=\"edge6\" class=\"edge\"><title>Aggdd&#45;&gt;Aggddd</title>\n",
       "<path fill=\"none\" stroke=\"black\" d=\"M411.974,-91.5433C419.807,-85.4389 428.634,-77.5619 435,-69 440.23,-61.9662 444.551,-53.4943 447.938,-45.5393\"/>\n",
       "<polygon fill=\"black\" stroke=\"black\" points=\"451.199,-46.811 451.604,-36.2239 444.685,-44.2474 451.199,-46.811\"/>\n",
       "<text text-anchor=\"middle\" x=\"490\" y=\"-57.8\" font-family=\"Times,serif\" font-size=\"14.00\">&gt;2.96699641479</text>\n",
       "</g>\n",
       "</g>\n",
       "</svg>\n"
      ],
      "text/plain": [
       "<graphviz.dot.Digraph at 0x7f4c64d77ac8>"
      ]
     },
     "execution_count": 70,
     "metadata": {},
     "output_type": "execute_result"
    }
   ],
   "source": [
    "#test de l'affichage\n",
    "tree = construit_AD(the_set,0.0)\n",
    "gtree = gv.Digraph(format='png')\n",
    "tree.to_graph(gtree)"
   ]
  },
  {
   "cell_type": "markdown",
   "metadata": {},
   "source": [
    "### Classification avec arbre de décision\n"
   ]
  },
  {
   "cell_type": "markdown",
   "metadata": {},
   "source": [
    "Pour classer un nouvel exemple avec un arbre de décision, il faut parcourir l'arbre, de la racine vers une feuille en respectant les tests rencontrés dans chaque arc. Une fois atteint une feuille, la classe de l'exemple est celle présente dans la feuille.\n",
    "\n",
    "La classe ArbreBinaire contient déjà une fonction <code>classifie</code> qui permet de classer un nouvel exemple et de renvoyer la classe +1 ou -1 selon le cas."
   ]
  },
  {
   "cell_type": "markdown",
   "metadata": {},
   "source": [
    "### Implémentation"
   ]
  },
  {
   "cell_type": "markdown",
   "metadata": {},
   "source": [
    "De la même façon que pour le knn, on définit le classifieur <code>ArbreDecision</code> (classe héritant de la classe Classifier vue lors du TD-TME 5) comme suit.\n",
    "\n",
    "Si toutes les fonctions précédentes ont été écrites correctement, il est maintenant possible de construire un arbre de décision à partir de la base jouet.\n"
   ]
  },
  {
   "cell_type": "markdown",
   "metadata": {},
   "source": [
    "## Applications à des données réelles"
   ]
  },
  {
   "cell_type": "code",
   "execution_count": 36,
   "metadata": {
    "collapsed": true
   },
   "outputs": [],
   "source": [
    "class ArbreDecision(Classifier):\n",
    "    # Constructeur\n",
    "    def __init__(self,epsilon):\n",
    "        # valeur seuil d'entropie pour arrêter la construction\n",
    "        self.epsilon= epsilon\n",
    "        self.racine = None\n",
    "    \n",
    "    # Permet de calculer la prediction sur x => renvoie un score\n",
    "    def predict(self,x):\n",
    "        # classification de l'exemple x avec l'arbre de décision\n",
    "        # on rend 0 (classe -1) ou 1 (classe 1)\n",
    "        classe = self.racine.classifie(x)\n",
    "        if (classe == 1):\n",
    "            return(1)\n",
    "        else:\n",
    "            return(-1)\n",
    "    \n",
    "    # Permet d'entrainer le modele sur un ensemble de données\n",
    "    def train(self,set):\n",
    "        # construction de l'arbre de décision \n",
    "        self.set=set\n",
    "        self.racine = construit_AD(set,self.epsilon)\n",
    "\n",
    "    # Permet d'afficher l'arbre\n",
    "    def plot(self):\n",
    "        gtree = gv.Digraph(format='png')\n",
    "        return self.racine.to_graph(gtree)\n",
    "        "
   ]
  },
  {
   "cell_type": "code",
   "execution_count": 120,
   "metadata": {},
   "outputs": [
    {
     "ename": "NameError",
     "evalue": "name 'ArbreDecision' is not defined",
     "output_type": "error",
     "traceback": [
      "\u001b[0;31m---------------------------------------------------------------------------\u001b[0m",
      "\u001b[0;31mNameError\u001b[0m                                 Traceback (most recent call last)",
      "\u001b[0;32m<ipython-input-120-d0e636b55589>\u001b[0m in \u001b[0;36m<module>\u001b[0;34m()\u001b[0m\n\u001b[1;32m      1\u001b[0m \u001b[0;31m# un exemple d'utilisation:\u001b[0m\u001b[0;34m\u001b[0m\u001b[0;34m\u001b[0m\u001b[0m\n\u001b[0;32m----> 2\u001b[0;31m \u001b[0mad\u001b[0m\u001b[0;34m=\u001b[0m\u001b[0mArbreDecision\u001b[0m\u001b[0;34m(\u001b[0m\u001b[0;36m0.0\u001b[0m\u001b[0;34m)\u001b[0m          \u001b[0;31m# initialiation d'un arbre binaire qui utilisera epsilon= 0.0\u001b[0m\u001b[0;34m\u001b[0m\u001b[0m\n\u001b[0m\u001b[1;32m      3\u001b[0m \u001b[0mad\u001b[0m\u001b[0;34m.\u001b[0m\u001b[0mtrain\u001b[0m\u001b[0;34m(\u001b[0m\u001b[0mthe_set\u001b[0m\u001b[0;34m)\u001b[0m              \u001b[0;31m# construction de l'arbre à partir de la base jouet\u001b[0m\u001b[0;34m\u001b[0m\u001b[0m\n\u001b[1;32m      4\u001b[0m \u001b[0mplot_frontiere\u001b[0m\u001b[0;34m(\u001b[0m\u001b[0mthe_set\u001b[0m\u001b[0;34m,\u001b[0m\u001b[0mad\u001b[0m\u001b[0;34m,\u001b[0m\u001b[0;36m20\u001b[0m\u001b[0;34m)\u001b[0m  \u001b[0;31m# tracé graphique de la frontière de décision\u001b[0m\u001b[0;34m\u001b[0m\u001b[0m\n\u001b[1;32m      5\u001b[0m \u001b[0mplot2DSet\u001b[0m\u001b[0;34m(\u001b[0m\u001b[0mthe_set\u001b[0m\u001b[0;34m)\u001b[0m\u001b[0;34m\u001b[0m\u001b[0m\n",
      "\u001b[0;31mNameError\u001b[0m: name 'ArbreDecision' is not defined"
     ]
    }
   ],
   "source": [
    "# un exemple d'utilisation:\n",
    "ad=ArbreDecision(0.0)          # initialiation d'un arbre binaire qui utilisera epsilon= 0.0\n",
    "ad.train(the_set)              # construction de l'arbre à partir de la base jouet\n",
    "plot_frontiere(the_set,ad,20)  # tracé graphique de la frontière de décision\n",
    "plot2DSet(the_set) "
   ]
  },
  {
   "cell_type": "code",
   "execution_count": 38,
   "metadata": {},
   "outputs": [
    {
     "data": {
      "image/svg+xml": [
       "<?xml version=\"1.0\" encoding=\"UTF-8\" standalone=\"no\"?>\n",
       "<!DOCTYPE svg PUBLIC \"-//W3C//DTD SVG 1.1//EN\"\n",
       " \"http://www.w3.org/Graphics/SVG/1.1/DTD/svg11.dtd\">\n",
       "<!-- Generated by graphviz version 2.38.0 (20140413.2041)\n",
       " -->\n",
       "<!-- Title: %3 Pages: 1 -->\n",
       "<svg width=\"409pt\" height=\"305pt\"\n",
       " viewBox=\"0.00 0.00 409.00 305.00\" xmlns=\"http://www.w3.org/2000/svg\" xmlns:xlink=\"http://www.w3.org/1999/xlink\">\n",
       "<g id=\"graph0\" class=\"graph\" transform=\"scale(1 1) rotate(0) translate(4 301)\">\n",
       "<title>%3</title>\n",
       "<polygon fill=\"white\" stroke=\"none\" points=\"-4,4 -4,-301 405,-301 405,4 -4,4\"/>\n",
       "<!-- A -->\n",
       "<g id=\"node1\" class=\"node\"><title>A</title>\n",
       "<ellipse fill=\"none\" stroke=\"black\" cx=\"112\" cy=\"-279\" rx=\"27\" ry=\"18\"/>\n",
       "<text text-anchor=\"middle\" x=\"112\" y=\"-275.3\" font-family=\"Times,serif\" font-size=\"14.00\">1</text>\n",
       "</g>\n",
       "<!-- Ag -->\n",
       "<g id=\"node2\" class=\"node\"><title>Ag</title>\n",
       "<polygon fill=\"none\" stroke=\"black\" points=\"54,-210 0,-210 0,-174 54,-174 54,-210\"/>\n",
       "<text text-anchor=\"middle\" x=\"27\" y=\"-188.3\" font-family=\"Times,serif\" font-size=\"14.00\">&#45;1</text>\n",
       "</g>\n",
       "<!-- A&#45;&gt;Ag -->\n",
       "<g id=\"edge5\" class=\"edge\"><title>A&#45;&gt;Ag</title>\n",
       "<path fill=\"none\" stroke=\"black\" d=\"M85.592,-274.644C66.1327,-270.647 40.897,-261.933 28,-243 23.5137,-236.414 22.1157,-228.124 22.1682,-220.198\"/>\n",
       "<polygon fill=\"black\" stroke=\"black\" points=\"25.6629,-220.399 22.9351,-210.162 18.6833,-219.866 25.6629,-220.399\"/>\n",
       "<text text-anchor=\"middle\" x=\"101.5\" y=\"-231.8\" font-family=\"Times,serif\" font-size=\"14.00\">&lt;=&#45;0.13452144034842278</text>\n",
       "</g>\n",
       "<!-- Ad -->\n",
       "<g id=\"node3\" class=\"node\"><title>Ad</title>\n",
       "<ellipse fill=\"none\" stroke=\"black\" cx=\"197\" cy=\"-192\" rx=\"27\" ry=\"18\"/>\n",
       "<text text-anchor=\"middle\" x=\"197\" y=\"-188.3\" font-family=\"Times,serif\" font-size=\"14.00\">0</text>\n",
       "</g>\n",
       "<!-- A&#45;&gt;Ad -->\n",
       "<g id=\"edge6\" class=\"edge\"><title>A&#45;&gt;Ad</title>\n",
       "<path fill=\"none\" stroke=\"black\" d=\"M135.103,-269.513C148.215,-263.723 164.127,-254.929 175,-243 181.086,-236.323 185.689,-227.691 189.07,-219.484\"/>\n",
       "<polygon fill=\"black\" stroke=\"black\" points=\"192.448,-220.438 192.605,-209.844 185.876,-218.028 192.448,-220.438\"/>\n",
       "<text text-anchor=\"middle\" x=\"253.5\" y=\"-231.8\" font-family=\"Times,serif\" font-size=\"14.00\">&gt;&#45;0.13452144034842278</text>\n",
       "</g>\n",
       "<!-- Adg -->\n",
       "<g id=\"node4\" class=\"node\"><title>Adg</title>\n",
       "<ellipse fill=\"none\" stroke=\"black\" cx=\"115\" cy=\"-105\" rx=\"27\" ry=\"18\"/>\n",
       "<text text-anchor=\"middle\" x=\"115\" y=\"-101.3\" font-family=\"Times,serif\" font-size=\"14.00\">1</text>\n",
       "</g>\n",
       "<!-- Ad&#45;&gt;Adg -->\n",
       "<g id=\"edge3\" class=\"edge\"><title>Ad&#45;&gt;Adg</title>\n",
       "<path fill=\"none\" stroke=\"black\" d=\"M170.726,-187.192C152.057,-182.975 128.214,-174.185 116,-156 111.557,-149.385 110.171,-141.086 110.222,-133.162\"/>\n",
       "<polygon fill=\"black\" stroke=\"black\" points=\"113.716,-133.367 110.979,-123.132 106.736,-132.84 113.716,-133.367\"/>\n",
       "<text text-anchor=\"middle\" x=\"187\" y=\"-144.8\" font-family=\"Times,serif\" font-size=\"14.00\">&lt;=0.05089629840080001</text>\n",
       "</g>\n",
       "<!-- Add -->\n",
       "<g id=\"node7\" class=\"node\"><title>Add</title>\n",
       "<polygon fill=\"none\" stroke=\"black\" points=\"307,-123 253,-123 253,-87 307,-87 307,-123\"/>\n",
       "<text text-anchor=\"middle\" x=\"280\" y=\"-101.3\" font-family=\"Times,serif\" font-size=\"14.00\">1</text>\n",
       "</g>\n",
       "<!-- Ad&#45;&gt;Add -->\n",
       "<g id=\"edge4\" class=\"edge\"><title>Ad&#45;&gt;Add</title>\n",
       "<path fill=\"none\" stroke=\"black\" d=\"M219.961,-182.08C232.54,-176.236 247.634,-167.532 258,-156 263.95,-149.381 268.494,-140.896 271.863,-132.802\"/>\n",
       "<polygon fill=\"black\" stroke=\"black\" points=\"275.201,-133.868 275.406,-123.276 268.64,-131.428 275.201,-133.868\"/>\n",
       "<text text-anchor=\"middle\" x=\"334\" y=\"-144.8\" font-family=\"Times,serif\" font-size=\"14.00\">&gt;0.05089629840080001</text>\n",
       "</g>\n",
       "<!-- Adgg -->\n",
       "<g id=\"node5\" class=\"node\"><title>Adgg</title>\n",
       "<polygon fill=\"none\" stroke=\"black\" points=\"63,-36 9,-36 9,-0 63,-0 63,-36\"/>\n",
       "<text text-anchor=\"middle\" x=\"36\" y=\"-14.3\" font-family=\"Times,serif\" font-size=\"14.00\">&#45;1</text>\n",
       "</g>\n",
       "<!-- Adg&#45;&gt;Adgg -->\n",
       "<g id=\"edge1\" class=\"edge\"><title>Adg&#45;&gt;Adgg</title>\n",
       "<path fill=\"none\" stroke=\"black\" d=\"M88.9119,-99.7231C71.037,-95.2986 48.5477,-86.4536 37,-69 32.603,-62.3542 31.2303,-54.0469 31.2785,-46.1236\"/>\n",
       "<polygon fill=\"black\" stroke=\"black\" points=\"34.7725,-46.3336 32.0255,-36.101 27.7918,-45.8132 34.7725,-46.3336\"/>\n",
       "<text text-anchor=\"middle\" x=\"105\" y=\"-57.8\" font-family=\"Times,serif\" font-size=\"14.00\">&lt;=1.0254670676269881</text>\n",
       "</g>\n",
       "<!-- Adgd -->\n",
       "<g id=\"node6\" class=\"node\"><title>Adgd</title>\n",
       "<polygon fill=\"none\" stroke=\"black\" points=\"222,-36 168,-36 168,-0 222,-0 222,-36\"/>\n",
       "<text text-anchor=\"middle\" x=\"195\" y=\"-14.3\" font-family=\"Times,serif\" font-size=\"14.00\">1</text>\n",
       "</g>\n",
       "<!-- Adg&#45;&gt;Adgd -->\n",
       "<g id=\"edge2\" class=\"edge\"><title>Adg&#45;&gt;Adgd</title>\n",
       "<path fill=\"none\" stroke=\"black\" d=\"M137.394,-94.5582C149.238,-88.6443 163.293,-80.0409 173,-69 178.876,-62.316 183.401,-53.8134 186.775,-45.7238\"/>\n",
       "<polygon fill=\"black\" stroke=\"black\" points=\"190.108,-46.8035 190.333,-36.211 183.551,-44.3508 190.108,-46.8035\"/>\n",
       "<text text-anchor=\"middle\" x=\"245.5\" y=\"-57.8\" font-family=\"Times,serif\" font-size=\"14.00\">&gt;1.0254670676269881</text>\n",
       "</g>\n",
       "</g>\n",
       "</svg>\n"
      ],
      "text/plain": [
       "<graphviz.dot.Digraph at 0x7fa08e8c4c50>"
      ]
     },
     "execution_count": 38,
     "metadata": {},
     "output_type": "execute_result"
    }
   ],
   "source": [
    "ad.plot()"
   ]
  },
  {
   "cell_type": "markdown",
   "metadata": {},
   "source": [
    "<font size=\"+1\">**[Q]**</font> Appliquer l'algorithme des arbres de décision à des données réelles (par exemple, celles utilisées avec les k-nn) et comparer les résultats obtenus par les 2 algorithmes.\n",
    "\n",
    "Un autre exemple d'utilisation sur une base plus grande:"
   ]
  },
  {
   "cell_type": "code",
   "execution_count": 39,
   "metadata": {
    "scrolled": true
   },
   "outputs": [
    {
     "name": "stdout",
     "output_type": "stream",
     "text": [
      "Taille de la base générée : 200 exemples\n"
     ]
    },
    {
     "data": {
      "image/png": "[encoded data removed]",
      "text/plain": [
       "<matplotlib.figure.Figure at 0x7fa0c09722e8>"
      ]
     },
     "metadata": {},
     "output_type": "display_data"
    }
   ],
   "source": [
    "autre_set=createGaussianDataset(np.array([1,1]),np.array([[1,0],[0,1]]),np.array([-1,-1]),np.array([[1,0],[0,1]]),100)\n",
    "print(\"Taille de la base générée :\", autre_set.size(), \"exemples\")\n",
    "adautre=ArbreDecision(0.0)          \n",
    "adautre.train(autre_set)            \n",
    "plot_frontiere(autre_set,adautre,20)\n",
    "plot2DSet(autre_set) "
   ]
  },
  {
   "cell_type": "code",
   "execution_count": 40,
   "metadata": {},
   "outputs": [
    {
     "data": {
      "image/svg+xml": [
       "<?xml version=\"1.0\" encoding=\"UTF-8\" standalone=\"no\"?>\n",
       "<!DOCTYPE svg PUBLIC \"-//W3C//DTD SVG 1.1//EN\"\n",
       " \"http://www.w3.org/Graphics/SVG/1.1/DTD/svg11.dtd\">\n",
       "<!-- Generated by graphviz version 2.38.0 (20140413.2041)\n",
       " -->\n",
       "<!-- Title: %3 Pages: 1 -->\n",
       "<svg width=\"1261pt\" height=\"566pt\"\n",
       " viewBox=\"0.00 0.00 1261.00 566.00\" xmlns=\"http://www.w3.org/2000/svg\" xmlns:xlink=\"http://www.w3.org/1999/xlink\">\n",
       "<g id=\"graph0\" class=\"graph\" transform=\"scale(1 1) rotate(0) translate(4 562)\">\n",
       "<title>%3</title>\n",
       "<polygon fill=\"white\" stroke=\"none\" points=\"-4,4 -4,-562 1257,-562 1257,4 -4,4\"/>\n",
       "<!-- A -->\n",
       "<g id=\"node1\" class=\"node\"><title>A</title>\n",
       "<ellipse fill=\"none\" stroke=\"black\" cx=\"571\" cy=\"-540\" rx=\"27\" ry=\"18\"/>\n",
       "<text text-anchor=\"middle\" x=\"571\" y=\"-536.3\" font-family=\"Times,serif\" font-size=\"14.00\">1</text>\n",
       "</g>\n",
       "<!-- Ag -->\n",
       "<g id=\"node2\" class=\"node\"><title>Ag</title>\n",
       "<ellipse fill=\"none\" stroke=\"black\" cx=\"469\" cy=\"-453\" rx=\"27\" ry=\"18\"/>\n",
       "<text text-anchor=\"middle\" x=\"469\" y=\"-449.3\" font-family=\"Times,serif\" font-size=\"14.00\">0</text>\n",
       "</g>\n",
       "<!-- A&#45;&gt;Ag -->\n",
       "<g id=\"edge31\" class=\"edge\"><title>A&#45;&gt;Ag</title>\n",
       "<path fill=\"none\" stroke=\"black\" d=\"M545.862,-533.188C528.541,-528.054 506.023,-518.992 491,-504 484.535,-497.548 479.82,-488.874 476.454,-480.562\"/>\n",
       "<polygon fill=\"black\" stroke=\"black\" points=\"479.747,-479.376 473.098,-471.127 473.152,-481.722 479.747,-479.376\"/>\n",
       "<text text-anchor=\"middle\" x=\"564.5\" y=\"-492.8\" font-family=\"Times,serif\" font-size=\"14.00\">&lt;=&#45;0.20566854071274054</text>\n",
       "</g>\n",
       "<!-- Ad -->\n",
       "<g id=\"node17\" class=\"node\"><title>Ad</title>\n",
       "<ellipse fill=\"none\" stroke=\"black\" cx=\"688\" cy=\"-453\" rx=\"27\" ry=\"18\"/>\n",
       "<text text-anchor=\"middle\" x=\"688\" y=\"-449.3\" font-family=\"Times,serif\" font-size=\"14.00\">0</text>\n",
       "</g>\n",
       "<!-- A&#45;&gt;Ad -->\n",
       "<g id=\"edge32\" class=\"edge\"><title>A&#45;&gt;Ad</title>\n",
       "<path fill=\"none\" stroke=\"black\" d=\"M593.102,-529.537C606.66,-523.238 624.037,-514.253 638,-504 648.822,-496.053 659.524,-485.769 668.233,-476.597\"/>\n",
       "<polygon fill=\"black\" stroke=\"black\" points=\"670.824,-478.95 675.038,-469.229 665.682,-474.2 670.824,-478.95\"/>\n",
       "<text text-anchor=\"middle\" x=\"725.5\" y=\"-492.8\" font-family=\"Times,serif\" font-size=\"14.00\">&gt;&#45;0.20566854071274054</text>\n",
       "</g>\n",
       "<!-- Agg -->\n",
       "<g id=\"node3\" class=\"node\"><title>Agg</title>\n",
       "<polygon fill=\"none\" stroke=\"black\" points=\"326,-384 272,-384 272,-348 326,-348 326,-384\"/>\n",
       "<text text-anchor=\"middle\" x=\"299\" y=\"-362.3\" font-family=\"Times,serif\" font-size=\"14.00\">&#45;1</text>\n",
       "</g>\n",
       "<!-- Ag&#45;&gt;Agg -->\n",
       "<g id=\"edge13\" class=\"edge\"><title>Ag&#45;&gt;Agg</title>\n",
       "<path fill=\"none\" stroke=\"black\" d=\"M442.025,-450.576C398.089,-447.631 314.14,-439.178 296,-417 290.813,-410.658 289.85,-402.211 290.705,-394.069\"/>\n",
       "<polygon fill=\"black\" stroke=\"black\" points=\"294.171,-394.572 292.579,-384.098 287.292,-393.279 294.171,-394.572\"/>\n",
       "<text text-anchor=\"middle\" x=\"369.5\" y=\"-405.8\" font-family=\"Times,serif\" font-size=\"14.00\">&lt;=&#45;0.15730659029252392</text>\n",
       "</g>\n",
       "<!-- Agd -->\n",
       "<g id=\"node4\" class=\"node\"><title>Agd</title>\n",
       "<ellipse fill=\"none\" stroke=\"black\" cx=\"403\" cy=\"-366\" rx=\"27\" ry=\"18\"/>\n",
       "<text text-anchor=\"middle\" x=\"403\" y=\"-362.3\" font-family=\"Times,serif\" font-size=\"14.00\">0</text>\n",
       "</g>\n",
       "<!-- Ag&#45;&gt;Agd -->\n",
       "<g id=\"edge14\" class=\"edge\"><title>Ag&#45;&gt;Agd</title>\n",
       "<path fill=\"none\" stroke=\"black\" d=\"M463.895,-435.15C460.253,-424.899 454.642,-411.915 447,-402 442.248,-395.835 436.186,-390.114 430.093,-385.159\"/>\n",
       "<polygon fill=\"black\" stroke=\"black\" points=\"431.959,-382.181 421.883,-378.908 427.718,-387.751 431.959,-382.181\"/>\n",
       "<text text-anchor=\"middle\" x=\"525.5\" y=\"-405.8\" font-family=\"Times,serif\" font-size=\"14.00\">&gt;&#45;0.15730659029252392</text>\n",
       "</g>\n",
       "<!-- Agdg -->\n",
       "<g id=\"node5\" class=\"node\"><title>Agdg</title>\n",
       "<ellipse fill=\"none\" stroke=\"black\" cx=\"191\" cy=\"-279\" rx=\"27\" ry=\"18\"/>\n",
       "<text text-anchor=\"middle\" x=\"191\" y=\"-275.3\" font-family=\"Times,serif\" font-size=\"14.00\">0</text>\n",
       "</g>\n",
       "<!-- Agd&#45;&gt;Agdg -->\n",
       "<g id=\"edge11\" class=\"edge\"><title>Agd&#45;&gt;Agdg</title>\n",
       "<path fill=\"none\" stroke=\"black\" d=\"M377.971,-358.743C337.702,-348.675 263,-330 263,-330 245.948,-322.262 228.654,-310.411 215.29,-300.189\"/>\n",
       "<polygon fill=\"black\" stroke=\"black\" points=\"217.143,-297.194 207.118,-293.766 212.818,-302.698 217.143,-297.194\"/>\n",
       "<text text-anchor=\"middle\" x=\"331\" y=\"-318.8\" font-family=\"Times,serif\" font-size=\"14.00\">&lt;=0.8105109291245821</text>\n",
       "</g>\n",
       "<!-- Agdd -->\n",
       "<g id=\"node12\" class=\"node\"><title>Agdd</title>\n",
       "<ellipse fill=\"none\" stroke=\"black\" cx=\"403\" cy=\"-279\" rx=\"27\" ry=\"18\"/>\n",
       "<text text-anchor=\"middle\" x=\"403\" y=\"-275.3\" font-family=\"Times,serif\" font-size=\"14.00\">1</text>\n",
       "</g>\n",
       "<!-- Agd&#45;&gt;Agdd -->\n",
       "<g id=\"edge12\" class=\"edge\"><title>Agd&#45;&gt;Agdd</title>\n",
       "<path fill=\"none\" stroke=\"black\" d=\"M403,-347.799C403,-336.163 403,-320.548 403,-307.237\"/>\n",
       "<polygon fill=\"black\" stroke=\"black\" points=\"406.5,-307.175 403,-297.175 399.5,-307.175 406.5,-307.175\"/>\n",
       "<text text-anchor=\"middle\" x=\"466.5\" y=\"-318.8\" font-family=\"Times,serif\" font-size=\"14.00\">&gt;0.8105109291245821</text>\n",
       "</g>\n",
       "<!-- Agdgg -->\n",
       "<g id=\"node6\" class=\"node\"><title>Agdgg</title>\n",
       "<polygon fill=\"none\" stroke=\"black\" points=\"55,-210 1,-210 1,-174 55,-174 55,-210\"/>\n",
       "<text text-anchor=\"middle\" x=\"28\" y=\"-188.3\" font-family=\"Times,serif\" font-size=\"14.00\">1</text>\n",
       "</g>\n",
       "<!-- Agdg&#45;&gt;Agdgg -->\n",
       "<g id=\"edge5\" class=\"edge\"><title>Agdg&#45;&gt;Agdgg</title>\n",
       "<path fill=\"none\" stroke=\"black\" d=\"M163.988,-278.595C132.224,-277.843 79.6977,-271.854 47,-243 40.1939,-236.994 35.8153,-228.285 33.0026,-219.812\"/>\n",
       "<polygon fill=\"black\" stroke=\"black\" points=\"36.3758,-218.878 30.3685,-210.151 29.6224,-220.72 36.3758,-218.878\"/>\n",
       "<text text-anchor=\"middle\" x=\"117\" y=\"-231.8\" font-family=\"Times,serif\" font-size=\"14.00\">&lt;=&#45;0.0816536813033995</text>\n",
       "</g>\n",
       "<!-- Agdgd -->\n",
       "<g id=\"node7\" class=\"node\"><title>Agdgd</title>\n",
       "<ellipse fill=\"none\" stroke=\"black\" cx=\"190\" cy=\"-192\" rx=\"27\" ry=\"18\"/>\n",
       "<text text-anchor=\"middle\" x=\"190\" y=\"-188.3\" font-family=\"Times,serif\" font-size=\"14.00\">1</text>\n",
       "</g>\n",
       "<!-- Agdg&#45;&gt;Agdgd -->\n",
       "<g id=\"edge6\" class=\"edge\"><title>Agdg&#45;&gt;Agdgd</title>\n",
       "<path fill=\"none\" stroke=\"black\" d=\"M190.798,-260.799C190.661,-249.163 190.477,-233.548 190.32,-220.237\"/>\n",
       "<polygon fill=\"black\" stroke=\"black\" points=\"193.82,-220.134 190.202,-210.175 186.82,-220.216 193.82,-220.134\"/>\n",
       "<text text-anchor=\"middle\" x=\"257\" y=\"-231.8\" font-family=\"Times,serif\" font-size=\"14.00\">&gt;&#45;0.0816536813033995</text>\n",
       "</g>\n",
       "<!-- Agdgdg -->\n",
       "<g id=\"node8\" class=\"node\"><title>Agdgdg</title>\n",
       "<polygon fill=\"none\" stroke=\"black\" points=\"54,-123 0,-123 0,-87 54,-87 54,-123\"/>\n",
       "<text text-anchor=\"middle\" x=\"27\" y=\"-101.3\" font-family=\"Times,serif\" font-size=\"14.00\">&#45;1</text>\n",
       "</g>\n",
       "<!-- Agdgd&#45;&gt;Agdgdg -->\n",
       "<g id=\"edge3\" class=\"edge\"><title>Agdgd&#45;&gt;Agdgdg</title>\n",
       "<path fill=\"none\" stroke=\"black\" d=\"M162.988,-191.595C131.224,-190.843 78.6977,-184.854 46,-156 39.1939,-149.994 34.8153,-141.285 32.0026,-132.812\"/>\n",
       "<polygon fill=\"black\" stroke=\"black\" points=\"35.3758,-131.878 29.3685,-123.151 28.6224,-133.72 35.3758,-131.878\"/>\n",
       "<text text-anchor=\"middle\" x=\"116\" y=\"-144.8\" font-family=\"Times,serif\" font-size=\"14.00\">&lt;=&#45;0.9047349877793023</text>\n",
       "</g>\n",
       "<!-- Agdgdd -->\n",
       "<g id=\"node9\" class=\"node\"><title>Agdgdd</title>\n",
       "<ellipse fill=\"none\" stroke=\"black\" cx=\"190\" cy=\"-105\" rx=\"27\" ry=\"18\"/>\n",
       "<text text-anchor=\"middle\" x=\"190\" y=\"-101.3\" font-family=\"Times,serif\" font-size=\"14.00\">1</text>\n",
       "</g>\n",
       "<!-- Agdgd&#45;&gt;Agdgdd -->\n",
       "<g id=\"edge4\" class=\"edge\"><title>Agdgd&#45;&gt;Agdgdd</title>\n",
       "<path fill=\"none\" stroke=\"black\" d=\"M190,-173.799C190,-162.163 190,-146.548 190,-133.237\"/>\n",
       "<polygon fill=\"black\" stroke=\"black\" points=\"193.5,-133.175 190,-123.175 186.5,-133.175 193.5,-133.175\"/>\n",
       "<text text-anchor=\"middle\" x=\"256\" y=\"-144.8\" font-family=\"Times,serif\" font-size=\"14.00\">&gt;&#45;0.9047349877793023</text>\n",
       "</g>\n",
       "<!-- Agdgddg -->\n",
       "<g id=\"node10\" class=\"node\"><title>Agdgddg</title>\n",
       "<polygon fill=\"none\" stroke=\"black\" points=\"136,-36 82,-36 82,-0 136,-0 136,-36\"/>\n",
       "<text text-anchor=\"middle\" x=\"109\" y=\"-14.3\" font-family=\"Times,serif\" font-size=\"14.00\">1</text>\n",
       "</g>\n",
       "<!-- Agdgdd&#45;&gt;Agdgddg -->\n",
       "<g id=\"edge1\" class=\"edge\"><title>Agdgdd&#45;&gt;Agdgddg</title>\n",
       "<path fill=\"none\" stroke=\"black\" d=\"M163.653,-100.007C145.268,-95.7086 121.962,-86.8974 110,-69 105.572,-62.3749 104.19,-54.0734 104.24,-46.1492\"/>\n",
       "<polygon fill=\"black\" stroke=\"black\" points=\"107.734,-46.3563 104.994,-36.122 100.754,-45.8314 107.734,-46.3563\"/>\n",
       "<text text-anchor=\"middle\" x=\"180\" y=\"-57.8\" font-family=\"Times,serif\" font-size=\"14.00\">&lt;=&#45;0.6103060596293338</text>\n",
       "</g>\n",
       "<!-- Agdgddd -->\n",
       "<g id=\"node11\" class=\"node\"><title>Agdgddd</title>\n",
       "<polygon fill=\"none\" stroke=\"black\" points=\"299,-36 245,-36 245,-0 299,-0 299,-36\"/>\n",
       "<text text-anchor=\"middle\" x=\"272\" y=\"-14.3\" font-family=\"Times,serif\" font-size=\"14.00\">&#45;1</text>\n",
       "</g>\n",
       "<!-- Agdgdd&#45;&gt;Agdgddd -->\n",
       "<g id=\"edge2\" class=\"edge\"><title>Agdgdd&#45;&gt;Agdgddd</title>\n",
       "<path fill=\"none\" stroke=\"black\" d=\"M212.583,-94.9995C224.956,-89.1299 239.802,-80.4268 250,-69 255.926,-62.3598 260.463,-53.869 263.834,-45.7766\"/>\n",
       "<polygon fill=\"black\" stroke=\"black\" points=\"267.17,-46.8472 267.382,-36.2545 260.611,-44.4031 267.17,-46.8472\"/>\n",
       "<text text-anchor=\"middle\" x=\"326\" y=\"-57.8\" font-family=\"Times,serif\" font-size=\"14.00\">&gt;&#45;0.6103060596293338</text>\n",
       "</g>\n",
       "<!-- Agddg -->\n",
       "<g id=\"node13\" class=\"node\"><title>Agddg</title>\n",
       "<polygon fill=\"none\" stroke=\"black\" points=\"374,-210 320,-210 320,-174 374,-174 374,-210\"/>\n",
       "<text text-anchor=\"middle\" x=\"347\" y=\"-188.3\" font-family=\"Times,serif\" font-size=\"14.00\">1</text>\n",
       "</g>\n",
       "<!-- Agdd&#45;&gt;Agddg -->\n",
       "<g id=\"edge9\" class=\"edge\"><title>Agdd&#45;&gt;Agddg</title>\n",
       "<path fill=\"none\" stroke=\"black\" d=\"M379.979,-269.573C368.207,-263.967 354.932,-255.333 348,-243 344.198,-236.235 342.929,-228.1 342.887,-220.375\"/>\n",
       "<polygon fill=\"black\" stroke=\"black\" points=\"346.389,-220.448 343.469,-210.263 339.401,-220.046 346.389,-220.448\"/>\n",
       "<text text-anchor=\"middle\" x=\"414.5\" y=\"-231.8\" font-family=\"Times,serif\" font-size=\"14.00\">&lt;=&#45;0.749953274511134</text>\n",
       "</g>\n",
       "<!-- Agddd -->\n",
       "<g id=\"node14\" class=\"node\"><title>Agddd</title>\n",
       "<ellipse fill=\"none\" stroke=\"black\" cx=\"503\" cy=\"-192\" rx=\"27\" ry=\"18\"/>\n",
       "<text text-anchor=\"middle\" x=\"503\" y=\"-188.3\" font-family=\"Times,serif\" font-size=\"14.00\">0</text>\n",
       "</g>\n",
       "<!-- Agdd&#45;&gt;Agddd -->\n",
       "<g id=\"edge10\" class=\"edge\"><title>Agdd&#45;&gt;Agddd</title>\n",
       "<path fill=\"none\" stroke=\"black\" d=\"M427.877,-271.925C444.718,-266.702 466.465,-257.641 481,-243 487.435,-236.518 492.142,-227.836 495.51,-219.527\"/>\n",
       "<polygon fill=\"black\" stroke=\"black\" points=\"498.81,-220.693 498.873,-210.099 492.217,-218.342 498.81,-220.693\"/>\n",
       "<text text-anchor=\"middle\" x=\"554.5\" y=\"-231.8\" font-family=\"Times,serif\" font-size=\"14.00\">&gt;&#45;0.749953274511134</text>\n",
       "</g>\n",
       "<!-- Agdddg -->\n",
       "<g id=\"node15\" class=\"node\"><title>Agdddg</title>\n",
       "<polygon fill=\"none\" stroke=\"black\" points=\"372,-123 318,-123 318,-87 372,-87 372,-123\"/>\n",
       "<text text-anchor=\"middle\" x=\"345\" y=\"-101.3\" font-family=\"Times,serif\" font-size=\"14.00\">1</text>\n",
       "</g>\n",
       "<!-- Agddd&#45;&gt;Agdddg -->\n",
       "<g id=\"edge7\" class=\"edge\"><title>Agddd&#45;&gt;Agdddg</title>\n",
       "<path fill=\"none\" stroke=\"black\" d=\"M475.814,-191.278C445.037,-190.142 395.14,-183.709 364,-156 357.219,-149.966 352.846,-141.25 350.031,-132.78\"/>\n",
       "<polygon fill=\"black\" stroke=\"black\" points=\"353.405,-131.848 347.391,-123.125 346.653,-133.694 353.405,-131.848\"/>\n",
       "<text text-anchor=\"middle\" x=\"432\" y=\"-144.8\" font-family=\"Times,serif\" font-size=\"14.00\">&lt;=1.4261672148554592</text>\n",
       "</g>\n",
       "<!-- Agdddd -->\n",
       "<g id=\"node16\" class=\"node\"><title>Agdddd</title>\n",
       "<polygon fill=\"none\" stroke=\"black\" points=\"531,-123 477,-123 477,-87 531,-87 531,-123\"/>\n",
       "<text text-anchor=\"middle\" x=\"504\" y=\"-101.3\" font-family=\"Times,serif\" font-size=\"14.00\">&#45;1</text>\n",
       "</g>\n",
       "<!-- Agddd&#45;&gt;Agdddd -->\n",
       "<g id=\"edge8\" class=\"edge\"><title>Agddd&#45;&gt;Agdddd</title>\n",
       "<path fill=\"none\" stroke=\"black\" d=\"M503.202,-173.799C503.339,-162.163 503.523,-146.548 503.68,-133.237\"/>\n",
       "<polygon fill=\"black\" stroke=\"black\" points=\"507.18,-133.216 503.798,-123.175 500.18,-133.134 507.18,-133.216\"/>\n",
       "<text text-anchor=\"middle\" x=\"567.5\" y=\"-144.8\" font-family=\"Times,serif\" font-size=\"14.00\">&gt;1.4261672148554592</text>\n",
       "</g>\n",
       "<!-- Adg -->\n",
       "<g id=\"node18\" class=\"node\"><title>Adg</title>\n",
       "<ellipse fill=\"none\" stroke=\"black\" cx=\"688\" cy=\"-366\" rx=\"27\" ry=\"18\"/>\n",
       "<text text-anchor=\"middle\" x=\"688\" y=\"-362.3\" font-family=\"Times,serif\" font-size=\"14.00\">1</text>\n",
       "</g>\n",
       "<!-- Ad&#45;&gt;Adg -->\n",
       "<g id=\"edge29\" class=\"edge\"><title>Ad&#45;&gt;Adg</title>\n",
       "<path fill=\"none\" stroke=\"black\" d=\"M688,-434.799C688,-423.163 688,-407.548 688,-394.237\"/>\n",
       "<polygon fill=\"black\" stroke=\"black\" points=\"691.5,-394.175 688,-384.175 684.5,-394.175 691.5,-394.175\"/>\n",
       "<text text-anchor=\"middle\" x=\"758\" y=\"-405.8\" font-family=\"Times,serif\" font-size=\"14.00\">&lt;=&#45;0.2927594707261363</text>\n",
       "</g>\n",
       "<!-- Add -->\n",
       "<g id=\"node25\" class=\"node\"><title>Add</title>\n",
       "<ellipse fill=\"none\" stroke=\"black\" cx=\"916\" cy=\"-366\" rx=\"27\" ry=\"18\"/>\n",
       "<text text-anchor=\"middle\" x=\"916\" y=\"-362.3\" font-family=\"Times,serif\" font-size=\"14.00\">1</text>\n",
       "</g>\n",
       "<!-- Ad&#45;&gt;Add -->\n",
       "<g id=\"edge30\" class=\"edge\"><title>Ad&#45;&gt;Add</title>\n",
       "<path fill=\"none\" stroke=\"black\" d=\"M714.219,-448.05C743.651,-443.069 792.461,-433.145 832,-417 852.416,-408.664 873.747,-395.908 889.805,-385.368\"/>\n",
       "<polygon fill=\"black\" stroke=\"black\" points=\"891.784,-388.255 898.145,-379.782 887.888,-382.439 891.784,-388.255\"/>\n",
       "<text text-anchor=\"middle\" x=\"927\" y=\"-405.8\" font-family=\"Times,serif\" font-size=\"14.00\">&gt;&#45;0.2927594707261363</text>\n",
       "</g>\n",
       "<!-- Adgg -->\n",
       "<g id=\"node19\" class=\"node\"><title>Adgg</title>\n",
       "<polygon fill=\"none\" stroke=\"black\" points=\"634,-297 580,-297 580,-261 634,-261 634,-297\"/>\n",
       "<text text-anchor=\"middle\" x=\"607\" y=\"-275.3\" font-family=\"Times,serif\" font-size=\"14.00\">&#45;1</text>\n",
       "</g>\n",
       "<!-- Adg&#45;&gt;Adgg -->\n",
       "<g id=\"edge19\" class=\"edge\"><title>Adg&#45;&gt;Adgg</title>\n",
       "<path fill=\"none\" stroke=\"black\" d=\"M661.485,-361.716C641.968,-357.758 616.707,-349.061 604,-330 599.573,-323.359 598.706,-315.053 599.415,-307.13\"/>\n",
       "<polygon fill=\"black\" stroke=\"black\" points=\"602.894,-307.546 601.089,-297.106 595.989,-306.393 602.894,-307.546\"/>\n",
       "<text text-anchor=\"middle\" x=\"668.5\" y=\"-318.8\" font-family=\"Times,serif\" font-size=\"14.00\">&lt;=0.646447875102074</text>\n",
       "</g>\n",
       "<!-- Adgd -->\n",
       "<g id=\"node20\" class=\"node\"><title>Adgd</title>\n",
       "<ellipse fill=\"none\" stroke=\"black\" cx=\"759\" cy=\"-279\" rx=\"27\" ry=\"18\"/>\n",
       "<text text-anchor=\"middle\" x=\"759\" y=\"-275.3\" font-family=\"Times,serif\" font-size=\"14.00\">0</text>\n",
       "</g>\n",
       "<!-- Adg&#45;&gt;Adgd -->\n",
       "<g id=\"edge20\" class=\"edge\"><title>Adg&#45;&gt;Adgd</title>\n",
       "<path fill=\"none\" stroke=\"black\" d=\"M708.582,-353.798C718.2,-347.757 729.219,-339.572 737,-330 742.614,-323.094 747.068,-314.532 750.459,-306.456\"/>\n",
       "<polygon fill=\"black\" stroke=\"black\" points=\"753.775,-307.582 754.073,-296.991 747.236,-305.084 753.775,-307.582\"/>\n",
       "<text text-anchor=\"middle\" x=\"806.5\" y=\"-318.8\" font-family=\"Times,serif\" font-size=\"14.00\">&gt;0.646447875102074</text>\n",
       "</g>\n",
       "<!-- Adgdg -->\n",
       "<g id=\"node21\" class=\"node\"><title>Adgdg</title>\n",
       "<polygon fill=\"none\" stroke=\"black\" points=\"683,-210 629,-210 629,-174 683,-174 683,-210\"/>\n",
       "<text text-anchor=\"middle\" x=\"656\" y=\"-188.3\" font-family=\"Times,serif\" font-size=\"14.00\">&#45;1</text>\n",
       "</g>\n",
       "<!-- Adgd&#45;&gt;Adgdg -->\n",
       "<g id=\"edge17\" class=\"edge\"><title>Adgd&#45;&gt;Adgdg</title>\n",
       "<path fill=\"none\" stroke=\"black\" d=\"M731.701,-277.408C706.655,-275.236 670.826,-267.658 653,-243 648.324,-236.532 647.386,-228.275 648.108,-220.343\"/>\n",
       "<polygon fill=\"black\" stroke=\"black\" points=\"651.593,-220.729 649.837,-210.281 644.694,-219.544 651.593,-220.729\"/>\n",
       "<text text-anchor=\"middle\" x=\"719.5\" y=\"-231.8\" font-family=\"Times,serif\" font-size=\"14.00\">&lt;=&#45;2.024895400689987</text>\n",
       "</g>\n",
       "<!-- Adgdd -->\n",
       "<g id=\"node22\" class=\"node\"><title>Adgdd</title>\n",
       "<ellipse fill=\"none\" stroke=\"black\" cx=\"812\" cy=\"-192\" rx=\"27\" ry=\"18\"/>\n",
       "<text text-anchor=\"middle\" x=\"812\" y=\"-188.3\" font-family=\"Times,serif\" font-size=\"14.00\">0</text>\n",
       "</g>\n",
       "<!-- Adgd&#45;&gt;Adgdd -->\n",
       "<g id=\"edge18\" class=\"edge\"><title>Adgd&#45;&gt;Adgdd</title>\n",
       "<path fill=\"none\" stroke=\"black\" d=\"M773.677,-263.495C779.247,-257.491 785.359,-250.245 790,-243 794.676,-235.7 798.817,-227.239 802.21,-219.376\"/>\n",
       "<polygon fill=\"black\" stroke=\"black\" points=\"805.552,-220.45 806.09,-209.869 799.071,-217.805 805.552,-220.45\"/>\n",
       "<text text-anchor=\"middle\" x=\"860.5\" y=\"-231.8\" font-family=\"Times,serif\" font-size=\"14.00\">&gt;&#45;2.024895400689987</text>\n",
       "</g>\n",
       "<!-- Adgddg -->\n",
       "<g id=\"node23\" class=\"node\"><title>Adgddg</title>\n",
       "<polygon fill=\"none\" stroke=\"black\" points=\"681,-123 627,-123 627,-87 681,-87 681,-123\"/>\n",
       "<text text-anchor=\"middle\" x=\"654\" y=\"-101.3\" font-family=\"Times,serif\" font-size=\"14.00\">1</text>\n",
       "</g>\n",
       "<!-- Adgdd&#45;&gt;Adgddg -->\n",
       "<g id=\"edge15\" class=\"edge\"><title>Adgdd&#45;&gt;Adgddg</title>\n",
       "<path fill=\"none\" stroke=\"black\" d=\"M784.811,-191.607C753.477,-190.821 702.293,-184.756 671,-156 664.473,-150.002 660.451,-141.402 657.973,-133.022\"/>\n",
       "<polygon fill=\"black\" stroke=\"black\" points=\"661.338,-132.038 655.652,-123.098 654.522,-133.632 661.338,-132.038\"/>\n",
       "<text text-anchor=\"middle\" x=\"741\" y=\"-144.8\" font-family=\"Times,serif\" font-size=\"14.00\">&lt;=&#45;0.4039500701845581</text>\n",
       "</g>\n",
       "<!-- Adgddd -->\n",
       "<g id=\"node24\" class=\"node\"><title>Adgddd</title>\n",
       "<polygon fill=\"none\" stroke=\"black\" points=\"844,-123 790,-123 790,-87 844,-87 844,-123\"/>\n",
       "<text text-anchor=\"middle\" x=\"817\" y=\"-101.3\" font-family=\"Times,serif\" font-size=\"14.00\">&#45;1</text>\n",
       "</g>\n",
       "<!-- Adgdd&#45;&gt;Adgddd -->\n",
       "<g id=\"edge16\" class=\"edge\"><title>Adgdd&#45;&gt;Adgddd</title>\n",
       "<path fill=\"none\" stroke=\"black\" d=\"M813.012,-173.799C813.696,-162.163 814.615,-146.548 815.398,-133.237\"/>\n",
       "<polygon fill=\"black\" stroke=\"black\" points=\"818.896,-133.364 815.99,-123.175 811.908,-132.953 818.896,-133.364\"/>\n",
       "<text text-anchor=\"middle\" x=\"881\" y=\"-144.8\" font-family=\"Times,serif\" font-size=\"14.00\">&gt;&#45;0.4039500701845581</text>\n",
       "</g>\n",
       "<!-- Addg -->\n",
       "<g id=\"node26\" class=\"node\"><title>Addg</title>\n",
       "<ellipse fill=\"none\" stroke=\"black\" cx=\"966\" cy=\"-279\" rx=\"27\" ry=\"18\"/>\n",
       "<text text-anchor=\"middle\" x=\"966\" y=\"-275.3\" font-family=\"Times,serif\" font-size=\"14.00\">1</text>\n",
       "</g>\n",
       "<!-- Add&#45;&gt;Addg -->\n",
       "<g id=\"edge27\" class=\"edge\"><title>Add&#45;&gt;Addg</title>\n",
       "<path fill=\"none\" stroke=\"black\" d=\"M912.662,-347.842C911.56,-337.722 911.735,-324.984 917,-315 921.206,-307.024 928.14,-300.45 935.486,-295.238\"/>\n",
       "<polygon fill=\"black\" stroke=\"black\" points=\"937.586,-298.051 944.161,-289.743 933.84,-292.138 937.586,-298.051\"/>\n",
       "<text text-anchor=\"middle\" x=\"988\" y=\"-318.8\" font-family=\"Times,serif\" font-size=\"14.00\">&lt;=0.46698686856337057</text>\n",
       "</g>\n",
       "<!-- Addd -->\n",
       "<g id=\"node33\" class=\"node\"><title>Addd</title>\n",
       "<polygon fill=\"none\" stroke=\"black\" points=\"1108,-297 1054,-297 1054,-261 1108,-261 1108,-297\"/>\n",
       "<text text-anchor=\"middle\" x=\"1081\" y=\"-275.3\" font-family=\"Times,serif\" font-size=\"14.00\">1</text>\n",
       "</g>\n",
       "<!-- Add&#45;&gt;Addd -->\n",
       "<g id=\"edge28\" class=\"edge\"><title>Add&#45;&gt;Addd</title>\n",
       "<path fill=\"none\" stroke=\"black\" d=\"M943.135,-365.231C974.496,-364.088 1026.01,-357.684 1059,-330 1066.1,-324.041 1070.99,-315.343 1074.31,-306.866\"/>\n",
       "<polygon fill=\"black\" stroke=\"black\" points=\"1077.7,-307.788 1077.54,-297.194 1071.06,-305.571 1077.7,-307.788\"/>\n",
       "<text text-anchor=\"middle\" x=\"1136\" y=\"-318.8\" font-family=\"Times,serif\" font-size=\"14.00\">&gt;0.46698686856337057</text>\n",
       "</g>\n",
       "<!-- Addgg -->\n",
       "<g id=\"node27\" class=\"node\"><title>Addgg</title>\n",
       "<ellipse fill=\"none\" stroke=\"black\" cx=\"972\" cy=\"-192\" rx=\"27\" ry=\"18\"/>\n",
       "<text text-anchor=\"middle\" x=\"972\" y=\"-188.3\" font-family=\"Times,serif\" font-size=\"14.00\">1</text>\n",
       "</g>\n",
       "<!-- Addg&#45;&gt;Addgg -->\n",
       "<g id=\"edge25\" class=\"edge\"><title>Addg&#45;&gt;Addgg</title>\n",
       "<path fill=\"none\" stroke=\"black\" d=\"M965.827,-260.85C965.859,-251.187 966.115,-238.904 967,-228 967.208,-225.43 967.483,-222.762 967.797,-220.096\"/>\n",
       "<polygon fill=\"black\" stroke=\"black\" points=\"971.285,-220.419 969.14,-210.043 964.346,-219.491 971.285,-220.419\"/>\n",
       "<text text-anchor=\"middle\" x=\"1038\" y=\"-231.8\" font-family=\"Times,serif\" font-size=\"14.00\">&lt;=0.40877257560418473</text>\n",
       "</g>\n",
       "<!-- Addgd -->\n",
       "<g id=\"node32\" class=\"node\"><title>Addgd</title>\n",
       "<polygon fill=\"none\" stroke=\"black\" points=\"1158,-210 1104,-210 1104,-174 1158,-174 1158,-210\"/>\n",
       "<text text-anchor=\"middle\" x=\"1131\" y=\"-188.3\" font-family=\"Times,serif\" font-size=\"14.00\">&#45;1</text>\n",
       "</g>\n",
       "<!-- Addg&#45;&gt;Addgd -->\n",
       "<g id=\"edge26\" class=\"edge\"><title>Addg&#45;&gt;Addgd</title>\n",
       "<path fill=\"none\" stroke=\"black\" d=\"M991.207,-272.437C1031.02,-263.565 1104.45,-246.82 1109,-243 1116.1,-237.041 1120.99,-228.343 1124.31,-219.866\"/>\n",
       "<polygon fill=\"black\" stroke=\"black\" points=\"1127.7,-220.788 1127.54,-210.194 1121.06,-218.571 1127.7,-220.788\"/>\n",
       "<text text-anchor=\"middle\" x=\"1186\" y=\"-231.8\" font-family=\"Times,serif\" font-size=\"14.00\">&gt;0.40877257560418473</text>\n",
       "</g>\n",
       "<!-- Addggg -->\n",
       "<g id=\"node28\" class=\"node\"><title>Addggg</title>\n",
       "<ellipse fill=\"none\" stroke=\"black\" cx=\"972\" cy=\"-105\" rx=\"27\" ry=\"18\"/>\n",
       "<text text-anchor=\"middle\" x=\"972\" y=\"-101.3\" font-family=\"Times,serif\" font-size=\"14.00\">0</text>\n",
       "</g>\n",
       "<!-- Addgg&#45;&gt;Addggg -->\n",
       "<g id=\"edge23\" class=\"edge\"><title>Addgg&#45;&gt;Addggg</title>\n",
       "<path fill=\"none\" stroke=\"black\" d=\"M972,-173.799C972,-162.163 972,-146.548 972,-133.237\"/>\n",
       "<polygon fill=\"black\" stroke=\"black\" points=\"975.5,-133.175 972,-123.175 968.5,-133.175 975.5,-133.175\"/>\n",
       "<text text-anchor=\"middle\" x=\"1038.5\" y=\"-144.8\" font-family=\"Times,serif\" font-size=\"14.00\">&lt;=&#45;0.178282504022293</text>\n",
       "</g>\n",
       "<!-- Addggd -->\n",
       "<g id=\"node31\" class=\"node\"><title>Addggd</title>\n",
       "<polygon fill=\"none\" stroke=\"black\" points=\"1155,-123 1101,-123 1101,-87 1155,-87 1155,-123\"/>\n",
       "<text text-anchor=\"middle\" x=\"1128\" y=\"-101.3\" font-family=\"Times,serif\" font-size=\"14.00\">1</text>\n",
       "</g>\n",
       "<!-- Addgg&#45;&gt;Addggd -->\n",
       "<g id=\"edge24\" class=\"edge\"><title>Addgg&#45;&gt;Addggd</title>\n",
       "<path fill=\"none\" stroke=\"black\" d=\"M999.045,-190.649C1028.58,-188.88 1075.72,-181.814 1106,-156 1113.06,-149.986 1117.93,-141.275 1121.26,-132.803\"/>\n",
       "<polygon fill=\"black\" stroke=\"black\" points=\"1124.64,-133.738 1124.5,-123.144 1118,-131.512 1124.64,-133.738\"/>\n",
       "<text text-anchor=\"middle\" x=\"1178.5\" y=\"-144.8\" font-family=\"Times,serif\" font-size=\"14.00\">&gt;&#45;0.178282504022293</text>\n",
       "</g>\n",
       "<!-- Addgggg -->\n",
       "<g id=\"node29\" class=\"node\"><title>Addgggg</title>\n",
       "<polygon fill=\"none\" stroke=\"black\" points=\"919,-36 865,-36 865,-0 919,-0 919,-36\"/>\n",
       "<text text-anchor=\"middle\" x=\"892\" y=\"-14.3\" font-family=\"Times,serif\" font-size=\"14.00\">1</text>\n",
       "</g>\n",
       "<!-- Addggg&#45;&gt;Addgggg -->\n",
       "<g id=\"edge21\" class=\"edge\"><title>Addggg&#45;&gt;Addgggg</title>\n",
       "<path fill=\"none\" stroke=\"black\" d=\"M945.791,-100.622C926.501,-96.6134 901.538,-87.8942 889,-69 884.587,-62.3496 883.724,-54.041 884.432,-46.1179\"/>\n",
       "<polygon fill=\"black\" stroke=\"black\" points=\"887.911,-46.5358 886.103,-36.0964 881.006,-45.3847 887.911,-46.5358\"/>\n",
       "<text text-anchor=\"middle\" x=\"957\" y=\"-57.8\" font-family=\"Times,serif\" font-size=\"14.00\">&lt;=1.1151428827747134</text>\n",
       "</g>\n",
       "<!-- Addgggd -->\n",
       "<g id=\"node30\" class=\"node\"><title>Addgggd</title>\n",
       "<polygon fill=\"none\" stroke=\"black\" points=\"1078,-36 1024,-36 1024,-0 1078,-0 1078,-36\"/>\n",
       "<text text-anchor=\"middle\" x=\"1051\" y=\"-14.3\" font-family=\"Times,serif\" font-size=\"14.00\">&#45;1</text>\n",
       "</g>\n",
       "<!-- Addggg&#45;&gt;Addgggd -->\n",
       "<g id=\"edge22\" class=\"edge\"><title>Addggg&#45;&gt;Addgggd</title>\n",
       "<path fill=\"none\" stroke=\"black\" d=\"M994.006,-94.4779C1005.64,-88.5396 1019.46,-79.9386 1029,-69 1034.85,-62.2933 1039.37,-53.7847 1042.74,-45.6965\"/>\n",
       "<polygon fill=\"black\" stroke=\"black\" points=\"1046.07,-46.7809 1046.31,-36.1886 1039.52,-44.3238 1046.07,-46.7809\"/>\n",
       "<text text-anchor=\"middle\" x=\"1101.5\" y=\"-57.8\" font-family=\"Times,serif\" font-size=\"14.00\">&gt;1.1151428827747134</text>\n",
       "</g>\n",
       "</g>\n",
       "</svg>\n"
      ],
      "text/plain": [
       "<graphviz.dot.Digraph at 0x7fa08e8c4cf8>"
      ]
     },
     "execution_count": 40,
     "metadata": {},
     "output_type": "execute_result"
    }
   ],
   "source": [
    "adautre.plot()"
   ]
  },
  {
   "cell_type": "markdown",
   "metadata": {},
   "source": [
    "### Améliorations (facultatif)"
   ]
  },
  {
   "cell_type": "markdown",
   "metadata": {},
   "source": [
    "Adapter votre algorithme afin de pouvoir construire des arbres de décision avec des attributs catégoriels."
   ]
  },
  {
   "cell_type": "markdown",
   "metadata": {},
   "source": [
    "## Etape 3: Expérimentation"
   ]
  },
  {
   "cell_type": "markdown",
   "metadata": {
    "collapsed": true
   },
   "source": [
    "Comparez le résultat obtenu avec ceux obtenus avec les 2 classifiers implémentés lors des TD-TME précédents. Ensuite, utilisez votre implémentation sur d'autres bases de données que vous avez déjà trouvées ou que vous pourrez trouver sur le web."
   ]
  },
  {
   "cell_type": "code",
   "execution_count": null,
   "metadata": {
    "collapsed": true
   },
   "outputs": [],
   "source": []
  }
 ],
 "metadata": {
  "kernelspec": {
   "display_name": "Python 3",
   "language": "python",
   "name": "python3"
  },
  "language_info": {
   "codemirror_mode": {
    "name": "ipython",
    "version": 3
   },
   "file_extension": ".py",
   "mimetype": "text/x-python",
   "name": "python",
   "nbconvert_exporter": "python",
   "pygments_lexer": "ipython3",
   "version": "3.6.3"
  }
 },
 "nbformat": 4,
 "nbformat_minor": 1
}
