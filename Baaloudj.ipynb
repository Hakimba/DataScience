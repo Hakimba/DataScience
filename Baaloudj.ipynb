{
 "cells": [
  {
   "cell_type": "markdown",
   "metadata": {},
   "source": [
    "IA & Data science -- 2017-2018\n",
    "--------\n",
    "*&copy; Equipe pédagogique: Ludovic Denoyer, Thibault Laugel, Marie-Jeanne Lesot, Christophe Marsala, Olivier Schwander*"
   ]
  },
  {
   "cell_type": "markdown",
   "metadata": {},
   "source": [
    "# TD-TME05: les arbres de décision\n",
    "\n",
    "L'objectif de ce TP est d'implémenter un algorithme d'apprentissage supervisé, l'algorithme de construction d'arbres de décision (cours 6).\n",
    "\n",
    "Comme pour les k-nn, nous allons nous restreindre à un cas binaire où les données sont étiquetées $+1$ ou $-1$. De plus, nous allons ne considérer que le cas où les attributs sont tous numériques."
   ]
  },
  {
   "cell_type": "markdown",
   "metadata": {},
   "source": [
    "<font size=\"+1\">**[Q]**</font> **Indiquer dans la boîte ci-dessous vos noms et prénoms :**"
   ]
  },
  {
   "cell_type": "markdown",
   "metadata": {},
   "source": [
    "Baaloudj hakim"
   ]
  },
  {
   "cell_type": "markdown",
   "metadata": {},
   "source": [
    "<font color=\"RED\" size=\"+1\">IMPORTANT: soumission de votre fichier final</font>\n",
    "\n",
    "**Nom à donner au fichier à poster** : *Nom1_Nom2.ipynb* \n",
    "- *Nom1* et *Nom2* : noms des membres du binôme\n",
    "- ne pas compresser ou faire une archive: envoyer le fichier ipython tel quel, éventuellement, si vous avez d'autres fichiers à envoyer, vous les joignez au message."
   ]
  },
  {
   "cell_type": "markdown",
   "metadata": {},
   "source": [
    "## Préparation\n",
    "\n",
    "Copier l'archive dans votre répertoire de travail: <code>/users/Enseignants/marsala/iads/tp5.tgz</code>\n",
    "\n",
    "Décompresser l'archive, elle crée le répertoire \"tp5\" qui contient un fichier ipython à ouvrir (ce fichier-ci) et un sous-répertoire \"data\" contenant les bases d'apprentissage utilisées dans ce TP.\n",
    "\n",
    "Le but de ce TP est de compléter ce document ipython en ajoutant les fonctions demandées. Avant de commencer, exécuter le bloc suivant afin de pouvoir initialiser des variables utiles \n"
   ]
  },
  {
   "cell_type": "code",
   "execution_count": 1,
   "metadata": {},
   "outputs": [],
   "source": [
    "# imports utiles\n",
    "import numpy as np\n",
    "import pandas as pd\n",
    "import math"
   ]
  },
  {
   "cell_type": "markdown",
   "metadata": {
    "collapsed": true
   },
   "source": [
    "## Etape 1: Retour sur les TD-TME précédents\n",
    "\n",
    "Cette partie a été réalisée lors du TD-TME précédent, reprenez ce que vous avez fait en copier-collant votre travail de la semaine dernière.\n",
    "\n",
    "Reprendre la classe <code>LabeledSet</code> du TD_TME précédent pour stocker les données d'apprentissage, de validation et de test. Cette classe permet de stocker des couples $\\{(x_1,y_1),...,(x_n,y_n)\\}$. Les $x_i$ et $y_i$ seront des tableaux numpy. "
   ]
  },
  {
   "cell_type": "code",
   "execution_count": 2,
   "metadata": {},
   "outputs": [],
   "source": [
    "class LabeledSet:  \n",
    "    \n",
    "    def __init__(self, input_dimension):\n",
    "        self.input_dimension = input_dimension\n",
    "        self.nb_examples = 0\n",
    "    \n",
    "    def addExample(self,vector,label):\n",
    "        if (self.nb_examples == 0):\n",
    "            self.x = np.array([vector])\n",
    "            self.y = np.array([label])\n",
    "        else:\n",
    "            self.x = np.vstack((self.x, vector))\n",
    "            self.y = np.vstack((self.y, label))\n",
    "        \n",
    "        self.nb_examples = self.nb_examples + 1\n",
    "    \n",
    "    #Renvoie la dimension de l'espace d'entrée\n",
    "    def getInputDimension(self):\n",
    "        return self.input_dimension\n",
    "    \n",
    "    #Renvoie le nombre d'exemples dans le set\n",
    "    def size(self):\n",
    "        return self.nb_examples\n",
    "    \n",
    "    #Renvoie la valeur de x_i\n",
    "    def getX(self, i):\n",
    "        return self.x[i]\n",
    "        \n",
    "    \n",
    "    #Renvouie la valeur de y_i\n",
    "    def getY(self, i):\n",
    "        return(self.y[i])"
   ]
  },
  {
   "cell_type": "markdown",
   "metadata": {},
   "source": [
    "### Génération de données ''Jouet''\n",
    "\n",
    "Comme lors des TD_TME précédents, les fonctions seront testées sur des données \"jouet\" générées selon des distributions choisies à la main. Commençons par un dataset en 2 dimensions (entrée) et 1 dimension (sortie): $x_i \\in \\mathbb{R}^2$, $y_i \\in [-1;+1]$ telles que les données sont généres selon deux Gaussiennes. Pour cela, nous utiliserons la fonction numpy.random.multivariate_normal  - http://docs.scipy.org/doc/numpy/reference/generated/numpy.random.multivariate_normal.html \n",
    "\n",
    "* ''positive_center'' est le centre de la gaussienne des points positifs (vecteur de taille 2)\n",
    "* ''positive_sigma'' est la variance de la gaussienne (sous forme de matrice 2*2)\n",
    "* Idem pour ''negative''\n",
    "\n",
    "* Générer une premiere gaussienne associée au label $+1$\n",
    "* Y rajouter une seconde gaussienne associée au label $-1$\n",
    "\n",
    "<font size=\"+1\">**[Q]**</font>  Dans un premier temps, pour mettre au point les fonctions, génerer une base jouet assez petite (par exemple, 10 exemples de chaque classe)."
   ]
  },
  {
   "cell_type": "code",
   "execution_count": 3,
   "metadata": {},
   "outputs": [],
   "source": [
    "mean = [3, 7]\n",
    "cov = [[1,0],[0,5]] \n",
    "Posit = np.random.multivariate_normal(mean,cov,10)\n",
    "\n",
    "mean = [2, 5]    \n",
    "cov = [[3,0],[0,5]] \n",
    "Negat = np.random.multivariate_normal(mean,cov,11)\n",
    "\n",
    "the_set = LabeledSet(2)\n",
    "\n",
    "for i in Negat:\n",
    "    the_set.addExample(i,-1)\n",
    "for i in Posit:\n",
    "    the_set.addExample(i,+1)"
   ]
  },
  {
   "cell_type": "code",
   "execution_count": 4,
   "metadata": {},
   "outputs": [
    {
     "data": {
      "text/plain": [
       "array([[2.97583681, 7.62772811],\n",
       "       [2.06477139, 7.69247806],\n",
       "       [2.31923237, 2.3539679 ],\n",
       "       [3.18606417, 8.49077156],\n",
       "       [2.53741656, 6.0051674 ],\n",
       "       [3.13359541, 6.93433155],\n",
       "       [3.41341264, 6.4551009 ],\n",
       "       [2.60341801, 5.2535649 ],\n",
       "       [2.92457947, 5.44558105],\n",
       "       [3.6366914 , 4.59418469]])"
      ]
     },
     "execution_count": 4,
     "metadata": {},
     "output_type": "execute_result"
    }
   ],
   "source": [
    "# the_set = ... # définition d'un LabeledSet avec la fonction précédente\n",
    "\n",
    "S= the_set.x[np.where(the_set.y == 1),:]\n",
    "S[0]"
   ]
  },
  {
   "cell_type": "markdown",
   "metadata": {},
   "source": [
    "Le dataset peut être affiché en utilisant matplotlib (pour vérifier). Nous utiliserons la commande matplotlib.pyplot.scatter permettant de dessiner un nuage de points - http://matplotlib.org/api/pyplot_api.html#matplotlib.pyplot.scatter -"
   ]
  },
  {
   "cell_type": "code",
   "execution_count": 5,
   "metadata": {},
   "outputs": [],
   "source": [
    "import matplotlib.pyplot as plt\n",
    "%matplotlib inline \n",
    "\n",
    "def plot2DSet(set):\n",
    "    \"\"\" LabeledSet -> NoneType\n",
    "        Hypothèse: set est de dimension 2\n",
    "        affiche une représentation graphique du LabeledSet\n",
    "        remarque: l'ordre des labels dans set peut être quelconque\n",
    "    \"\"\"\n",
    "    S_pos = set.x[np.where(set.y == 1),:][0]      # tous les exemples de label +1\n",
    "    S_neg = set.x[np.where(set.y == -1),:][0]     # tous les exemples de label -1\n",
    "    plt.scatter(S_pos[:,0],S_pos[:,1],marker='o')\n",
    "    plt.scatter(S_neg[:,0],S_neg[:,1],marker='x')"
   ]
  },
  {
   "cell_type": "code",
   "execution_count": 6,
   "metadata": {},
   "outputs": [
    {
     "data": {
      "image/png": "[encoded data removed]",
      "text/plain": [
       "<matplotlib.figure.Figure at 0x112e11978>"
      ]
     },
     "metadata": {},
     "output_type": "display_data"
    }
   ],
   "source": [
    "# Essai de la fonction : (the_set : variable du dataset généré précédemment)\n",
    "plot2DSet(the_set)"
   ]
  },
  {
   "cell_type": "markdown",
   "metadata": {},
   "source": [
    "### Les classifieurs\n",
    "\n",
    "La classe <code>Classifier</code> sert toujours de classe de base: l'algorithme d'apprentissage par arbres de décision est un nouveau type de Classifier que l'on va créer.\n"
   ]
  },
  {
   "cell_type": "code",
   "execution_count": 7,
   "metadata": {},
   "outputs": [],
   "source": [
    "class Classifier:\n",
    "    def __init__(self,input_dimension):\n",
    "        \"\"\" Constructeur \"\"\"\n",
    "        self.input_dimension = input_dimension\n",
    "    \n",
    "    \n",
    "    # Permet de calculer la prediction sur x => renvoie un score\n",
    "    def predict(self,x):\n",
    "        raise NotImplementedError(\"Please Implement this method\")\n",
    "\n",
    "    \n",
    "    # Permet d'entrainer le modele sur un ensemble de données\n",
    "    def train(self,labeledSet):\n",
    "        raise NotImplementedError(\"Please Implement this method\")\n",
    "    \n",
    "    #Permet de calculer la qualité du système \n",
    "    def accuracy(self, dataset):\n",
    "        nb_ok = 0\n",
    "        for i in range(dataset.size()):\n",
    "            output = self.predict(dataset.getX(i))\n",
    "            if (output * dataset.getY(i) > 0):\n",
    "                nb_ok = nb_ok + 1\n",
    "        acc = nb_ok / (dataset.size() * 1.0)\n",
    "        return acc    "
   ]
  },
  {
   "cell_type": "code",
   "execution_count": 8,
   "metadata": {},
   "outputs": [],
   "source": [
    "class ClassifierRandom(Classifier):\n",
    "    def __init__(self,input_dimension):\n",
    "        super(ClassifierRandom,self).__init__(input_dimension)\n",
    "        self.set = LabeledSet(self.input_dimension)\n",
    "        \n",
    "    def train(self,set):\n",
    "        self.set = set\n",
    "    def predict(self,x):\n",
    "        return np.random.choice([-1, 1])\n"
   ]
  },
  {
   "cell_type": "markdown",
   "metadata": {},
   "source": [
    "On reprend la fonction suivante, utilisée lors des TD-TME précédent, pour dessiner la frontière de décision d'un classifieur."
   ]
  },
  {
   "cell_type": "code",
   "execution_count": 9,
   "metadata": {
    "scrolled": true
   },
   "outputs": [],
   "source": [
    "def plot_frontiere(set,classifier,step=20):\n",
    "    \"\"\" LabeledSet * Classifier * int -> NoneType\n",
    "        Remarque: le 3e argument est optionnel et donne la \"résolution\" du tracé\n",
    "        affiche la frontière de décision associée au classifieur\n",
    "    \"\"\"\n",
    "    mmax = set.x.max(0)\n",
    "    mmin = set.x.min(0)\n",
    "    x1grid, x2grid = np.meshgrid(np.linspace(mmin[0], mmax[0], step), np.linspace(mmin[1], mmax[1], step))\n",
    "    grid = np.hstack((x1grid.reshape(x1grid.size, 1), x2grid.reshape(x2grid.size, 1)))\n",
    "    \n",
    "    # calcul de la prediction pour chaque point de la grille\n",
    "    res = np.array([classifier.predict(grid[i,:]) for i in range(len(grid)) ])\n",
    "    res = res.reshape(x1grid.shape)\n",
    "    # tracé des frontieres\n",
    "    plt.contourf(x1grid, x2grid, res, colors=[\"red\", \"cyan\"], levels=[-1000,0,1000], linewidth=2)    "
   ]
  },
  {
   "cell_type": "code",
   "execution_count": 10,
   "metadata": {},
   "outputs": [
    {
     "name": "stderr",
     "output_type": "stream",
     "text": [
      "/usr/local/lib/python3.6/site-packages/matplotlib/contour.py:967: UserWarning: The following kwargs were not used by contour: 'linewidth'\n",
      "  s)\n"
     ]
    },
    {
     "data": {
      "image/png": "[encoded data removed]",
      "text/plain": [
       "<matplotlib.figure.Figure at 0x113cf05f8>"
      ]
     },
     "metadata": {},
     "output_type": "display_data"
    }
   ],
   "source": [
    "# Exemple d'utilisation:\n",
    "classifieur_random=ClassifierRandom(2)   # test avec la classe écrite dans les séances précédentes\n",
    "\n",
    "classifieur_random.train(the_set)        # the_set a été initialisé précédemment\n",
    "\n",
    "plot_frontiere(the_set,classifieur_random)   # on trace la frontière\n",
    "plot2DSet(the_set)                           # on affiche le LabeledSet dessus\n"
   ]
  },
  {
   "cell_type": "markdown",
   "metadata": {},
   "source": [
    "<font size=\"+1\">**[Q]**</font> Ecrire la fonction <code>classe_majoritaire()</code> qui, étant donné un LabeledSet rend la classe majoritaire dans l'ensemble (celle qui est possédée par le plus grand nombre d'exemples donc...). En cas d'égalité, cette fonction rend la classe +1."
   ]
  },
  {
   "cell_type": "code",
   "execution_count": 11,
   "metadata": {},
   "outputs": [],
   "source": [
    "def classe_majoritaire(set):\n",
    "    x = 0\n",
    "    y = 0\n",
    "    for i in range(set.size()):\n",
    "        if(set.getY(i) == -1):\n",
    "            y+=1\n",
    "        else:\n",
    "            x+=1\n",
    "    if(x >= y):\n",
    "        return 1\n",
    "    else:\n",
    "        return -1"
   ]
  },
  {
   "cell_type": "code",
   "execution_count": 12,
   "metadata": {},
   "outputs": [
    {
     "data": {
      "text/plain": [
       "-1"
      ]
     },
     "execution_count": 12,
     "metadata": {},
     "output_type": "execute_result"
    }
   ],
   "source": [
    "classe_majoritaire(the_set)"
   ]
  },
  {
   "cell_type": "code",
   "execution_count": 13,
   "metadata": {},
   "outputs": [],
   "source": [
    "def proportion(set):\n",
    "    x = 0\n",
    "    y = 0\n",
    "    for i in range(set.size()):\n",
    "        if(set.getY(i) == -1):\n",
    "            y+=1\n",
    "        else:\n",
    "            x+=1\n",
    "    return [(x/set.size()),(y/set.size())]"
   ]
  },
  {
   "cell_type": "code",
   "execution_count": 14,
   "metadata": {},
   "outputs": [
    {
     "data": {
      "text/plain": [
       "1.0"
      ]
     },
     "execution_count": 14,
     "metadata": {},
     "output_type": "execute_result"
    }
   ],
   "source": [
    "sum(proportion(the_set))"
   ]
  },
  {
   "cell_type": "markdown",
   "metadata": {},
   "source": [
    "## Etape 2: Arbres de décision\n",
    "\n",
    "Dans cet étape, on réalise l'implémentation de l'algorithme de construction d'un arbre de décision."
   ]
  },
  {
   "cell_type": "markdown",
   "metadata": {},
   "source": [
    "### Entropie et gain d'information\n",
    "\n",
    "Dans un premier temps, il est nécessaire écrire des fonctions pour calculer l'entropie et le gain d'information vus dans le cours 6.\n",
    "\n",
    "Etant donné une distribution de probabilités $P=(p_1, p_2,..., p_k)$, l'entropie de Shannon de cette distribution est donnée par:\n",
    "\n",
    "$ H_S(P) = -\\sum_{i=1}^{k} p_i \\log_k(p_i)$\n",
    "\n",
    "Par convention, on considère que $0\\log_k(0) = 0$. \n",
    "\n",
    "Le logarithme utilisé est le logarithme en base $k$ afin d'obtenir une valeur normalisée de l'entropie. La base du logarithme est donc $k$, le nombre de classes présentes dans la base au maximum.\n",
    "\n",
    "Dans ce qui suit, en Python, une *distribution de probabilités* est représentée par une liste $P=[p_1,...,p_k]$ de valeurs réelles telle que\n",
    "* pour tout $i=1,..., k$ : $0 \\leq p_i \\leq 1$\n",
    "* $\\sum_{i=1}^{k}p_i = 1$\n"
   ]
  },
  {
   "cell_type": "markdown",
   "metadata": {},
   "source": [
    "<font size=\"+1\">**[Q]**</font> Ecrire la fonction <code>shannon()</code> qui, étant donné une distribution de probabilités $P$, rend la valeur de l'entropie de Shannon correspondante.\n",
    "\n",
    "Remarque: pour nous, en Python, $P$ est représentée par une liste de $k$ valeurs de $[0, 1]$ telle que la somme de toutes les valeurs vaut $1$."
   ]
  },
  {
   "cell_type": "code",
   "execution_count": 15,
   "metadata": {},
   "outputs": [],
   "source": [
    "def shannon(distrib):\n",
    "    entropie = 0\n",
    "    for i in range(len(distrib)):\n",
    "        if(distrib[i] == 0):\n",
    "            entropie+=0\n",
    "        else:\n",
    "            entropie += distrib[i] * math.log(distrib[i],len(distrib))\n",
    "    return -entropie"
   ]
  },
  {
   "cell_type": "code",
   "execution_count": 16,
   "metadata": {},
   "outputs": [
    {
     "data": {
      "text/plain": [
       "-0.0"
      ]
     },
     "execution_count": 16,
     "metadata": {},
     "output_type": "execute_result"
    }
   ],
   "source": [
    "shannon([1, 0])"
   ]
  },
  {
   "cell_type": "code",
   "execution_count": 17,
   "metadata": {},
   "outputs": [
    {
     "data": {
      "text/plain": [
       "1.0"
      ]
     },
     "execution_count": 17,
     "metadata": {},
     "output_type": "execute_result"
    }
   ],
   "source": [
    "shannon([0.5, 0.5])"
   ]
  },
  {
   "cell_type": "code",
   "execution_count": 18,
   "metadata": {},
   "outputs": [
    {
     "data": {
      "text/plain": [
       "1.0"
      ]
     },
     "execution_count": 18,
     "metadata": {},
     "output_type": "execute_result"
    }
   ],
   "source": [
    "shannon([0.25, 0.25, 0.25, 0.25])"
   ]
  },
  {
   "cell_type": "code",
   "execution_count": 19,
   "metadata": {},
   "outputs": [
    {
     "data": {
      "text/plain": [
       "0.5783898247235197"
      ]
     },
     "execution_count": 19,
     "metadata": {},
     "output_type": "execute_result"
    }
   ],
   "source": [
    "shannon([0.7, 0.1, 0.2, 0.0])"
   ]
  },
  {
   "cell_type": "code",
   "execution_count": 20,
   "metadata": {},
   "outputs": [
    {
     "data": {
      "text/plain": [
       "0.9182958340544896"
      ]
     },
     "execution_count": 20,
     "metadata": {},
     "output_type": "execute_result"
    }
   ],
   "source": [
    "shannon([1.0/3, 2.0/3])"
   ]
  },
  {
   "cell_type": "markdown",
   "metadata": {},
   "source": [
    "<font size=\"+1\">**[Q]**</font> A l'aide de la fonction <code>shannon()</code>, écrire la fonction <code>entropie()</code> qui prend un LabeledSet en argument et renvoie l'entropie de sa distribution des classes dans cet ensemble."
   ]
  },
  {
   "cell_type": "code",
   "execution_count": 21,
   "metadata": {},
   "outputs": [],
   "source": [
    "def entropie(set):\n",
    "    return shannon(proportion(set))"
   ]
  },
  {
   "cell_type": "code",
   "execution_count": 22,
   "metadata": {},
   "outputs": [
    {
     "data": {
      "text/plain": [
       "0.9983636725938131"
      ]
     },
     "execution_count": 22,
     "metadata": {},
     "output_type": "execute_result"
    }
   ],
   "source": [
    "entropie(the_set)"
   ]
  },
  {
   "cell_type": "markdown",
   "metadata": {},
   "source": [
    "### Discrétisation des attributs numériques"
   ]
  },
  {
   "cell_type": "markdown",
   "metadata": {
    "collapsed": true
   },
   "source": [
    "Discrétiser un attribut numérique consiste en trouver un seuil de coupure dans son ensemble de valeurs. Pour trouver ce seuil, on sélectionne le point de coupure qui optimise la distribution des classes des exemples de chaque côté du seuil.\n",
    "\n",
    "Par exemple, soit l'attribut Age contenant les valeurs 17, 18, 20, 27, 35, 37, 40. On discrétise cet attribut en 2 valeurs en déterminant un seuil de coupure comme, par exemple, le seuil 30: cela permet de séparer d'un côté les valeurs inférieures ou égales à 30, et de l'autre les valeurs strictement supérieures à 30.\n",
    "\n",
    "Soit $E$ un ensemble d'exemples, et soit $X$ un attribut que l'on veut discrétiser. Pour cela, on constitue l'ensemble des valeurs prises par les exemples de $E$ pour l'attribut $X$. Soit $X_E$ cet ensemble de valeurs.\n",
    "La discrétisation de $X_E$ s'effectue par les étapes suivantes:\n",
    "- Etape 1: ordonner de façon croissante les valeurs de $X_E$;\n",
    "- Etape 2: regarder tous les seuils possibles de coupure entre 2 valeurs consécutives de $X_E$ (on prend comme seuil de coupure la valeur entre ces 2 valeurs). Chaque seuil trouvé créé 2 intervalles qui générent 2 sous-ensembles de $E$: \n",
    "    1) l'ensemble $E_1$ des exemples dont la valeur pour l'attribut considéré et inférieure ou égale au seuil, et 2) l'ensemble $E_2$ des exemples dont la valeur pour l'attribut considéré et supérieure au seuil;\n",
    "    - pour chacun des seuils trouvés: \n",
    "        - calculer l'entropie de la distribution des classes pour les exemples de l'ensemble $E_1$, et l'entropie de la distribution des classes  pour les exemples de $E_2$;\n",
    "        - calculer l'entropie moyenne de la coupure engendrée par le seuil considéré:\n",
    "$$H_{moy}(coupure) = \\frac{|E_1|}{|E|} H_S(E_1) + \\frac{|E_2|}{|E|} H_S(E_2);$$\n",
    "\n",
    "\n",
    "La meilleure coupure pour discrétiser $X_E$ est celle qui minimise la valeur $H_{moy}(coupure)$.\n",
    "\n",
    "\n",
    "Par exemple, soit $E=\\{17, 18, 20, 27, 35, 37, 40\\}$, chaque valeur étant associées aux classes +1, +1, -1, -1, +1, +1, -1 respectivement. Un seuil de coupure possible est $31$ ($31 = \\frac{27+35}{2}$). Ce seuil coupe $E$ en $E_1=\\{17, 18, 20, 27\\}$ et $E_2=\\{35, 37, 40\\}$.\n",
    "\n",
    "- pour $E_1$, la probabilité de chaque classe est: $p(+1)= 0.5$ et $p(-1)=0.5$ donc, $H_S(E_1)=1$;\n",
    "- pour $E_2$, la probabilité de chaque classe est: $p(+1)= \\frac{1}{3}$ et $p(-1)=\\frac{2}{3}$ donc, $H_S(E_2)=0.9182958340544896$;\n",
    "- on a donc: $$H_{moy}(coupure par 31) = \\frac{4}{7} H_S(E_1) + \\frac{3}{7} H_S(E_2);$$\n",
    "soit $H_{moy}(coupure par 31) = 0.9182958340544896$"
   ]
  },
  {
   "cell_type": "markdown",
   "metadata": {},
   "source": [
    "On considère que the_set est un LabeledSet construit précédement. Il contient deux variables de type array: x et y.\n",
    "\n",
    "Regarder et tester les instructions suivantes, il faut bien comprendre comment elles fonctionnent car on va utiliser les mêmes principes dans les fonctions à écrire."
   ]
  },
  {
   "cell_type": "code",
   "execution_count": 23,
   "metadata": {},
   "outputs": [
    {
     "data": {
      "text/plain": [
       "array([[ 0,  3],\n",
       "       [ 7, 13],\n",
       "       [ 4,  5],\n",
       "       [ 5,  7],\n",
       "       [ 6,  6],\n",
       "       [12, 20],\n",
       "       [13,  9],\n",
       "       [15, 18],\n",
       "       [18,  0],\n",
       "       [19, 19],\n",
       "       [11, 10],\n",
       "       [16, 15],\n",
       "       [10,  8],\n",
       "       [14, 17],\n",
       "       [ 2, 16],\n",
       "       [17,  1],\n",
       "       [ 3, 11],\n",
       "       [20, 12],\n",
       "       [ 1,  4],\n",
       "       [ 9, 14],\n",
       "       [ 8,  2]])"
      ]
     },
     "execution_count": 23,
     "metadata": {},
     "output_type": "execute_result"
    }
   ],
   "source": [
    "ind= np.argsort(the_set.x,axis=0)   # Tri des valeurs de the_set.x selon les colonnes. \n",
    "                                    # La fonction rend un numpy.ndarray contenant autant de \n",
    "                                    # colonnes que the_set.x et dans chaque colonne, on a \n",
    "                                    # la position de l'exemple dans l'ordonnancement croissant.\n",
    "ind # pour afficher\n",
    "#l'indice afficher correspond a l'indice du set.x de base par rapport a son ordre (croissant)\n",
    "#exemple, si l'indice 12 est dans la derniere case du tableau généré\n",
    "#ça veut dire que le 12eme element de set.x est le plus grand"
   ]
  },
  {
   "cell_type": "code",
   "execution_count": 24,
   "metadata": {},
   "outputs": [
    {
     "name": "stdout",
     "output_type": "stream",
     "text": [
      "[-0.16861865  5.35305793]\n",
      "[5.17163582 7.24489394]\n",
      "[3.36615553 8.6207384 ]\n",
      "[3.43524713 2.13290071]\n",
      "[1.30684862 8.32992449]\n",
      "[1.65553853 3.2912275 ]\n",
      "[2.02941047 4.57618921]\n",
      "[0.71836449 4.15179688]\n",
      "[5.35802427 6.16773025]\n",
      "[5.29681467 5.24442741]\n",
      "[3.14204401 5.46692359]\n",
      "[2.97583681 7.62772811]\n",
      "[2.06477139 7.69247806]\n",
      "[2.31923237 2.3539679 ]\n",
      "[3.18606417 8.49077156]\n",
      "[2.53741656 6.0051674 ]\n",
      "[3.13359541 6.93433155]\n",
      "[3.41341264 6.4551009 ]\n",
      "[2.60341801 5.2535649 ]\n",
      "[2.92457947 5.44558105]\n",
      "[3.6366914  4.59418469]\n"
     ]
    }
   ],
   "source": [
    "for i in range(the_set.size()):\n",
    "    print(the_set.getX(i))"
   ]
  },
  {
   "cell_type": "code",
   "execution_count": 25,
   "metadata": {},
   "outputs": [
    {
     "data": {
      "text/plain": [
       "array([[ 3.43524713,  2.13290071],\n",
       "       [ 2.31923237,  2.3539679 ],\n",
       "       [ 1.65553853,  3.2912275 ],\n",
       "       [ 0.71836449,  4.15179688],\n",
       "       [ 2.02941047,  4.57618921],\n",
       "       [ 3.6366914 ,  4.59418469],\n",
       "       [ 5.29681467,  5.24442741],\n",
       "       [ 2.60341801,  5.2535649 ],\n",
       "       [-0.16861865,  5.35305793],\n",
       "       [ 2.92457947,  5.44558105],\n",
       "       [ 3.14204401,  5.46692359],\n",
       "       [ 2.53741656,  6.0051674 ],\n",
       "       [ 5.35802427,  6.16773025],\n",
       "       [ 3.41341264,  6.4551009 ],\n",
       "       [ 3.13359541,  6.93433155],\n",
       "       [ 5.17163582,  7.24489394],\n",
       "       [ 2.97583681,  7.62772811],\n",
       "       [ 2.06477139,  7.69247806],\n",
       "       [ 1.30684862,  8.32992449],\n",
       "       [ 3.18606417,  8.49077156],\n",
       "       [ 3.36615553,  8.6207384 ]])"
      ]
     },
     "execution_count": 25,
     "metadata": {},
     "output_type": "execute_result"
    }
   ],
   "source": [
    "the_set.x[ind[0:len(the_set.x),1]]  # Rend le numpy.array des exemples de the_set.x ordonnés\n",
    "                                    # selon les indices donnés dans ind (colonne 0)\n"
   ]
  },
  {
   "cell_type": "code",
   "execution_count": 26,
   "metadata": {},
   "outputs": [
    {
     "data": {
      "text/plain": [
       "array([[-1],\n",
       "       [-1],\n",
       "       [-1],\n",
       "       [-1],\n",
       "       [-1],\n",
       "       [ 1],\n",
       "       [ 1],\n",
       "       [ 1],\n",
       "       [ 1],\n",
       "       [ 1],\n",
       "       [ 1],\n",
       "       [ 1],\n",
       "       [-1],\n",
       "       [ 1],\n",
       "       [-1],\n",
       "       [ 1],\n",
       "       [-1],\n",
       "       [ 1],\n",
       "       [-1],\n",
       "       [-1],\n",
       "       [-1]])"
      ]
     },
     "execution_count": 26,
     "metadata": {},
     "output_type": "execute_result"
    }
   ],
   "source": [
    "the_set.y[ind[0:len(the_set.y),0]]  # Rend le numpy.array des exemples de the_set.y ordonnés\n",
    "                                    # selon les indices donnés dans ind (colonne 0)"
   ]
  },
  {
   "cell_type": "code",
   "execution_count": 27,
   "metadata": {},
   "outputs": [
    {
     "name": "stdout",
     "output_type": "stream",
     "text": [
      "valeur= 2.1329007084613907 classe=  -1\n",
      "valeur= 2.3539678990203203 classe=  1\n",
      "valeur= 3.2912274978408256 classe=  -1\n",
      "valeur= 4.151796884221638 classe=  -1\n",
      "valeur= 4.576189205108125 classe=  -1\n",
      "valeur= 4.594184691610481 classe=  1\n",
      "valeur= 5.244427409460199 classe=  -1\n",
      "valeur= 5.253564900696623 classe=  1\n",
      "valeur= 5.353057925402831 classe=  -1\n",
      "valeur= 5.445581052113735 classe=  1\n",
      "valeur= 5.466923589684236 classe=  -1\n",
      "valeur= 6.0051673997069726 classe=  1\n",
      "valeur= 6.167730247690843 classe=  -1\n",
      "valeur= 6.455100904543466 classe=  1\n",
      "valeur= 6.934331551328697 classe=  1\n",
      "valeur= 7.244893943484626 classe=  -1\n",
      "valeur= 7.6277281069245735 classe=  1\n",
      "valeur= 7.692478058444787 classe=  1\n",
      "valeur= 8.32992448994719 classe=  -1\n",
      "valeur= 8.49077156125653 classe=  1\n",
      "valeur= 8.620738397896986 classe=  -1\n"
     ]
    }
   ],
   "source": [
    "colonne = 1    # numéro de la colonne de the_set.x à considérer\n",
    "for v_i in ind[0:len(the_set.x)]:\n",
    "    i = v_i[colonne]\n",
    "    exem = the_set.getX(i)\n",
    "    clas = the_set.getY(i)\n",
    "    print(\"valeur=\",exem[colonne], \"classe= \", clas[0])"
   ]
  },
  {
   "cell_type": "markdown",
   "metadata": {},
   "source": [
    "Etant donné un LabeledSet, ainsi qu'un numéro de colonne à considérer (qui correspond à un des attributs de description), la fonction <code>discrétise()</code> rend un tuple constitué de la valeur de coupure qui minimise l'entropie de Shannon moyenne, et de la valeur de l'entropie trouvée."
   ]
  },
  {
   "cell_type": "code",
   "execution_count": 28,
   "metadata": {},
   "outputs": [],
   "source": [
    "def discretise(LSet, col):\n",
    "    \"\"\" LabelledSet * int -> tuple[float, float]\n",
    "        col est le numéro de colonne sur X à discrétiser\n",
    "        rend la valeur de coupure qui minimise l'entropie ainsi que son entropie.\n",
    "    \"\"\"\n",
    "    # initialisation:\n",
    "    min_entropie = 1.1  # on met à une valeur max car on veut minimiser\n",
    "    min_seuil = 0.0     \n",
    "    # trie des valeurs:\n",
    "    ind= np.argsort(LSet.x,axis=0)\n",
    "    \n",
    "    # calcul des distributions des classes pour E1 et E2:\n",
    "    inf_plus  = 0               # nombre de +1 dans E1\n",
    "    inf_moins = 0               # nombre de -1 dans E1\n",
    "    sup_plus  = 0               # nombre de +1 dans E2\n",
    "    sup_moins = 0               # nombre de -1 dans E2       \n",
    "    # remarque: au départ on considère que E1 est vide et donc E2 correspond à E. \n",
    "    # Ainsi inf_plus et inf_moins valent 0. Il reste à calculer sup_plus et sup_moins \n",
    "    # dans E.\n",
    "    for j in range(0,LSet.size()):\n",
    "        if (LSet.getY(j) == -1):\n",
    "            sup_moins += 1\n",
    "        else:\n",
    "            sup_plus += 1\n",
    "    nb_total = (sup_plus + sup_moins) # nombre d'exemples total dans E\n",
    "    \n",
    "    # parcours pour trouver le meilleur seuil:\n",
    "    for i in range(len(LSet.x)-1):\n",
    "        v_ind_i = ind[i]   # vecteur d'indices\n",
    "        courant = LSet.getX(v_ind_i[col])[col]\n",
    "        lookahead = LSet.getX(ind[i+1][col])[col]\n",
    "        val_seuil = (courant + lookahead) / 2.0;\n",
    "        # M-A-J de la distrib. des classes:\n",
    "        # pour réduire les traitements: on retire un exemple de E2 et on le place\n",
    "        # dans E1, c'est ainsi que l'on déplace donc le seuil de coupure.\n",
    "        if LSet.getY(ind[i][col])[0] == -1:\n",
    "            inf_moins += 1\n",
    "            sup_moins -= 1\n",
    "        else:\n",
    "            inf_plus += 1\n",
    "            sup_plus -= 1\n",
    "        # calcul de la distribution des classes de chaque côté du seuil:\n",
    "        nb_inf = (inf_moins + inf_plus)*1.0     # rem: on en fait un float pour éviter\n",
    "        nb_sup = (sup_moins + sup_plus)*1.0     # que ce soit une division entière.\n",
    "        # calcul de l'entropie de la coupure\n",
    "        val_entropie_inf = shannon([inf_moins / nb_inf, inf_plus  / nb_inf])\n",
    "        val_entropie_sup = shannon([sup_moins / nb_sup, sup_plus  / nb_sup])\n",
    "        val_entropie = (nb_inf / nb_total) * val_entropie_inf + (nb_sup / nb_total) * val_entropie_sup\n",
    "        # si cette coupure minimise l'entropie, on mémorise ce seuil et son entropie:\n",
    "        if (min_entropie > val_entropie):\n",
    "            min_entropie = val_entropie\n",
    "            min_seuil = val_seuil\n",
    "    return (min_seuil, min_entropie)"
   ]
  },
  {
   "cell_type": "code",
   "execution_count": 29,
   "metadata": {},
   "outputs": [
    {
     "data": {
      "text/plain": [
       "(2.0470909279861544, 0.7271878117523543)"
      ]
     },
     "execution_count": 29,
     "metadata": {},
     "output_type": "execute_result"
    }
   ],
   "source": [
    "discretise(the_set,0) # le résultat dépend, bien sûr, de la base jouet"
   ]
  },
  {
   "cell_type": "code",
   "execution_count": 30,
   "metadata": {},
   "outputs": [
    {
     "data": {
      "text/plain": [
       "(4.585186948359303, 0.9251824289072748)"
      ]
     },
     "execution_count": 30,
     "metadata": {},
     "output_type": "execute_result"
    }
   ],
   "source": [
    "discretise(the_set,1) # le résultat dépend, bien sûr, de la base jouet"
   ]
  },
  {
   "cell_type": "markdown",
   "metadata": {},
   "source": [
    "Une dernière fonction utile permet de diviser une base d'exemples en 2 sous-bases en utilisant un seuil sur la valeur d'un attribut donné.\n",
    "\n",
    "<font size=\"+1\">**[Q]**</font> Ecrire la fonction divise() dont la spécification est:\n",
    "\n",
    "    def divise(LSet,att,seuil):\n",
    "        \"\"\" LSet: LabeledSet\n",
    "            att : numéro d'attribut\n",
    "            seuil : valeur de seuil\n",
    "            rend le tuple contenant les 2 sous-LabeledSet obtenus par la\n",
    "            division de LSet selon le seuil sur l'attribut att\n",
    "        \"\"\"\n",
    "\n"
   ]
  },
  {
   "cell_type": "code",
   "execution_count": 73,
   "metadata": {},
   "outputs": [],
   "source": [
    "def divise(LSet,att,seuil):\n",
    "    L1 = LabeledSet(2)\n",
    "    L2 = LabeledSet(2)\n",
    "    \n",
    "    for i in range(LSet.size()):\n",
    "        if(LSet.getX(i)[att] <= seuil):\n",
    "            L1.addExample(LSet.getX(i),LSet.getY(i))\n",
    "        else:\n",
    "            L2.addExample(LSet.getX(i),LSet.getY(i))\n",
    "    return L1,L2\n",
    "    "
   ]
  },
  {
   "cell_type": "code",
   "execution_count": 74,
   "metadata": {},
   "outputs": [
    {
     "name": "stdout",
     "output_type": "stream",
     "text": [
      "entropie inférieur: 0.9182958340544896  / entropie supérieur: 0.9967916319816366\n"
     ]
    }
   ],
   "source": [
    "Linf, Lsup = divise(the_set,1,5)\n",
    "print(\"entropie inférieur:\",entropie(Linf),\" / entropie supérieur:\", entropie(Lsup))\n",
    "# remarque: les résultats dépendent de votre base jouet..."
   ]
  },
  {
   "cell_type": "markdown",
   "metadata": {},
   "source": [
    "### Représentation d'un arbre en Python"
   ]
  },
  {
   "cell_type": "markdown",
   "metadata": {},
   "source": [
    "Un arbre de décision est doit être représenté en Python, pour cela, on utilise la classe <code>ArbreBinaire</code> suivante:"
   ]
  },
  {
   "cell_type": "code",
   "execution_count": 33,
   "metadata": {},
   "outputs": [],
   "source": [
    "import graphviz as gv\n",
    "\n",
    "class ArbreBinaire:\n",
    "    def __init__(self):\n",
    "        self.attribut = None   # numéro de l'attribut\n",
    "        self.seuil = None\n",
    "        self.inferieur = None # ArbreBinaire Gauche (valeurs <= au seuil)\n",
    "        self.superieur = None # ArbreBinaire Gauche (valeurs > au seuil)\n",
    "        self.classe = None # Classe si c'est une feuille: -1 ou +1\n",
    "        \n",
    "    def est_feuille(self):\n",
    "        \"\"\" rend True si l'arbre est une feuille \"\"\"\n",
    "        return self.seuil == None\n",
    "    \n",
    "    def ajoute_fils(self,ABinf,ABsup,att,seuil):\n",
    "        \"\"\" ABinf, ABsup: 2 arbres binaires\n",
    "            att: numéro d'attribut\n",
    "            seuil: valeur de seuil\n",
    "        \"\"\"\n",
    "        self.attribut = att\n",
    "        self.seuil = seuil\n",
    "        self.inferieur = ABinf\n",
    "        self.superieur = ABsup\n",
    "    \n",
    "    def ajoute_feuille(self,classe):\n",
    "        \"\"\" classe: -1 ou + 1\n",
    "        \"\"\"\n",
    "        self.classe = classe\n",
    "        \n",
    "    def classifie(self,exemple):\n",
    "        \"\"\" exemple : numpy.array\n",
    "            rend la classe de l'exemple: +1 ou -1\n",
    "        \"\"\"\n",
    "        if self.est_feuille():\n",
    "            return self.classe\n",
    "        if exemple[self.attribut] <= self.seuil:\n",
    "            return self.inferieur.classifie(exemple)\n",
    "        return self.superieur.classifie(exemple)    \n",
    "    def to_graph(self, g, prefixe='A'):\n",
    "        \"\"\" construit une représentation de l'arbre pour pouvoir\n",
    "            l'afficher\n",
    "        \"\"\"\n",
    "        if self.est_feuille():\n",
    "            g.node(prefixe,str(self.classe),shape='box')\n",
    "        else:\n",
    "            g.node(prefixe, str(self.attribut))\n",
    "            self.inferieur.to_graph(g,prefixe+\"g\")\n",
    "            self.superieur.to_graph(g,prefixe+\"d\")\n",
    "            g.edge(prefixe,prefixe+\"g\", '<='+ str(self.seuil))\n",
    "            g.edge(prefixe,prefixe+\"d\", '>'+ str(self.seuil))\n",
    "        \n",
    "        return g"
   ]
  },
  {
   "cell_type": "code",
   "execution_count": 34,
   "metadata": {},
   "outputs": [
    {
     "data": {
      "image/svg+xml": [
       "<?xml version=\"1.0\" encoding=\"UTF-8\" standalone=\"no\"?>\n",
       "<!DOCTYPE svg PUBLIC \"-//W3C//DTD SVG 1.1//EN\"\n",
       " \"http://www.w3.org/Graphics/SVG/1.1/DTD/svg11.dtd\">\n",
       "<!-- Generated by graphviz version 2.40.1 (20161225.0304)\n",
       " -->\n",
       "<!-- Title: %3 Pages: 1 -->\n",
       "<svg width=\"170pt\" height=\"216pt\"\n",
       " viewBox=\"0.00 0.00 170.00 216.00\" xmlns=\"http://www.w3.org/2000/svg\" xmlns:xlink=\"http://www.w3.org/1999/xlink\">\n",
       "<g id=\"graph0\" class=\"graph\" transform=\"scale(1 1) rotate(0) translate(4 212)\">\n",
       "<title>%3</title>\n",
       "<polygon fill=\"#ffffff\" stroke=\"transparent\" points=\"-4,4 -4,-212 166,-212 166,4 -4,4\"/>\n",
       "<!-- A -->\n",
       "<g id=\"node1\" class=\"node\">\n",
       "<title>A</title>\n",
       "<ellipse fill=\"none\" stroke=\"#000000\" cx=\"60\" cy=\"-190\" rx=\"27\" ry=\"18\"/>\n",
       "<text text-anchor=\"middle\" x=\"60\" y=\"-185.8\" font-family=\"Times,serif\" font-size=\"14.00\" fill=\"#000000\">nom</text>\n",
       "</g>\n",
       "<!-- Ag -->\n",
       "<g id=\"node2\" class=\"node\">\n",
       "<title>Ag</title>\n",
       "<polygon fill=\"none\" stroke=\"#000000\" points=\"54,-122 0,-122 0,-86 54,-86 54,-122\"/>\n",
       "<text text-anchor=\"middle\" x=\"27\" y=\"-99.8\" font-family=\"Times,serif\" font-size=\"14.00\" fill=\"#000000\">1</text>\n",
       "</g>\n",
       "<!-- A&#45;&gt;Ag -->\n",
       "<g id=\"edge3\" class=\"edge\">\n",
       "<title>A&#45;&gt;Ag</title>\n",
       "<path fill=\"none\" stroke=\"#000000\" d=\"M44.8686,-174.7655C39.8184,-168.7742 34.7163,-161.5297 31.709,-154 29.0147,-147.2541 27.5754,-139.6035 26.8595,-132.3514\"/>\n",
       "<polygon fill=\"#000000\" stroke=\"#000000\" points=\"30.3417,-131.9429 26.2664,-122.1632 23.3536,-132.3498 30.3417,-131.9429\"/>\n",
       "<text text-anchor=\"middle\" x=\"52.1455\" y=\"-142.8\" font-family=\"Times,serif\" font-size=\"14.00\" fill=\"#000000\">&lt;=42.0</text>\n",
       "</g>\n",
       "<!-- Ad -->\n",
       "<g id=\"node3\" class=\"node\">\n",
       "<title>Ad</title>\n",
       "<ellipse fill=\"none\" stroke=\"#000000\" cx=\"99\" cy=\"-104\" rx=\"27\" ry=\"18\"/>\n",
       "<text text-anchor=\"middle\" x=\"99\" y=\"-99.8\" font-family=\"Times,serif\" font-size=\"14.00\" fill=\"#000000\">age</text>\n",
       "</g>\n",
       "<!-- A&#45;&gt;Ad -->\n",
       "<g id=\"edge4\" class=\"edge\">\n",
       "<title>A&#45;&gt;Ad</title>\n",
       "<path fill=\"none\" stroke=\"#000000\" d=\"M67.8922,-172.5966C73.337,-160.5902 80.6801,-144.3977 86.8647,-130.76\"/>\n",
       "<polygon fill=\"#000000\" stroke=\"#000000\" points=\"90.177,-131.9303 91.1195,-121.3775 83.8018,-129.0393 90.177,-131.9303\"/>\n",
       "<text text-anchor=\"middle\" x=\"97.1978\" y=\"-142.8\" font-family=\"Times,serif\" font-size=\"14.00\" fill=\"#000000\">&gt;42.0</text>\n",
       "</g>\n",
       "<!-- Adg -->\n",
       "<g id=\"node4\" class=\"node\">\n",
       "<title>Adg</title>\n",
       "<polygon fill=\"none\" stroke=\"#000000\" points=\"90,-36 36,-36 36,0 90,0 90,-36\"/>\n",
       "<text text-anchor=\"middle\" x=\"63\" y=\"-13.8\" font-family=\"Times,serif\" font-size=\"14.00\" fill=\"#000000\">1</text>\n",
       "</g>\n",
       "<!-- Ad&#45;&gt;Adg -->\n",
       "<g id=\"edge1\" class=\"edge\">\n",
       "<title>Ad&#45;&gt;Adg</title>\n",
       "<path fill=\"none\" stroke=\"#000000\" d=\"M85.3305,-88.4464C80.6797,-82.4206 75.8649,-75.2358 72.709,-68 69.7295,-61.1688 67.6595,-53.4161 66.2231,-46.0892\"/>\n",
       "<polygon fill=\"#000000\" stroke=\"#000000\" points=\"69.6655,-45.4527 64.5855,-36.1551 62.7587,-46.5912 69.6655,-45.4527\"/>\n",
       "<text text-anchor=\"middle\" x=\"92.1455\" y=\"-56.8\" font-family=\"Times,serif\" font-size=\"14.00\" fill=\"#000000\">&lt;=30.0</text>\n",
       "</g>\n",
       "<!-- Add -->\n",
       "<g id=\"node5\" class=\"node\">\n",
       "<title>Add</title>\n",
       "<polygon fill=\"none\" stroke=\"#000000\" points=\"162,-36 108,-36 108,0 162,0 162,-36\"/>\n",
       "<text text-anchor=\"middle\" x=\"135\" y=\"-13.8\" font-family=\"Times,serif\" font-size=\"14.00\" fill=\"#000000\">None</text>\n",
       "</g>\n",
       "<!-- Ad&#45;&gt;Add -->\n",
       "<g id=\"edge2\" class=\"edge\">\n",
       "<title>Ad&#45;&gt;Add</title>\n",
       "<path fill=\"none\" stroke=\"#000000\" d=\"M106.2851,-86.5966C111.2119,-74.8272 117.8225,-59.0352 123.4589,-45.5704\"/>\n",
       "<polygon fill=\"#000000\" stroke=\"#000000\" points=\"126.72,-46.8439 127.3529,-36.268 120.263,-44.1409 126.72,-46.8439\"/>\n",
       "<text text-anchor=\"middle\" x=\"135.1978\" y=\"-56.8\" font-family=\"Times,serif\" font-size=\"14.00\" fill=\"#000000\">&gt;30.0</text>\n",
       "</g>\n",
       "</g>\n",
       "</svg>\n"
      ],
      "text/plain": [
       "<graphviz.dot.Digraph at 0x1141a2860>"
      ]
     },
     "execution_count": 34,
     "metadata": {},
     "output_type": "execute_result"
    }
   ],
   "source": [
    "# Exemple d'utilisation: \n",
    "un_arbre= ArbreBinaire()\n",
    "un_arbre.ajoute_feuille(1)\n",
    "un_arbre.est_feuille()\n",
    "\n",
    "un_arbre1 = ArbreBinaire()\n",
    "un_arbre1.ajoute_fils(un_arbre,ArbreBinaire(),\"age\",30.0)\n",
    "\n",
    "un_arbre2 = ArbreBinaire()\n",
    "un_arbre2.ajoute_fils(un_arbre,un_arbre1,\"nom\",42.0)\n",
    "\n",
    "\n",
    "gtree = gv.Digraph(format='png')\n",
    "un_arbre2.to_graph(gtree)"
   ]
  },
  {
   "cell_type": "markdown",
   "metadata": {},
   "source": [
    "### Construction de l'arbre de décision"
   ]
  },
  {
   "cell_type": "markdown",
   "metadata": {},
   "source": [
    "Pour construire un arbre de décision, il faut réaliser les étapes suivantes:\n",
    "- si l'entropie de Shannon de la distribution des classes de l'ensemble courant est inférieure à epsilon (réel positif fixé et qui est un paramètre de l'algorithme), alors construire une feuille avec cet ensemble, la classe associée à cette feuille est la classe majoritaire;\n",
    "- sinon, pour chaque attribut, calculer le seuil de discrétisation et l'entropie de Shannon correspondante\n",
    "    - choisir l'attribut qui donne une valeur d'entropie minimale\n",
    "    - l'attribut choisi sert à constituer un noeud de l'arbre de décision, les arcs issus de ce noeud sont labeller par un test (inférieur ou égal ou supérieur) par rapport au seuil trouvé\n",
    "    \n",
    "    \n",
    "<font size=\"+1\">**[Q]**</font> Ecrire la fonction qui construit un arbre de décision (binaire) à partir d'une base d'exemples. En plus de la base d'exemples, on utilise un argument \"epsilon\" qui est un réel >0 et qui sert pour le critère d'arrêt.\n",
    "Cette fonction a la spécification suivante:\n",
    "\n",
    "    def construit_AD(LSet,epsilon):\n",
    "        \"\"\" LSet : LabeledSet\n",
    "            epsilon : seuil d'entropie pour le critère d'arrêt \n",
    "        \"\"\"\n"
   ]
  },
  {
   "cell_type": "code",
   "execution_count": 91,
   "metadata": {},
   "outputs": [],
   "source": [
    "def construit_AD(LSet, epsilon):\n",
    "    seuils = []\n",
    "    entropies = []\n",
    "    decision_tree = ArbreBinaire()\n",
    "    if(entropie(LSet) <= epsilon):\n",
    "        leaf = ArbreBinaire()\n",
    "        leaf.ajoute_feuille(classe_majoritaire(LSet))\n",
    "        leaf.est_feuille()\n",
    "        return leaf\n",
    "    else:\n",
    "        for i in range(LSet.getInputDimension()):\n",
    "            seuil,entrop = discretise(LSet,i)\n",
    "            seuils.append(seuil)\n",
    "            entropies.append(entrop)\n",
    "            \n",
    "        ind = entropies.index(min(entropies))\n",
    "        ds1,ds2 = divise(LSet,ind,seuils[ind])\n",
    "        decision_tree.ajoute_fils(construit_AD(ds1,epsilon),construit_AD(ds2,epsilon),ind,seuils[ind])\n",
    "    return decision_tree"
   ]
  },
  {
   "cell_type": "code",
   "execution_count": 92,
   "metadata": {},
   "outputs": [
    {
     "data": {
      "image/svg+xml": [
       "<?xml version=\"1.0\" encoding=\"UTF-8\" standalone=\"no\"?>\n",
       "<!DOCTYPE svg PUBLIC \"-//W3C//DTD SVG 1.1//EN\"\n",
       " \"http://www.w3.org/Graphics/SVG/1.1/DTD/svg11.dtd\">\n",
       "<!-- Generated by graphviz version 2.40.1 (20161225.0304)\n",
       " -->\n",
       "<!-- Title: %3 Pages: 1 -->\n",
       "<svg width=\"540pt\" height=\"560pt\"\n",
       " viewBox=\"0.00 0.00 540.40 560.00\" xmlns=\"http://www.w3.org/2000/svg\" xmlns:xlink=\"http://www.w3.org/1999/xlink\">\n",
       "<g id=\"graph0\" class=\"graph\" transform=\"scale(1 1) rotate(0) translate(4 556)\">\n",
       "<title>%3</title>\n",
       "<polygon fill=\"#ffffff\" stroke=\"transparent\" points=\"-4,4 -4,-556 536.3955,-556 536.3955,4 -4,4\"/>\n",
       "<!-- A -->\n",
       "<g id=\"node1\" class=\"node\">\n",
       "<title>A</title>\n",
       "<ellipse fill=\"none\" stroke=\"#000000\" cx=\"107\" cy=\"-534\" rx=\"27\" ry=\"18\"/>\n",
       "<text text-anchor=\"middle\" x=\"107\" y=\"-529.8\" font-family=\"Times,serif\" font-size=\"14.00\" fill=\"#000000\">0</text>\n",
       "</g>\n",
       "<!-- Ag -->\n",
       "<g id=\"node2\" class=\"node\">\n",
       "<title>Ag</title>\n",
       "<polygon fill=\"none\" stroke=\"#000000\" points=\"54,-466 0,-466 0,-430 54,-430 54,-466\"/>\n",
       "<text text-anchor=\"middle\" x=\"27\" y=\"-443.8\" font-family=\"Times,serif\" font-size=\"14.00\" fill=\"#000000\">&#45;1</text>\n",
       "</g>\n",
       "<!-- A&#45;&gt;Ag -->\n",
       "<g id=\"edge11\" class=\"edge\">\n",
       "<title>A&#45;&gt;Ag</title>\n",
       "<path fill=\"none\" stroke=\"#000000\" d=\"M80.4391,-529.5316C62.2485,-524.947 39.3801,-515.8377 27.709,-498 23.5262,-491.6072 22.1353,-483.7012 22.1111,-476.0778\"/>\n",
       "<polygon fill=\"#000000\" stroke=\"#000000\" points=\"25.6081,-476.2395 22.7914,-466.026 18.624,-475.7668 25.6081,-476.2395\"/>\n",
       "<text text-anchor=\"middle\" x=\"97.1455\" y=\"-486.8\" font-family=\"Times,serif\" font-size=\"14.00\" fill=\"#000000\">&lt;=2.0470909279861544</text>\n",
       "</g>\n",
       "<!-- Ad -->\n",
       "<g id=\"node3\" class=\"node\">\n",
       "<title>Ad</title>\n",
       "<ellipse fill=\"none\" stroke=\"#000000\" cx=\"188\" cy=\"-448\" rx=\"27\" ry=\"18\"/>\n",
       "<text text-anchor=\"middle\" x=\"188\" y=\"-443.8\" font-family=\"Times,serif\" font-size=\"14.00\" fill=\"#000000\">0</text>\n",
       "</g>\n",
       "<!-- A&#45;&gt;Ad -->\n",
       "<g id=\"edge12\" class=\"edge\">\n",
       "<title>A&#45;&gt;Ad</title>\n",
       "<path fill=\"none\" stroke=\"#000000\" d=\"M129.7789,-524.2356C141.8261,-518.1367 156.1243,-509.2891 166,-498 171.6198,-491.5759 176.0073,-483.4889 179.3344,-475.7023\"/>\n",
       "<polygon fill=\"#000000\" stroke=\"#000000\" points=\"182.6856,-476.738 182.9945,-466.1476 176.1488,-474.2339 182.6856,-476.738\"/>\n",
       "<text text-anchor=\"middle\" x=\"241.1978\" y=\"-486.8\" font-family=\"Times,serif\" font-size=\"14.00\" fill=\"#000000\">&gt;2.0470909279861544</text>\n",
       "</g>\n",
       "<!-- Adg -->\n",
       "<g id=\"node4\" class=\"node\">\n",
       "<title>Adg</title>\n",
       "<polygon fill=\"none\" stroke=\"#000000\" points=\"138,-380 84,-380 84,-344 138,-344 138,-380\"/>\n",
       "<text text-anchor=\"middle\" x=\"111\" y=\"-357.8\" font-family=\"Times,serif\" font-size=\"14.00\" fill=\"#000000\">1</text>\n",
       "</g>\n",
       "<!-- Ad&#45;&gt;Adg -->\n",
       "<g id=\"edge9\" class=\"edge\">\n",
       "<title>Ad&#45;&gt;Adg</title>\n",
       "<path fill=\"none\" stroke=\"#000000\" d=\"M161.6653,-443.0403C144.274,-438.2588 122.7294,-429.1164 111.709,-412 107.6842,-405.7488 106.2729,-398.0844 106.1769,-390.652\"/>\n",
       "<polygon fill=\"#000000\" stroke=\"#000000\" points=\"109.6825,-390.6608 106.7817,-380.4708 102.6948,-390.2456 109.6825,-390.6608\"/>\n",
       "<text text-anchor=\"middle\" x=\"177.6455\" y=\"-400.8\" font-family=\"Times,serif\" font-size=\"14.00\" fill=\"#000000\">&lt;=3.137819709174472</text>\n",
       "</g>\n",
       "<!-- Add -->\n",
       "<g id=\"node5\" class=\"node\">\n",
       "<title>Add</title>\n",
       "<ellipse fill=\"none\" stroke=\"#000000\" cx=\"265\" cy=\"-362\" rx=\"27\" ry=\"18\"/>\n",
       "<text text-anchor=\"middle\" x=\"265\" y=\"-357.8\" font-family=\"Times,serif\" font-size=\"14.00\" fill=\"#000000\">0</text>\n",
       "</g>\n",
       "<!-- Ad&#45;&gt;Add -->\n",
       "<g id=\"edge10\" class=\"edge\">\n",
       "<title>Ad&#45;&gt;Add</title>\n",
       "<path fill=\"none\" stroke=\"#000000\" d=\"M210.0346,-437.467C221.0871,-431.297 234.0001,-422.623 243,-412 248.5173,-405.4876 252.8744,-397.3745 256.2051,-389.591\"/>\n",
       "<polygon fill=\"#000000\" stroke=\"#000000\" points=\"259.5506,-390.643 259.8851,-380.0535 253.0199,-388.1231 259.5506,-390.643\"/>\n",
       "<text text-anchor=\"middle\" x=\"314.6978\" y=\"-400.8\" font-family=\"Times,serif\" font-size=\"14.00\" fill=\"#000000\">&gt;3.137819709174472</text>\n",
       "</g>\n",
       "<!-- Addg -->\n",
       "<g id=\"node6\" class=\"node\">\n",
       "<title>Addg</title>\n",
       "<ellipse fill=\"none\" stroke=\"#000000\" cx=\"188\" cy=\"-276\" rx=\"27\" ry=\"18\"/>\n",
       "<text text-anchor=\"middle\" x=\"188\" y=\"-271.8\" font-family=\"Times,serif\" font-size=\"14.00\" fill=\"#000000\">0</text>\n",
       "</g>\n",
       "<!-- Add&#45;&gt;Addg -->\n",
       "<g id=\"edge7\" class=\"edge\">\n",
       "<title>Add&#45;&gt;Addg</title>\n",
       "<path fill=\"none\" stroke=\"#000000\" d=\"M238.6653,-357.0403C221.274,-352.2588 199.7294,-343.1164 188.709,-326 184.5733,-319.5766 183.1971,-311.6611 183.1719,-304.0383\"/>\n",
       "<polygon fill=\"#000000\" stroke=\"#000000\" points=\"186.6686,-304.2037 183.8428,-293.9926 179.6842,-303.7372 186.6686,-304.2037\"/>\n",
       "<text text-anchor=\"middle\" x=\"254.6455\" y=\"-314.8\" font-family=\"Times,serif\" font-size=\"14.00\" fill=\"#000000\">&lt;=4.404163607702605</text>\n",
       "</g>\n",
       "<!-- Addd -->\n",
       "<g id=\"node13\" class=\"node\">\n",
       "<title>Addd</title>\n",
       "<polygon fill=\"none\" stroke=\"#000000\" points=\"369,-294 315,-294 315,-258 369,-258 369,-294\"/>\n",
       "<text text-anchor=\"middle\" x=\"342\" y=\"-271.8\" font-family=\"Times,serif\" font-size=\"14.00\" fill=\"#000000\">&#45;1</text>\n",
       "</g>\n",
       "<!-- Add&#45;&gt;Addd -->\n",
       "<g id=\"edge8\" class=\"edge\">\n",
       "<title>Add&#45;&gt;Addd</title>\n",
       "<path fill=\"none\" stroke=\"#000000\" d=\"M287.0346,-351.467C298.0871,-345.297 311.0001,-336.623 320,-326 325.5173,-319.4876 329.8744,-311.3745 333.2051,-303.591\"/>\n",
       "<polygon fill=\"#000000\" stroke=\"#000000\" points=\"336.5506,-304.643 336.8851,-294.0535 330.0199,-302.1231 336.5506,-304.643\"/>\n",
       "<text text-anchor=\"middle\" x=\"390.6978\" y=\"-314.8\" font-family=\"Times,serif\" font-size=\"14.00\" fill=\"#000000\">&gt;4.404163607702605</text>\n",
       "</g>\n",
       "<!-- Addgg -->\n",
       "<g id=\"node7\" class=\"node\">\n",
       "<title>Addgg</title>\n",
       "<polygon fill=\"none\" stroke=\"#000000\" points=\"138,-208 84,-208 84,-172 138,-172 138,-208\"/>\n",
       "<text text-anchor=\"middle\" x=\"111\" y=\"-185.8\" font-family=\"Times,serif\" font-size=\"14.00\" fill=\"#000000\">&#45;1</text>\n",
       "</g>\n",
       "<!-- Addg&#45;&gt;Addgg -->\n",
       "<g id=\"edge5\" class=\"edge\">\n",
       "<title>Addg&#45;&gt;Addgg</title>\n",
       "<path fill=\"none\" stroke=\"#000000\" d=\"M161.6653,-271.0403C144.274,-266.2588 122.7294,-257.1164 111.709,-240 107.6842,-233.7488 106.2729,-226.0844 106.1769,-218.652\"/>\n",
       "<polygon fill=\"#000000\" stroke=\"#000000\" points=\"109.6825,-218.6608 106.7817,-208.4708 102.6948,-218.2456 109.6825,-218.6608\"/>\n",
       "<text text-anchor=\"middle\" x=\"177.6455\" y=\"-228.8\" font-family=\"Times,serif\" font-size=\"14.00\" fill=\"#000000\">&lt;=3.164054085514793</text>\n",
       "</g>\n",
       "<!-- Addgd -->\n",
       "<g id=\"node8\" class=\"node\">\n",
       "<title>Addgd</title>\n",
       "<ellipse fill=\"none\" stroke=\"#000000\" cx=\"265\" cy=\"-190\" rx=\"27\" ry=\"18\"/>\n",
       "<text text-anchor=\"middle\" x=\"265\" y=\"-185.8\" font-family=\"Times,serif\" font-size=\"14.00\" fill=\"#000000\">1</text>\n",
       "</g>\n",
       "<!-- Addg&#45;&gt;Addgd -->\n",
       "<g id=\"edge6\" class=\"edge\">\n",
       "<title>Addg&#45;&gt;Addgd</title>\n",
       "<path fill=\"none\" stroke=\"#000000\" d=\"M210.0346,-265.467C221.0871,-259.297 234.0001,-250.623 243,-240 248.5173,-233.4876 252.8744,-225.3745 256.2051,-217.591\"/>\n",
       "<polygon fill=\"#000000\" stroke=\"#000000\" points=\"259.5506,-218.643 259.8851,-208.0535 253.0199,-216.1231 259.5506,-218.643\"/>\n",
       "<text text-anchor=\"middle\" x=\"314.6978\" y=\"-228.8\" font-family=\"Times,serif\" font-size=\"14.00\" fill=\"#000000\">&gt;3.164054085514793</text>\n",
       "</g>\n",
       "<!-- Addgdg -->\n",
       "<g id=\"node9\" class=\"node\">\n",
       "<title>Addgdg</title>\n",
       "<polygon fill=\"none\" stroke=\"#000000\" points=\"211,-122 157,-122 157,-86 211,-86 211,-122\"/>\n",
       "<text text-anchor=\"middle\" x=\"184\" y=\"-99.8\" font-family=\"Times,serif\" font-size=\"14.00\" fill=\"#000000\">&#45;1</text>\n",
       "</g>\n",
       "<!-- Addgd&#45;&gt;Addgdg -->\n",
       "<g id=\"edge3\" class=\"edge\">\n",
       "<title>Addgd&#45;&gt;Addgdg</title>\n",
       "<path fill=\"none\" stroke=\"#000000\" d=\"M238.372,-186.4247C218.7761,-182.2467 193.4227,-173.2546 180.709,-154 176.4907,-147.6116 175.5614,-139.707 176.1583,-132.0835\"/>\n",
       "<polygon fill=\"#000000\" stroke=\"#000000\" points=\"179.643,-132.4557 177.7528,-122.0308 172.7294,-131.3591 179.643,-132.4557\"/>\n",
       "<text text-anchor=\"middle\" x=\"250.1455\" y=\"-142.8\" font-family=\"Times,serif\" font-size=\"14.00\" fill=\"#000000\">&lt;=3.3635427000359357</text>\n",
       "</g>\n",
       "<!-- Addgdd -->\n",
       "<g id=\"node10\" class=\"node\">\n",
       "<title>Addgdd</title>\n",
       "<ellipse fill=\"none\" stroke=\"#000000\" cx=\"345\" cy=\"-104\" rx=\"27\" ry=\"18\"/>\n",
       "<text text-anchor=\"middle\" x=\"345\" y=\"-99.8\" font-family=\"Times,serif\" font-size=\"14.00\" fill=\"#000000\">1</text>\n",
       "</g>\n",
       "<!-- Addgd&#45;&gt;Addgdd -->\n",
       "<g id=\"edge4\" class=\"edge\">\n",
       "<title>Addgd&#45;&gt;Addgdd</title>\n",
       "<path fill=\"none\" stroke=\"#000000\" d=\"M287.675,-180.008C299.4573,-173.8907 313.3663,-165.0976 323,-154 328.5953,-147.5545 332.9755,-139.4612 336.3034,-131.6753\"/>\n",
       "<polygon fill=\"#000000\" stroke=\"#000000\" points=\"339.6533,-132.715 339.9683,-122.1248 333.1179,-130.2071 339.6533,-132.715\"/>\n",
       "<text text-anchor=\"middle\" x=\"397.1978\" y=\"-142.8\" font-family=\"Times,serif\" font-size=\"14.00\" fill=\"#000000\">&gt;3.3635427000359357</text>\n",
       "</g>\n",
       "<!-- Addgddg -->\n",
       "<g id=\"node11\" class=\"node\">\n",
       "<title>Addgddg</title>\n",
       "<polygon fill=\"none\" stroke=\"#000000\" points=\"295,-36 241,-36 241,0 295,0 295,-36\"/>\n",
       "<text text-anchor=\"middle\" x=\"268\" y=\"-13.8\" font-family=\"Times,serif\" font-size=\"14.00\" fill=\"#000000\">1</text>\n",
       "</g>\n",
       "<!-- Addgdd&#45;&gt;Addgddg -->\n",
       "<g id=\"edge1\" class=\"edge\">\n",
       "<title>Addgdd&#45;&gt;Addgddg</title>\n",
       "<path fill=\"none\" stroke=\"#000000\" d=\"M318.6653,-99.0403C301.274,-94.2588 279.7294,-85.1164 268.709,-68 264.6842,-61.7488 263.2729,-54.0844 263.1769,-46.652\"/>\n",
       "<polygon fill=\"#000000\" stroke=\"#000000\" points=\"266.6825,-46.6608 263.7817,-36.4708 259.6948,-46.2456 266.6825,-46.6608\"/>\n",
       "<text text-anchor=\"middle\" x=\"333.6455\" y=\"-56.8\" font-family=\"Times,serif\" font-size=\"14.00\" fill=\"#000000\">&lt;=8.555754979576758</text>\n",
       "</g>\n",
       "<!-- Addgddd -->\n",
       "<g id=\"node12\" class=\"node\">\n",
       "<title>Addgddd</title>\n",
       "<polygon fill=\"none\" stroke=\"#000000\" points=\"449,-36 395,-36 395,0 449,0 449,-36\"/>\n",
       "<text text-anchor=\"middle\" x=\"422\" y=\"-13.8\" font-family=\"Times,serif\" font-size=\"14.00\" fill=\"#000000\">&#45;1</text>\n",
       "</g>\n",
       "<!-- Addgdd&#45;&gt;Addgddd -->\n",
       "<g id=\"edge2\" class=\"edge\">\n",
       "<title>Addgdd&#45;&gt;Addgddd</title>\n",
       "<path fill=\"none\" stroke=\"#000000\" d=\"M367.0346,-93.467C378.0871,-87.297 391.0001,-78.623 400,-68 405.5173,-61.4876 409.8744,-53.3745 413.2051,-45.591\"/>\n",
       "<polygon fill=\"#000000\" stroke=\"#000000\" points=\"416.5506,-46.643 416.8851,-36.0535 410.0199,-44.1231 416.5506,-46.643\"/>\n",
       "<text text-anchor=\"middle\" x=\"470.6978\" y=\"-56.8\" font-family=\"Times,serif\" font-size=\"14.00\" fill=\"#000000\">&gt;8.555754979576758</text>\n",
       "</g>\n",
       "</g>\n",
       "</svg>\n"
      ],
      "text/plain": [
       "<graphviz.dot.Digraph at 0x113c4cfd0>"
      ]
     },
     "execution_count": 92,
     "metadata": {},
     "output_type": "execute_result"
    }
   ],
   "source": [
    "#test de l'affichage\n",
    "tree = construit_AD(the_set,0.0)\n",
    "gtree = gv.Digraph(format='png')\n",
    "tree.to_graph(gtree)"
   ]
  },
  {
   "cell_type": "markdown",
   "metadata": {},
   "source": [
    "### Classification avec arbre de décision\n"
   ]
  },
  {
   "cell_type": "markdown",
   "metadata": {},
   "source": [
    "Pour classer un nouvel exemple avec un arbre de décision, il faut parcourir l'arbre, de la racine vers une feuille en respectant les tests rencontrés dans chaque arc. Une fois atteint une feuille, la classe de l'exemple est celle présente dans la feuille.\n",
    "\n",
    "La classe ArbreBinaire contient déjà une fonction <code>classifie</code> qui permet de classer un nouvel exemple et de renvoyer la classe +1 ou -1 selon le cas."
   ]
  },
  {
   "cell_type": "markdown",
   "metadata": {},
   "source": [
    "### Implémentation"
   ]
  },
  {
   "cell_type": "markdown",
   "metadata": {},
   "source": [
    "De la même façon que pour le knn, on définit le classifieur <code>ArbreDecision</code> (classe héritant de la classe Classifier vue lors du TD-TME 5) comme suit.\n",
    "\n",
    "Si toutes les fonctions précédentes ont été écrites correctement, il est maintenant possible de construire un arbre de décision à partir de la base jouet.\n"
   ]
  },
  {
   "cell_type": "markdown",
   "metadata": {},
   "source": [
    "## Applications à des données réelles"
   ]
  },
  {
   "cell_type": "code",
   "execution_count": 93,
   "metadata": {},
   "outputs": [],
   "source": [
    "class ArbreDecision(Classifier):\n",
    "    # Constructeur\n",
    "    def __init__(self,epsilon):\n",
    "        # valeur seuil d'entropie pour arrêter la construction\n",
    "        self.epsilon= epsilon\n",
    "        self.racine = None\n",
    "    \n",
    "    # Permet de calculer la prediction sur x => renvoie un score\n",
    "    def predict(self,x):\n",
    "        # classification de l'exemple x avec l'arbre de décision\n",
    "        # on rend 0 (classe -1) ou 1 (classe 1)\n",
    "        classe = self.racine.classifie(x)\n",
    "        if (classe == 1):\n",
    "            return(1)\n",
    "        else:\n",
    "            return(-1)\n",
    "    \n",
    "    # Permet d'entrainer le modele sur un ensemble de données\n",
    "    def train(self,set):\n",
    "        # construction de l'arbre de décision \n",
    "        self.set=set\n",
    "        self.racine = construit_AD(set,self.epsilon)\n",
    "\n",
    "    # Permet d'afficher l'arbre\n",
    "    def plot(self):\n",
    "        gtree = gv.Digraph(format='png')\n",
    "        return self.racine.to_graph(gtree)\n",
    "        "
   ]
  },
  {
   "cell_type": "code",
   "execution_count": 98,
   "metadata": {},
   "outputs": [
    {
     "name": "stdout",
     "output_type": "stream",
     "text": [
      "1.0\n"
     ]
    },
    {
     "name": "stderr",
     "output_type": "stream",
     "text": [
      "/usr/local/lib/python3.6/site-packages/matplotlib/contour.py:967: UserWarning: The following kwargs were not used by contour: 'linewidth'\n",
      "  s)\n"
     ]
    },
    {
     "data": {
      "image/png": "[encoded data removed]",
      "text/plain": [
       "<matplotlib.figure.Figure at 0x1144dfe48>"
      ]
     },
     "metadata": {},
     "output_type": "display_data"
    }
   ],
   "source": [
    "# un exemple d'utilisation:\n",
    "ad=ArbreDecision(0.0)          # initialiation d'un arbre binaire qui utilisera epsilon= 0.0\n",
    "ad.train(the_set)              # construction de l'arbre à partir de la base jouet\n",
    "plot_frontiere(the_set,ad,30)  # tracé graphique de la frontière de décision\n",
    "plot2DSet(the_set)\n",
    "print(ad.accuracy(the_set))"
   ]
  },
  {
   "cell_type": "code",
   "execution_count": 89,
   "metadata": {},
   "outputs": [
    {
     "data": {
      "image/svg+xml": [
       "<?xml version=\"1.0\" encoding=\"UTF-8\" standalone=\"no\"?>\n",
       "<!DOCTYPE svg PUBLIC \"-//W3C//DTD SVG 1.1//EN\"\n",
       " \"http://www.w3.org/Graphics/SVG/1.1/DTD/svg11.dtd\">\n",
       "<!-- Generated by graphviz version 2.40.1 (20161225.0304)\n",
       " -->\n",
       "<!-- Title: %3 Pages: 1 -->\n",
       "<svg width=\"540pt\" height=\"560pt\"\n",
       " viewBox=\"0.00 0.00 540.40 560.00\" xmlns=\"http://www.w3.org/2000/svg\" xmlns:xlink=\"http://www.w3.org/1999/xlink\">\n",
       "<g id=\"graph0\" class=\"graph\" transform=\"scale(1 1) rotate(0) translate(4 556)\">\n",
       "<title>%3</title>\n",
       "<polygon fill=\"#ffffff\" stroke=\"transparent\" points=\"-4,4 -4,-556 536.3955,-556 536.3955,4 -4,4\"/>\n",
       "<!-- A -->\n",
       "<g id=\"node1\" class=\"node\">\n",
       "<title>A</title>\n",
       "<ellipse fill=\"none\" stroke=\"#000000\" cx=\"107\" cy=\"-534\" rx=\"27\" ry=\"18\"/>\n",
       "<text text-anchor=\"middle\" x=\"107\" y=\"-529.8\" font-family=\"Times,serif\" font-size=\"14.00\" fill=\"#000000\">0</text>\n",
       "</g>\n",
       "<!-- Ag -->\n",
       "<g id=\"node2\" class=\"node\">\n",
       "<title>Ag</title>\n",
       "<polygon fill=\"none\" stroke=\"#000000\" points=\"54,-466 0,-466 0,-430 54,-430 54,-466\"/>\n",
       "<text text-anchor=\"middle\" x=\"27\" y=\"-443.8\" font-family=\"Times,serif\" font-size=\"14.00\" fill=\"#000000\">&#45;1</text>\n",
       "</g>\n",
       "<!-- A&#45;&gt;Ag -->\n",
       "<g id=\"edge11\" class=\"edge\">\n",
       "<title>A&#45;&gt;Ag</title>\n",
       "<path fill=\"none\" stroke=\"#000000\" d=\"M80.4391,-529.5316C62.2485,-524.947 39.3801,-515.8377 27.709,-498 23.5262,-491.6072 22.1353,-483.7012 22.1111,-476.0778\"/>\n",
       "<polygon fill=\"#000000\" stroke=\"#000000\" points=\"25.6081,-476.2395 22.7914,-466.026 18.624,-475.7668 25.6081,-476.2395\"/>\n",
       "<text text-anchor=\"middle\" x=\"97.1455\" y=\"-486.8\" font-family=\"Times,serif\" font-size=\"14.00\" fill=\"#000000\">&lt;=2.0470909279861544</text>\n",
       "</g>\n",
       "<!-- Ad -->\n",
       "<g id=\"node3\" class=\"node\">\n",
       "<title>Ad</title>\n",
       "<ellipse fill=\"none\" stroke=\"#000000\" cx=\"188\" cy=\"-448\" rx=\"27\" ry=\"18\"/>\n",
       "<text text-anchor=\"middle\" x=\"188\" y=\"-443.8\" font-family=\"Times,serif\" font-size=\"14.00\" fill=\"#000000\">0</text>\n",
       "</g>\n",
       "<!-- A&#45;&gt;Ad -->\n",
       "<g id=\"edge12\" class=\"edge\">\n",
       "<title>A&#45;&gt;Ad</title>\n",
       "<path fill=\"none\" stroke=\"#000000\" d=\"M129.7789,-524.2356C141.8261,-518.1367 156.1243,-509.2891 166,-498 171.6198,-491.5759 176.0073,-483.4889 179.3344,-475.7023\"/>\n",
       "<polygon fill=\"#000000\" stroke=\"#000000\" points=\"182.6856,-476.738 182.9945,-466.1476 176.1488,-474.2339 182.6856,-476.738\"/>\n",
       "<text text-anchor=\"middle\" x=\"241.1978\" y=\"-486.8\" font-family=\"Times,serif\" font-size=\"14.00\" fill=\"#000000\">&gt;2.0470909279861544</text>\n",
       "</g>\n",
       "<!-- Adg -->\n",
       "<g id=\"node4\" class=\"node\">\n",
       "<title>Adg</title>\n",
       "<polygon fill=\"none\" stroke=\"#000000\" points=\"138,-380 84,-380 84,-344 138,-344 138,-380\"/>\n",
       "<text text-anchor=\"middle\" x=\"111\" y=\"-357.8\" font-family=\"Times,serif\" font-size=\"14.00\" fill=\"#000000\">1</text>\n",
       "</g>\n",
       "<!-- Ad&#45;&gt;Adg -->\n",
       "<g id=\"edge9\" class=\"edge\">\n",
       "<title>Ad&#45;&gt;Adg</title>\n",
       "<path fill=\"none\" stroke=\"#000000\" d=\"M161.6653,-443.0403C144.274,-438.2588 122.7294,-429.1164 111.709,-412 107.6842,-405.7488 106.2729,-398.0844 106.1769,-390.652\"/>\n",
       "<polygon fill=\"#000000\" stroke=\"#000000\" points=\"109.6825,-390.6608 106.7817,-380.4708 102.6948,-390.2456 109.6825,-390.6608\"/>\n",
       "<text text-anchor=\"middle\" x=\"177.6455\" y=\"-400.8\" font-family=\"Times,serif\" font-size=\"14.00\" fill=\"#000000\">&lt;=3.137819709174472</text>\n",
       "</g>\n",
       "<!-- Add -->\n",
       "<g id=\"node5\" class=\"node\">\n",
       "<title>Add</title>\n",
       "<ellipse fill=\"none\" stroke=\"#000000\" cx=\"265\" cy=\"-362\" rx=\"27\" ry=\"18\"/>\n",
       "<text text-anchor=\"middle\" x=\"265\" y=\"-357.8\" font-family=\"Times,serif\" font-size=\"14.00\" fill=\"#000000\">0</text>\n",
       "</g>\n",
       "<!-- Ad&#45;&gt;Add -->\n",
       "<g id=\"edge10\" class=\"edge\">\n",
       "<title>Ad&#45;&gt;Add</title>\n",
       "<path fill=\"none\" stroke=\"#000000\" d=\"M210.0346,-437.467C221.0871,-431.297 234.0001,-422.623 243,-412 248.5173,-405.4876 252.8744,-397.3745 256.2051,-389.591\"/>\n",
       "<polygon fill=\"#000000\" stroke=\"#000000\" points=\"259.5506,-390.643 259.8851,-380.0535 253.0199,-388.1231 259.5506,-390.643\"/>\n",
       "<text text-anchor=\"middle\" x=\"314.6978\" y=\"-400.8\" font-family=\"Times,serif\" font-size=\"14.00\" fill=\"#000000\">&gt;3.137819709174472</text>\n",
       "</g>\n",
       "<!-- Addg -->\n",
       "<g id=\"node6\" class=\"node\">\n",
       "<title>Addg</title>\n",
       "<ellipse fill=\"none\" stroke=\"#000000\" cx=\"188\" cy=\"-276\" rx=\"27\" ry=\"18\"/>\n",
       "<text text-anchor=\"middle\" x=\"188\" y=\"-271.8\" font-family=\"Times,serif\" font-size=\"14.00\" fill=\"#000000\">0</text>\n",
       "</g>\n",
       "<!-- Add&#45;&gt;Addg -->\n",
       "<g id=\"edge7\" class=\"edge\">\n",
       "<title>Add&#45;&gt;Addg</title>\n",
       "<path fill=\"none\" stroke=\"#000000\" d=\"M238.6653,-357.0403C221.274,-352.2588 199.7294,-343.1164 188.709,-326 184.5733,-319.5766 183.1971,-311.6611 183.1719,-304.0383\"/>\n",
       "<polygon fill=\"#000000\" stroke=\"#000000\" points=\"186.6686,-304.2037 183.8428,-293.9926 179.6842,-303.7372 186.6686,-304.2037\"/>\n",
       "<text text-anchor=\"middle\" x=\"254.6455\" y=\"-314.8\" font-family=\"Times,serif\" font-size=\"14.00\" fill=\"#000000\">&lt;=4.404163607702605</text>\n",
       "</g>\n",
       "<!-- Addd -->\n",
       "<g id=\"node13\" class=\"node\">\n",
       "<title>Addd</title>\n",
       "<polygon fill=\"none\" stroke=\"#000000\" points=\"369,-294 315,-294 315,-258 369,-258 369,-294\"/>\n",
       "<text text-anchor=\"middle\" x=\"342\" y=\"-271.8\" font-family=\"Times,serif\" font-size=\"14.00\" fill=\"#000000\">&#45;1</text>\n",
       "</g>\n",
       "<!-- Add&#45;&gt;Addd -->\n",
       "<g id=\"edge8\" class=\"edge\">\n",
       "<title>Add&#45;&gt;Addd</title>\n",
       "<path fill=\"none\" stroke=\"#000000\" d=\"M287.0346,-351.467C298.0871,-345.297 311.0001,-336.623 320,-326 325.5173,-319.4876 329.8744,-311.3745 333.2051,-303.591\"/>\n",
       "<polygon fill=\"#000000\" stroke=\"#000000\" points=\"336.5506,-304.643 336.8851,-294.0535 330.0199,-302.1231 336.5506,-304.643\"/>\n",
       "<text text-anchor=\"middle\" x=\"390.6978\" y=\"-314.8\" font-family=\"Times,serif\" font-size=\"14.00\" fill=\"#000000\">&gt;4.404163607702605</text>\n",
       "</g>\n",
       "<!-- Addgg -->\n",
       "<g id=\"node7\" class=\"node\">\n",
       "<title>Addgg</title>\n",
       "<polygon fill=\"none\" stroke=\"#000000\" points=\"138,-208 84,-208 84,-172 138,-172 138,-208\"/>\n",
       "<text text-anchor=\"middle\" x=\"111\" y=\"-185.8\" font-family=\"Times,serif\" font-size=\"14.00\" fill=\"#000000\">&#45;1</text>\n",
       "</g>\n",
       "<!-- Addg&#45;&gt;Addgg -->\n",
       "<g id=\"edge5\" class=\"edge\">\n",
       "<title>Addg&#45;&gt;Addgg</title>\n",
       "<path fill=\"none\" stroke=\"#000000\" d=\"M161.6653,-271.0403C144.274,-266.2588 122.7294,-257.1164 111.709,-240 107.6842,-233.7488 106.2729,-226.0844 106.1769,-218.652\"/>\n",
       "<polygon fill=\"#000000\" stroke=\"#000000\" points=\"109.6825,-218.6608 106.7817,-208.4708 102.6948,-218.2456 109.6825,-218.6608\"/>\n",
       "<text text-anchor=\"middle\" x=\"177.6455\" y=\"-228.8\" font-family=\"Times,serif\" font-size=\"14.00\" fill=\"#000000\">&lt;=3.164054085514793</text>\n",
       "</g>\n",
       "<!-- Addgd -->\n",
       "<g id=\"node8\" class=\"node\">\n",
       "<title>Addgd</title>\n",
       "<ellipse fill=\"none\" stroke=\"#000000\" cx=\"265\" cy=\"-190\" rx=\"27\" ry=\"18\"/>\n",
       "<text text-anchor=\"middle\" x=\"265\" y=\"-185.8\" font-family=\"Times,serif\" font-size=\"14.00\" fill=\"#000000\">1</text>\n",
       "</g>\n",
       "<!-- Addg&#45;&gt;Addgd -->\n",
       "<g id=\"edge6\" class=\"edge\">\n",
       "<title>Addg&#45;&gt;Addgd</title>\n",
       "<path fill=\"none\" stroke=\"#000000\" d=\"M210.0346,-265.467C221.0871,-259.297 234.0001,-250.623 243,-240 248.5173,-233.4876 252.8744,-225.3745 256.2051,-217.591\"/>\n",
       "<polygon fill=\"#000000\" stroke=\"#000000\" points=\"259.5506,-218.643 259.8851,-208.0535 253.0199,-216.1231 259.5506,-218.643\"/>\n",
       "<text text-anchor=\"middle\" x=\"314.6978\" y=\"-228.8\" font-family=\"Times,serif\" font-size=\"14.00\" fill=\"#000000\">&gt;3.164054085514793</text>\n",
       "</g>\n",
       "<!-- Addgdg -->\n",
       "<g id=\"node9\" class=\"node\">\n",
       "<title>Addgdg</title>\n",
       "<polygon fill=\"none\" stroke=\"#000000\" points=\"211,-122 157,-122 157,-86 211,-86 211,-122\"/>\n",
       "<text text-anchor=\"middle\" x=\"184\" y=\"-99.8\" font-family=\"Times,serif\" font-size=\"14.00\" fill=\"#000000\">&#45;1</text>\n",
       "</g>\n",
       "<!-- Addgd&#45;&gt;Addgdg -->\n",
       "<g id=\"edge3\" class=\"edge\">\n",
       "<title>Addgd&#45;&gt;Addgdg</title>\n",
       "<path fill=\"none\" stroke=\"#000000\" d=\"M238.372,-186.4247C218.7761,-182.2467 193.4227,-173.2546 180.709,-154 176.4907,-147.6116 175.5614,-139.707 176.1583,-132.0835\"/>\n",
       "<polygon fill=\"#000000\" stroke=\"#000000\" points=\"179.643,-132.4557 177.7528,-122.0308 172.7294,-131.3591 179.643,-132.4557\"/>\n",
       "<text text-anchor=\"middle\" x=\"250.1455\" y=\"-142.8\" font-family=\"Times,serif\" font-size=\"14.00\" fill=\"#000000\">&lt;=3.3635427000359357</text>\n",
       "</g>\n",
       "<!-- Addgdd -->\n",
       "<g id=\"node10\" class=\"node\">\n",
       "<title>Addgdd</title>\n",
       "<ellipse fill=\"none\" stroke=\"#000000\" cx=\"345\" cy=\"-104\" rx=\"27\" ry=\"18\"/>\n",
       "<text text-anchor=\"middle\" x=\"345\" y=\"-99.8\" font-family=\"Times,serif\" font-size=\"14.00\" fill=\"#000000\">1</text>\n",
       "</g>\n",
       "<!-- Addgd&#45;&gt;Addgdd -->\n",
       "<g id=\"edge4\" class=\"edge\">\n",
       "<title>Addgd&#45;&gt;Addgdd</title>\n",
       "<path fill=\"none\" stroke=\"#000000\" d=\"M287.675,-180.008C299.4573,-173.8907 313.3663,-165.0976 323,-154 328.5953,-147.5545 332.9755,-139.4612 336.3034,-131.6753\"/>\n",
       "<polygon fill=\"#000000\" stroke=\"#000000\" points=\"339.6533,-132.715 339.9683,-122.1248 333.1179,-130.2071 339.6533,-132.715\"/>\n",
       "<text text-anchor=\"middle\" x=\"397.1978\" y=\"-142.8\" font-family=\"Times,serif\" font-size=\"14.00\" fill=\"#000000\">&gt;3.3635427000359357</text>\n",
       "</g>\n",
       "<!-- Addgddg -->\n",
       "<g id=\"node11\" class=\"node\">\n",
       "<title>Addgddg</title>\n",
       "<polygon fill=\"none\" stroke=\"#000000\" points=\"295,-36 241,-36 241,0 295,0 295,-36\"/>\n",
       "<text text-anchor=\"middle\" x=\"268\" y=\"-13.8\" font-family=\"Times,serif\" font-size=\"14.00\" fill=\"#000000\">1</text>\n",
       "</g>\n",
       "<!-- Addgdd&#45;&gt;Addgddg -->\n",
       "<g id=\"edge1\" class=\"edge\">\n",
       "<title>Addgdd&#45;&gt;Addgddg</title>\n",
       "<path fill=\"none\" stroke=\"#000000\" d=\"M318.6653,-99.0403C301.274,-94.2588 279.7294,-85.1164 268.709,-68 264.6842,-61.7488 263.2729,-54.0844 263.1769,-46.652\"/>\n",
       "<polygon fill=\"#000000\" stroke=\"#000000\" points=\"266.6825,-46.6608 263.7817,-36.4708 259.6948,-46.2456 266.6825,-46.6608\"/>\n",
       "<text text-anchor=\"middle\" x=\"333.6455\" y=\"-56.8\" font-family=\"Times,serif\" font-size=\"14.00\" fill=\"#000000\">&lt;=8.555754979576758</text>\n",
       "</g>\n",
       "<!-- Addgddd -->\n",
       "<g id=\"node12\" class=\"node\">\n",
       "<title>Addgddd</title>\n",
       "<polygon fill=\"none\" stroke=\"#000000\" points=\"449,-36 395,-36 395,0 449,0 449,-36\"/>\n",
       "<text text-anchor=\"middle\" x=\"422\" y=\"-13.8\" font-family=\"Times,serif\" font-size=\"14.00\" fill=\"#000000\">&#45;1</text>\n",
       "</g>\n",
       "<!-- Addgdd&#45;&gt;Addgddd -->\n",
       "<g id=\"edge2\" class=\"edge\">\n",
       "<title>Addgdd&#45;&gt;Addgddd</title>\n",
       "<path fill=\"none\" stroke=\"#000000\" d=\"M367.0346,-93.467C378.0871,-87.297 391.0001,-78.623 400,-68 405.5173,-61.4876 409.8744,-53.3745 413.2051,-45.591\"/>\n",
       "<polygon fill=\"#000000\" stroke=\"#000000\" points=\"416.5506,-46.643 416.8851,-36.0535 410.0199,-44.1231 416.5506,-46.643\"/>\n",
       "<text text-anchor=\"middle\" x=\"470.6978\" y=\"-56.8\" font-family=\"Times,serif\" font-size=\"14.00\" fill=\"#000000\">&gt;8.555754979576758</text>\n",
       "</g>\n",
       "</g>\n",
       "</svg>\n"
      ],
      "text/plain": [
       "<graphviz.dot.Digraph at 0x1142e4898>"
      ]
     },
     "execution_count": 89,
     "metadata": {},
     "output_type": "execute_result"
    }
   ],
   "source": [
    "ad.plot()"
   ]
  },
  {
   "cell_type": "markdown",
   "metadata": {},
   "source": [
    "<font size=\"+1\">**[Q]**</font> Appliquer l'algorithme des arbres de décision à des données réelles (par exemple, celles utilisées avec les k-nn) et comparer les résultats obtenus par les 2 algorithmes.\n",
    "\n",
    "Un autre exemple d'utilisation sur une base plus grande:"
   ]
  },
  {
   "cell_type": "code",
   "execution_count": 58,
   "metadata": {
    "scrolled": true
   },
   "outputs": [
    {
     "ename": "NameError",
     "evalue": "name 'createGaussianDataset' is not defined",
     "output_type": "error",
     "traceback": [
      "\u001b[0;31m---------------------------------------------------------------------------\u001b[0m",
      "\u001b[0;31mNameError\u001b[0m                                 Traceback (most recent call last)",
      "\u001b[0;32m<ipython-input-58-931df0d929bd>\u001b[0m in \u001b[0;36m<module>\u001b[0;34m()\u001b[0m\n\u001b[0;32m----> 1\u001b[0;31m \u001b[0mautre_set\u001b[0m\u001b[0;34m=\u001b[0m\u001b[0mcreateGaussianDataset\u001b[0m\u001b[0;34m(\u001b[0m\u001b[0mnp\u001b[0m\u001b[0;34m.\u001b[0m\u001b[0marray\u001b[0m\u001b[0;34m(\u001b[0m\u001b[0;34m[\u001b[0m\u001b[0;36m1\u001b[0m\u001b[0;34m,\u001b[0m\u001b[0;36m1\u001b[0m\u001b[0;34m]\u001b[0m\u001b[0;34m)\u001b[0m\u001b[0;34m,\u001b[0m\u001b[0mnp\u001b[0m\u001b[0;34m.\u001b[0m\u001b[0marray\u001b[0m\u001b[0;34m(\u001b[0m\u001b[0;34m[\u001b[0m\u001b[0;34m[\u001b[0m\u001b[0;36m1\u001b[0m\u001b[0;34m,\u001b[0m\u001b[0;36m0\u001b[0m\u001b[0;34m]\u001b[0m\u001b[0;34m,\u001b[0m\u001b[0;34m[\u001b[0m\u001b[0;36m0\u001b[0m\u001b[0;34m,\u001b[0m\u001b[0;36m1\u001b[0m\u001b[0;34m]\u001b[0m\u001b[0;34m]\u001b[0m\u001b[0;34m)\u001b[0m\u001b[0;34m,\u001b[0m\u001b[0mnp\u001b[0m\u001b[0;34m.\u001b[0m\u001b[0marray\u001b[0m\u001b[0;34m(\u001b[0m\u001b[0;34m[\u001b[0m\u001b[0;34m-\u001b[0m\u001b[0;36m1\u001b[0m\u001b[0;34m,\u001b[0m\u001b[0;34m-\u001b[0m\u001b[0;36m1\u001b[0m\u001b[0;34m]\u001b[0m\u001b[0;34m)\u001b[0m\u001b[0;34m,\u001b[0m\u001b[0mnp\u001b[0m\u001b[0;34m.\u001b[0m\u001b[0marray\u001b[0m\u001b[0;34m(\u001b[0m\u001b[0;34m[\u001b[0m\u001b[0;34m[\u001b[0m\u001b[0;36m1\u001b[0m\u001b[0;34m,\u001b[0m\u001b[0;36m0\u001b[0m\u001b[0;34m]\u001b[0m\u001b[0;34m,\u001b[0m\u001b[0;34m[\u001b[0m\u001b[0;36m0\u001b[0m\u001b[0;34m,\u001b[0m\u001b[0;36m1\u001b[0m\u001b[0;34m]\u001b[0m\u001b[0;34m]\u001b[0m\u001b[0;34m)\u001b[0m\u001b[0;34m,\u001b[0m\u001b[0;36m100\u001b[0m\u001b[0;34m)\u001b[0m\u001b[0;34m\u001b[0m\u001b[0m\n\u001b[0m\u001b[1;32m      2\u001b[0m \u001b[0mprint\u001b[0m\u001b[0;34m(\u001b[0m\u001b[0;34m\"Taille de la base générée :\"\u001b[0m\u001b[0;34m,\u001b[0m \u001b[0mautre_set\u001b[0m\u001b[0;34m.\u001b[0m\u001b[0msize\u001b[0m\u001b[0;34m(\u001b[0m\u001b[0;34m)\u001b[0m\u001b[0;34m,\u001b[0m \u001b[0;34m\"exemples\"\u001b[0m\u001b[0;34m)\u001b[0m\u001b[0;34m\u001b[0m\u001b[0m\n\u001b[1;32m      3\u001b[0m \u001b[0madautre\u001b[0m\u001b[0;34m=\u001b[0m\u001b[0mArbreDecision\u001b[0m\u001b[0;34m(\u001b[0m\u001b[0;36m0.0\u001b[0m\u001b[0;34m)\u001b[0m\u001b[0;34m\u001b[0m\u001b[0m\n\u001b[1;32m      4\u001b[0m \u001b[0madautre\u001b[0m\u001b[0;34m.\u001b[0m\u001b[0mtrain\u001b[0m\u001b[0;34m(\u001b[0m\u001b[0mautre_set\u001b[0m\u001b[0;34m)\u001b[0m\u001b[0;34m\u001b[0m\u001b[0m\n\u001b[1;32m      5\u001b[0m \u001b[0mplot_frontiere\u001b[0m\u001b[0;34m(\u001b[0m\u001b[0mautre_set\u001b[0m\u001b[0;34m,\u001b[0m\u001b[0madautre\u001b[0m\u001b[0;34m,\u001b[0m\u001b[0;36m20\u001b[0m\u001b[0;34m)\u001b[0m\u001b[0;34m\u001b[0m\u001b[0m\n",
      "\u001b[0;31mNameError\u001b[0m: name 'createGaussianDataset' is not defined"
     ]
    }
   ],
   "source": [
    "autre_set=createGaussianDataset(np.array([1,1]),np.array([[1,0],[0,1]]),np.array([-1,-1]),np.array([[1,0],[0,1]]),100)\n",
    "print(\"Taille de la base générée :\", autre_set.size(), \"exemples\")\n",
    "adautre=ArbreDecision(0.0)          \n",
    "adautre.train(autre_set)            \n",
    "plot_frontiere(autre_set,adautre,20)\n",
    "plot2DSet(autre_set) "
   ]
  },
  {
   "cell_type": "code",
   "execution_count": null,
   "metadata": {},
   "outputs": [],
   "source": [
    "adautre.plot()"
   ]
  },
  {
   "cell_type": "markdown",
   "metadata": {},
   "source": [
    "### Améliorations (facultatif)"
   ]
  },
  {
   "cell_type": "markdown",
   "metadata": {},
   "source": [
    "Adapter votre algorithme afin de pouvoir construire des arbres de décision avec des attributs catégoriels."
   ]
  },
  {
   "cell_type": "markdown",
   "metadata": {},
   "source": [
    "## Etape 3: Expérimentation"
   ]
  },
  {
   "cell_type": "markdown",
   "metadata": {
    "collapsed": true
   },
   "source": [
    "Comparez le résultat obtenu avec ceux obtenus avec les 2 classifiers implémentés lors des TD-TME précédents. Ensuite, utilisez votre implémentation sur d'autres bases de données que vous avez déjà trouvées ou que vous pourrez trouver sur le web."
   ]
  },
  {
   "cell_type": "code",
   "execution_count": null,
   "metadata": {},
   "outputs": [],
   "source": []
  }
 ],
 "metadata": {
  "kernelspec": {
   "display_name": "Python 3",
   "language": "python",
   "name": "python3"
  },
  "language_info": {
   "codemirror_mode": {
    "name": "ipython",
    "version": 3
   },
   "file_extension": ".py",
   "mimetype": "text/x-python",
   "name": "python",
   "nbconvert_exporter": "python",
   "pygments_lexer": "ipython3",
   "version": "3.6.4"
  }
 },
 "nbformat": 4,
 "nbformat_minor": 1
}
